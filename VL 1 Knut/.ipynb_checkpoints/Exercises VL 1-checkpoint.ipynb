{
 "cells": [
  {
   "cell_type": "markdown",
   "metadata": {},
   "source": [
    "### Excercises studyletter 1"
   ]
  },
  {
   "cell_type": "markdown",
   "metadata": {},
   "source": [
    "### Exercise 1\n",
    "Import the excel students data"
   ]
  },
  {
   "cell_type": "code",
   "execution_count": 1,
   "metadata": {
    "collapsed": true
   },
   "outputs": [],
   "source": [
    "from pyper import *\n",
    "import feather\n",
    "import pandas as pd\n",
    "%matplotlib inline\n",
    "import matplotlib.pyplot as plt\n",
    "import matplotlib\n",
    "import seaborn as sns"
   ]
  },
  {
   "cell_type": "code",
   "execution_count": 2,
   "metadata": {
    "collapsed": false
   },
   "outputs": [
    {
     "data": {
      "text/plain": [
       "\"try({library(tidyr)})\\r\\nWarnmeldung:\\r\\nPaket 'tidyr' wurde unter R Version 3.3.2 erstellt \\r\\n\""
      ]
     },
     "execution_count": 2,
     "metadata": {},
     "output_type": "execute_result"
    }
   ],
   "source": [
    "r = R()\n",
    "r.has_pandas = True\n",
    "r.use_dict = True\n",
    "r('library(ggplot2)')\n",
    "r('library(xlsx)')\n",
    "r('library(feather)')\n",
    "r('library(dplyr)')\n",
    "r('library(tidyr)')"
   ]
  },
  {
   "cell_type": "code",
   "execution_count": 3,
   "metadata": {
    "collapsed": false
   },
   "outputs": [
    {
     "data": {
      "text/plain": [
       "'try({students_df<-read.xlsx(\"C:/Users/Knuts-L450/Desktop/DS Studium/10300 Datamining/VL 1 Introduction to data mining/students.xls\", sheetIndex=1, encoding=c(\"UTF-8\"))})\\r\\n'"
      ]
     },
     "execution_count": 3,
     "metadata": {},
     "output_type": "execute_result"
    }
   ],
   "source": [
    "r('students_df<-read.xlsx(\"C:/Users/Knuts-L450/Desktop/DS Studium/10300 Datamining/VL 1 Introduction to data mining/students.xls\", sheetIndex=1, encoding=c(\"UTF-8\"))')"
   ]
  },
  {
   "cell_type": "code",
   "execution_count": 4,
   "metadata": {
    "collapsed": false
   },
   "outputs": [
    {
     "name": "stdout",
     "output_type": "stream",
     "text": [
      "> try({head(students_df)})\r\n",
      "  Semester           Name             Course Mark Attended\r\n",
      "1  FSS2010  Alex Krausche Database Systems I  1.3       13\r\n",
      "2  FSS2010   Tanja Becker Database Systems I  2.0       12\r\n",
      "3  FSS2010 Mariano Selina Database Systems I  1.7        5\r\n",
      "4  FSS2010   Otto Blacher Database Systems I  2.3       13\r\n",
      "5  FSS2010   Frank Fester Database Systems I  2.0       13\r\n",
      "\n"
     ]
    }
   ],
   "source": [
    "print(r('head(students_df)'))"
   ]
  },
  {
   "cell_type": "code",
   "execution_count": 5,
   "metadata": {
    "collapsed": false
   },
   "outputs": [
    {
     "data": {
      "text/plain": [
       "'> print(\"R command at time: 1487532942.0931685\")\\r\\n[1] \"R command at time: 1487532942.0931685\"\\r\\n> try({sapply(subset(students_df, select=Semester:Course), as.factor)})\\r\\n      Semester  Name              Course                \\r\\n [1,] \"FSS2010\" \"Alex Krausche\"   \"Database Systems I\"  \\r\\n [2,] \"FSS2010\" \"Tanja Becker\"    \"Database Systems I\"  \\r\\n [3,] \"FSS2010\" \"Mariano Selina\"  \"Database Systems I\"  \\r\\n [4,] \"FSS2010\" \"Otto Blacher\"    \"Database Systems I\"  \\r\\n [5,] \"FSS2010\" \"Frank Fester\"    \"Database Systems I\"  \\r\\n'"
      ]
     },
     "execution_count": 5,
     "metadata": {},
     "output_type": "execute_result"
    }
   ],
   "source": [
    "r('sapply(subset(students_df, select=Semester:Course), as.factor)')\n"
   ]
  },
  {
   "cell_type": "code",
   "execution_count": 6,
   "metadata": {
    "collapsed": false
   },
   "outputs": [
    {
     "data": {
      "text/plain": [
       "'[38,] \"FSS2010\" \"Avid Morvita\"    \"Electronic Markets\"  \\r\\n[39,] \"FSS2010\" \"Steve Queck\"     \"Electronic Markets\"  \\r\\n[40,] \"FSS2010\" \"Michaela Martke\" \"Electronic Markets\"  \\r\\n[41,] \"FSS2010\" \"Ulrich Gester\"   \"Electronic Markets\"  \\r\\n> print(\"R command at time: 1487532942.1151695\")\\r\\n[1] \"R command at time: 1487532942.1151695\"\\r\\n> try({levels_marks<-as.character(unique(select(arrange(students_df, Mark)), Mark))})\\r\\nError in unique.data.frame(select(arrange(students_df, Mark)), Mark) : \\r\\n  Objekt \\'Mark\\' nicht gefunden\\r\\n> print(\"R command at time: 1487532942.1251702\")\\r\\n[1] \"R command at time: 1487532942.1251702\"\\r\\n> try({students_df$Mark<-ordered(students_df$Mark)})\\r\\n> print(\"R command at time: 1487532942.1261704\")\\r\\n[1] \"R command at time: 1487532942.1261704\"\\r\\n> try({levels(students_df$Mark)<-levels_marks})\\r\\nError in try({ : Objekt \\'levels_marks\\' nicht gefunden\\r\\n'"
      ]
     },
     "execution_count": 6,
     "metadata": {},
     "output_type": "execute_result"
    }
   ],
   "source": [
    "r('levels_marks<-as.character(unique(select(arrange(students_df, Mark)), Mark))')\n",
    "r('students_df$Mark<-ordered(students_df$Mark)')\n",
    "r('levels(students_df$Mark)<-levels_marks')"
   ]
  },
  {
   "cell_type": "code",
   "execution_count": 7,
   "metadata": {
    "collapsed": false
   },
   "outputs": [
    {
     "name": "stdout",
     "output_type": "stream",
     "text": [
      "try({class(students_df$Mark)})\r\n",
      "[1] \"ordered\" \"factor\" \r\n",
      "\n"
     ]
    }
   ],
   "source": [
    "print(r('class(students_df$Mark)'))"
   ]
  },
  {
   "cell_type": "code",
   "execution_count": 8,
   "metadata": {
    "collapsed": false
   },
   "outputs": [
    {
     "data": {
      "text/plain": [
       "'try({write_feather(students_df, path)})\\r\\n'"
      ]
     },
     "execution_count": 8,
     "metadata": {},
     "output_type": "execute_result"
    }
   ],
   "source": [
    "r('path<-c(\"C:/Users/Knuts-L450/Desktop/DS Studium/10300 Datamining/VL 1 Introduction to data mining/students.feather\")')\n",
    "# Use feather instead of pyper to pass data from larger dataframes between Python and R and forget Rpy ever existed\n",
    "r('write_feather(students_df, path)')"
   ]
  },
  {
   "cell_type": "code",
   "execution_count": 9,
   "metadata": {
    "collapsed": false
   },
   "outputs": [
    {
     "data": {
      "text/plain": [
       "'try({df <- read_feather(path)})\\r\\n'"
      ]
     },
     "execution_count": 9,
     "metadata": {},
     "output_type": "execute_result"
    }
   ],
   "source": [
    "r('df <- read_feather(path)')"
   ]
  },
  {
   "cell_type": "code",
   "execution_count": 10,
   "metadata": {
    "collapsed": false
   },
   "outputs": [
    {
     "data": {
      "text/html": [
       "<div>\n",
       "<table border=\"1\" class=\"dataframe\">\n",
       "  <thead>\n",
       "    <tr style=\"text-align: right;\">\n",
       "      <th></th>\n",
       "      <th>Semester</th>\n",
       "      <th>Name</th>\n",
       "      <th>Course</th>\n",
       "      <th>Mark</th>\n",
       "      <th>Attended</th>\n",
       "    </tr>\n",
       "  </thead>\n",
       "  <tbody>\n",
       "    <tr>\n",
       "      <th>0</th>\n",
       "      <td>FSS2010</td>\n",
       "      <td>Alex Krausche</td>\n",
       "      <td>Database Systems I</td>\n",
       "      <td>1.3</td>\n",
       "      <td>13.0</td>\n",
       "    </tr>\n",
       "    <tr>\n",
       "      <th>1</th>\n",
       "      <td>FSS2010</td>\n",
       "      <td>Tanja Becker</td>\n",
       "      <td>Database Systems I</td>\n",
       "      <td>2</td>\n",
       "      <td>12.0</td>\n",
       "    </tr>\n",
       "    <tr>\n",
       "      <th>2</th>\n",
       "      <td>FSS2010</td>\n",
       "      <td>Mariano Selina</td>\n",
       "      <td>Database Systems I</td>\n",
       "      <td>1.7</td>\n",
       "      <td>5.0</td>\n",
       "    </tr>\n",
       "    <tr>\n",
       "      <th>3</th>\n",
       "      <td>FSS2010</td>\n",
       "      <td>Otto Blacher</td>\n",
       "      <td>Database Systems I</td>\n",
       "      <td>2.3</td>\n",
       "      <td>13.0</td>\n",
       "    </tr>\n",
       "    <tr>\n",
       "      <th>4</th>\n",
       "      <td>FSS2010</td>\n",
       "      <td>Frank Fester</td>\n",
       "      <td>Database Systems I</td>\n",
       "      <td>2</td>\n",
       "      <td>13.0</td>\n",
       "    </tr>\n",
       "  </tbody>\n",
       "</table>\n",
       "</div>"
      ],
      "text/plain": [
       "  Semester            Name              Course Mark  Attended\n",
       "0  FSS2010   Alex Krausche  Database Systems I  1.3      13.0\n",
       "1  FSS2010    Tanja Becker  Database Systems I    2      12.0\n",
       "2  FSS2010  Mariano Selina  Database Systems I  1.7       5.0\n",
       "3  FSS2010    Otto Blacher  Database Systems I  2.3      13.0\n",
       "4  FSS2010    Frank Fester  Database Systems I    2      13.0"
      ]
     },
     "execution_count": 10,
     "metadata": {},
     "output_type": "execute_result"
    }
   ],
   "source": [
    "path = \"C:/Users/Knuts-L450/Desktop/DS Studium/10300 Datamining/VL 1 Introduction to data mining/students.feather\"\n",
    "students_df = feather.read_dataframe(path)\n",
    "students_df.head()"
   ]
  },
  {
   "cell_type": "code",
   "execution_count": 11,
   "metadata": {
    "collapsed": false
   },
   "outputs": [
    {
     "data": {
      "text/plain": [
       "Semester    category\n",
       "Name        category\n",
       "Course      category\n",
       "Mark        category\n",
       "Attended     float64\n",
       "dtype: object"
      ]
     },
     "execution_count": 11,
     "metadata": {},
     "output_type": "execute_result"
    }
   ],
   "source": [
    "students_df.dtypes"
   ]
  },
  {
   "cell_type": "markdown",
   "metadata": {},
   "source": [
    "### Exercise 1.1\n",
    "What is the most common mark that has been given in FSS2010?\n",
    "(Hint: To find the answer filter the examples and draw a histogram afterward.)"
   ]
  },
  {
   "cell_type": "code",
   "execution_count": 12,
   "metadata": {
    "collapsed": false
   },
   "outputs": [],
   "source": [
    "marks = students_df.ix[students_df.Semester==\"FSS2010\",\"Mark\"].value_counts()#.reset_index()\n",
    "#marks.columns = [\"Mark\", \"Count\"]\n",
    "#marks"
   ]
  },
  {
   "cell_type": "code",
   "execution_count": 13,
   "metadata": {
    "collapsed": false
   },
   "outputs": [
    {
     "data": {
      "text/plain": [
       "<matplotlib.axes._subplots.AxesSubplot at 0xa07ff60>"
      ]
     },
     "execution_count": 13,
     "metadata": {},
     "output_type": "execute_result"
    },
    {
     "data": {
      "image/png": "[encoded data removed]",
      "text/plain": [
       "<matplotlib.figure.Figure at 0xa07f5f8>"
      ]
     },
     "metadata": {},
     "output_type": "display_data"
    }
   ],
   "source": [
    "marks.plot(kind=\"barh\")"
   ]
  },
  {
   "cell_type": "code",
   "execution_count": 14,
   "metadata": {
    "collapsed": false
   },
   "outputs": [
    {
     "data": {
      "text/plain": [
       "<matplotlib.axes._subplots.AxesSubplot at 0xa4b4c88>"
      ]
     },
     "execution_count": 14,
     "metadata": {},
     "output_type": "execute_result"
    },
    {
     "data": {
      "image/png": "[encoded data removed]",
      "text/plain": [
       "<matplotlib.figure.Figure at 0xa4a3a20>"
      ]
     },
     "metadata": {},
     "output_type": "display_data"
    }
   ],
   "source": [
    "import numpy as np\n",
    "students_df.ix[students_df.Semester==\"FSS2010\",\"Mark\"].astype(float).plot(kind=\"hist\", bins=np.arange(1,5,0.3))"
   ]
  },
  {
   "cell_type": "markdown",
   "metadata": {},
   "source": [
    "### Exercise 1.2\n",
    "Is there a correlation between the mark and the number of attended classes?\n",
    "Please determine the answer visually using a scatter plot."
   ]
  },
  {
   "cell_type": "code",
   "execution_count": 15,
   "metadata": {
    "collapsed": false
   },
   "outputs": [
    {
     "data": {
      "text/plain": [
       "<matplotlib.axes._subplots.AxesSubplot at 0xa552cf8>"
      ]
     },
     "execution_count": 15,
     "metadata": {},
     "output_type": "execute_result"
    },
    {
     "data": {
      "image/png": "[encoded data removed]",
      "text/plain": [
       "<matplotlib.figure.Figure at 0xa4b4a58>"
      ]
     },
     "metadata": {},
     "output_type": "display_data"
    }
   ],
   "source": [
    "students_df['Mark'] = students_df['Mark'].astype(float)\n",
    "students_df.plot(kind='scatter', x=\"Mark\", y=\"Attended\")"
   ]
  },
  {
   "cell_type": "code",
   "execution_count": 16,
   "metadata": {
    "collapsed": false
   },
   "outputs": [
    {
     "data": {
      "text/plain": [
       "<matplotlib.axes._subplots.AxesSubplot at 0xb667940>"
      ]
     },
     "execution_count": 16,
     "metadata": {},
     "output_type": "execute_result"
    },
    {
     "data": {
      "image/png": "[encoded data removed]",
      "text/plain": [
       "<matplotlib.figure.Figure at 0xa556a90>"
      ]
     },
     "metadata": {},
     "output_type": "display_data"
    }
   ],
   "source": [
    "import seaborn as sns\n",
    "sns.regplot(x=students_df.Mark, y=students_df.Attended)"
   ]
  },
  {
   "cell_type": "code",
   "execution_count": 17,
   "metadata": {
    "collapsed": false
   },
   "outputs": [
    {
     "name": "stdout",
     "output_type": "stream",
     "text": [
      "try({data.frame(cor(select(students_df, Mark, Attended)))})\r\n",
      "               Mark   Attended\r\n",
      "Mark      1.0000000 -0.2746284\r\n",
      "Attended -0.2746284  1.0000000\r\n",
      "\n"
     ]
    }
   ],
   "source": [
    "r('students_df$Mark<-as.numeric(students_df$Mark)')\n",
    "print(r('data.frame(cor(select(students_df, Mark, Attended)))'))"
   ]
  },
  {
   "cell_type": "code",
   "execution_count": 18,
   "metadata": {
    "collapsed": false
   },
   "outputs": [
    {
     "name": "stdout",
     "output_type": "stream",
     "text": [
      "try({summary(lm(Mark ~ Attended, data=students_df))})\r\n",
      "\r\n",
      "Call:\r\n",
      "lm(formula = Mark ~ Attended, data = students_df)\r\n",
      "\r\n",
      "Residuals:\r\n",
      "    Min      1Q  Median      3Q     Max \r\n",
      "-4.7711 -1.5781 -0.2798  1.3167  5.3167 \r\n",
      "\r\n",
      "Coefficients:\r\n",
      "            Estimate Std. Error t value Pr(>|t|)    \r\n",
      "(Intercept)   8.5606     1.7230   4.969 1.38e-05 ***\r\n",
      "Attended     -0.2982     0.1672  -1.784   0.0823 .  \r\n",
      "---\r\n",
      "Signif. codes:  0 '***' 0.001 '**' 0.01 '*' 0.05 '.' 0.1 ' ' 1\r\n",
      "\r\n",
      "Residual standard error: 2.763 on 39 degrees of freedom\r\n",
      "Multiple R-squared:  0.07542,\tAdjusted R-squared:  0.05171 \r\n",
      "F-statistic: 3.181 on 1 and 39 DF,  p-value: 0.08227\r\n",
      "\r\n",
      "\n"
     ]
    }
   ],
   "source": [
    "print(r('summary(lm(Mark ~ Attended, data=students_df))'))"
   ]
  },
  {
   "cell_type": "markdown",
   "metadata": {},
   "source": [
    "There may be a weak negative correlation, but there is no statistically significant linear relationship. As the relationship is face valid, we may take the regression plot as suggestive of that we may find a negative relationship between mark and attended classes with a larger sample. "
   ]
  },
  {
   "cell_type": "markdown",
   "metadata": {},
   "source": [
    "### Execise 1.3 \n",
    "Does this correlation between the number of attended classes and the final grading hold for all students?\n",
    "(Hint: Find the answer by aggregating the examples by student and use a\n",
    "scatter chart afterwards.)"
   ]
  },
  {
   "cell_type": "code",
   "execution_count": 19,
   "metadata": {
    "collapsed": false
   },
   "outputs": [
    {
     "data": {
      "text/html": [
       "<div>\n",
       "<table border=\"1\" class=\"dataframe\">\n",
       "  <thead>\n",
       "    <tr style=\"text-align: right;\">\n",
       "      <th></th>\n",
       "      <th>Median Mark per Student</th>\n",
       "      <th>Attended Classes Total</th>\n",
       "    </tr>\n",
       "  </thead>\n",
       "  <tbody>\n",
       "    <tr>\n",
       "      <th>Median Mark per Student</th>\n",
       "      <td>1.000000</td>\n",
       "      <td>-0.144883</td>\n",
       "    </tr>\n",
       "    <tr>\n",
       "      <th>Attended Classes Total</th>\n",
       "      <td>-0.144883</td>\n",
       "      <td>1.000000</td>\n",
       "    </tr>\n",
       "  </tbody>\n",
       "</table>\n",
       "</div>"
      ],
      "text/plain": [
       "                         Median Mark per Student  Attended Classes Total\n",
       "Median Mark per Student                 1.000000               -0.144883\n",
       "Attended Classes Total                 -0.144883                1.000000"
      ]
     },
     "execution_count": 19,
     "metadata": {},
     "output_type": "execute_result"
    },
    {
     "data": {
      "image/png": "[encoded data removed]",
      "text/plain": [
       "<matplotlib.figure.Figure at 0xb656eb8>"
      ]
     },
     "metadata": {},
     "output_type": "display_data"
    }
   ],
   "source": [
    "students_df_agg = students_df.groupby(\"Name\").agg({'Mark':np.median, 'Attended':np.sum}).reset_index()\n",
    "students_df_agg.columns = ['Name', 'Median Mark per Student', 'Attended Classes Total']\n",
    "\n",
    "sns.regplot(x=students_df_agg['Median Mark per Student'], y=students_df_agg['Attended Classes Total'])\n",
    "students_df_agg.corr()"
   ]
  },
  {
   "cell_type": "markdown",
   "metadata": {},
   "source": [
    "This may hold true for all students, but the relationship apperas to be very weak. "
   ]
  },
  {
   "cell_type": "markdown",
   "metadata": {},
   "source": [
    "### Exercise 1.4\n",
    "Using visualization techniques, find out which attribute combinations and\n",
    "(approximate) value ranges determine the type of Iris flower?"
   ]
  },
  {
   "cell_type": "code",
   "execution_count": 20,
   "metadata": {
    "collapsed": false
   },
   "outputs": [
    {
     "data": {
      "text/html": [
       "<div>\n",
       "<table border=\"1\" class=\"dataframe\">\n",
       "  <thead>\n",
       "    <tr style=\"text-align: right;\">\n",
       "      <th></th>\n",
       "      <th>Sepal.Length</th>\n",
       "      <th>Sepal.Width</th>\n",
       "      <th>Petal.Length</th>\n",
       "      <th>Petal.Width</th>\n",
       "      <th>Species</th>\n",
       "    </tr>\n",
       "  </thead>\n",
       "  <tbody>\n",
       "    <tr>\n",
       "      <th>0</th>\n",
       "      <td>5.1</td>\n",
       "      <td>3.5</td>\n",
       "      <td>1.4</td>\n",
       "      <td>0.2</td>\n",
       "      <td>b'setosa'</td>\n",
       "    </tr>\n",
       "    <tr>\n",
       "      <th>1</th>\n",
       "      <td>4.9</td>\n",
       "      <td>3.0</td>\n",
       "      <td>1.4</td>\n",
       "      <td>0.2</td>\n",
       "      <td>b'setosa'</td>\n",
       "    </tr>\n",
       "    <tr>\n",
       "      <th>2</th>\n",
       "      <td>4.7</td>\n",
       "      <td>3.2</td>\n",
       "      <td>1.3</td>\n",
       "      <td>0.2</td>\n",
       "      <td>b'setosa'</td>\n",
       "    </tr>\n",
       "    <tr>\n",
       "      <th>3</th>\n",
       "      <td>4.6</td>\n",
       "      <td>3.1</td>\n",
       "      <td>1.5</td>\n",
       "      <td>0.2</td>\n",
       "      <td>b'setosa'</td>\n",
       "    </tr>\n",
       "    <tr>\n",
       "      <th>4</th>\n",
       "      <td>5.0</td>\n",
       "      <td>3.6</td>\n",
       "      <td>1.4</td>\n",
       "      <td>0.2</td>\n",
       "      <td>b'setosa'</td>\n",
       "    </tr>\n",
       "  </tbody>\n",
       "</table>\n",
       "</div>"
      ],
      "text/plain": [
       "    Sepal.Length    Sepal.Width    Petal.Length    Petal.Width     Species\n",
       "0             5.1            3.5             1.4            0.2  b'setosa'\n",
       "1             4.9            3.0             1.4            0.2  b'setosa'\n",
       "2             4.7            3.2             1.3            0.2  b'setosa'\n",
       "3             4.6            3.1             1.5            0.2  b'setosa'\n",
       "4             5.0            3.6             1.4            0.2  b'setosa'"
      ]
     },
     "execution_count": 20,
     "metadata": {},
     "output_type": "execute_result"
    }
   ],
   "source": [
    "r.iris.head()"
   ]
  },
  {
   "cell_type": "code",
   "execution_count": 21,
   "metadata": {
    "collapsed": false
   },
   "outputs": [
    {
     "data": {
      "text/plain": [
       " Sepal.Length     float64\n",
       " Sepal.Width      float64\n",
       " Petal.Length     float64\n",
       " Petal.Width      float64\n",
       "Species            object\n",
       "dtype: object"
      ]
     },
     "execution_count": 21,
     "metadata": {},
     "output_type": "execute_result"
    }
   ],
   "source": [
    "r.iris.dtypes"
   ]
  },
  {
   "cell_type": "code",
   "execution_count": 22,
   "metadata": {
    "collapsed": false
   },
   "outputs": [
    {
     "data": {
      "text/plain": [
       "'try({class(iris$Species)})\\r\\n[1] \"factor\"\\r\\n'"
      ]
     },
     "execution_count": 22,
     "metadata": {},
     "output_type": "execute_result"
    }
   ],
   "source": [
    "r('class(iris$Species)')"
   ]
  },
  {
   "cell_type": "code",
   "execution_count": 23,
   "metadata": {
    "collapsed": false,
    "scrolled": true
   },
   "outputs": [
    {
     "data": {
      "text/plain": [
       "array([[<matplotlib.axes._subplots.AxesSubplot object at 0x000000000B764940>,\n",
       "        <matplotlib.axes._subplots.AxesSubplot object at 0x000000000BCD5278>],\n",
       "       [<matplotlib.axes._subplots.AxesSubplot object at 0x000000000BC66A20>,\n",
       "        <matplotlib.axes._subplots.AxesSubplot object at 0x000000000BD40AC8>]], dtype=object)"
      ]
     },
     "execution_count": 23,
     "metadata": {},
     "output_type": "execute_result"
    },
    {
     "data": {
      "image/png": "[encoded data removed]",
      "text/plain": [
       "<matplotlib.figure.Figure at 0xb7737f0>"
      ]
     },
     "metadata": {},
     "output_type": "display_data"
    }
   ],
   "source": [
    "r('path<-c(\"C:/Users/Knuts-L450/Desktop/DS Studium/10300 Datamining/VL 1 Introduction to data mining/iris.feather\")')\n",
    "r('write_feather(iris, path)')\n",
    "path = \"C:/Users/Knuts-L450/Desktop/DS Studium/10300 Datamining/VL 1 Introduction to data mining/iris.feather\"\n",
    "iris = feather.read_dataframe(path)\n",
    "\n",
    "iris.columns[0:3]\n",
    "iris.boxplot(column=list(iris.columns[0:3]), by=\"Species\")\n",
    "\n",
    "#g = sns.FacetGrid(tips, col=\"time\",  row=\"smoker\")\n",
    "#g = g.map(sns.boxplot, \"total_bill\", bins=bins, color=\"r\")\n",
    "#sns.boxplot(x=\"day\", y=\"total_bill\", hue=\"sex\", data=iris)"
   ]
  },
  {
   "cell_type": "code",
   "execution_count": 35,
   "metadata": {
    "collapsed": false
   },
   "outputs": [
    {
     "data": {
      "text/plain": [
       "<matplotlib.axes._subplots.AxesSubplot at 0xc932fd0>"
      ]
     },
     "execution_count": 35,
     "metadata": {},
     "output_type": "execute_result"
    },
    {
     "data": {
      "image/png": "[encoded data removed]",
      "text/plain": [
       "<matplotlib.figure.Figure at 0xc91c908>"
      ]
     },
     "metadata": {},
     "output_type": "display_data"
    }
   ],
   "source": [
    "sns.boxplot(y=iris['Sepal.Length'], x=iris.Species)"
   ]
  },
  {
   "cell_type": "code",
   "execution_count": 36,
   "metadata": {
    "collapsed": false
   },
   "outputs": [
    {
     "data": {
      "text/plain": [
       "<matplotlib.axes._subplots.AxesSubplot at 0xca18ba8>"
      ]
     },
     "execution_count": 36,
     "metadata": {},
     "output_type": "execute_result"
    },
    {
     "data": {
      "image/png": "[encoded data removed]",
      "text/plain": [
       "<matplotlib.figure.Figure at 0xc9e4828>"
      ]
     },
     "metadata": {},
     "output_type": "display_data"
    }
   ],
   "source": [
    "sns.boxplot(y=iris['Sepal.Width'], x=iris.Species)"
   ]
  },
  {
   "cell_type": "code",
   "execution_count": 37,
   "metadata": {
    "collapsed": false
   },
   "outputs": [
    {
     "data": {
      "text/plain": [
       "<matplotlib.axes._subplots.AxesSubplot at 0xcaec780>"
      ]
     },
     "execution_count": 37,
     "metadata": {},
     "output_type": "execute_result"
    },
    {
     "data": {
      "image/png": "[encoded data removed]",
      "text/plain": [
       "<matplotlib.figure.Figure at 0xc913ba8>"
      ]
     },
     "metadata": {},
     "output_type": "display_data"
    }
   ],
   "source": [
    "sns.boxplot(y=iris['Petal.Length'], x=iris.Species)"
   ]
  },
  {
   "cell_type": "markdown",
   "metadata": {},
   "source": [
    "Setosa has a petal length lower than 2 cm, versicolor has a petal length with a range that is lower than the one of virginica. Most records can be distinguished as belonging to versicolor with a Petal length of longer than 3.5 cm but lower than 5 cm whereas virginica tends to have longer versicolor than 5 cm. "
   ]
  },
  {
   "cell_type": "code",
   "execution_count": 56,
   "metadata": {
    "collapsed": false
   },
   "outputs": [
    {
     "data": {
      "text/plain": [
       "array([[<matplotlib.axes._subplots.AxesSubplot object at 0x000000000C6FB358>,\n",
       "        <matplotlib.axes._subplots.AxesSubplot object at 0x000000000C31F3C8>],\n",
       "       [<matplotlib.axes._subplots.AxesSubplot object at 0x000000000C824EB8>,\n",
       "        <matplotlib.axes._subplots.AxesSubplot object at 0x000000000C7F6400>]], dtype=object)"
      ]
     },
     "execution_count": 56,
     "metadata": {},
     "output_type": "execute_result"
    },
    {
     "data": {
      "image/png": "[encoded data removed]",
      "text/plain": [
       "<matplotlib.figure.Figure at 0xc313c18>"
      ]
     },
     "metadata": {},
     "output_type": "display_data"
    }
   ],
   "source": [
    "iris_sub = iris.ix[(iris.Species==\"versicolor\")|(iris.Species==\"virginica\"),[\"Species\", \"Petal.Length\"]]\n",
    "iris_sub.hist(by=\"Species\", alpha=0.5)"
   ]
  },
  {
   "cell_type": "markdown",
   "metadata": {},
   "source": [
    "### What are the average values for each attribute for each Iris type?"
   ]
  },
  {
   "cell_type": "code",
   "execution_count": 69,
   "metadata": {
    "collapsed": false
   },
   "outputs": [
    {
     "data": {
      "text/plain": [
       "'try({iris_gr<-summarise_each(iris_gr, funs(mean))})\\r\\n'"
      ]
     },
     "execution_count": 69,
     "metadata": {},
     "output_type": "execute_result"
    }
   ],
   "source": [
    "r('iris_gr<-group_by(iris, Species)')\n",
    "(r('iris_gr<-summarise_each(iris_gr, funs(mean))'))"
   ]
  },
  {
   "cell_type": "code",
   "execution_count": 70,
   "metadata": {
    "collapsed": false
   },
   "outputs": [
    {
     "data": {
      "text/html": [
       "<div>\n",
       "<table border=\"1\" class=\"dataframe\">\n",
       "  <thead>\n",
       "    <tr style=\"text-align: right;\">\n",
       "      <th></th>\n",
       "      <th>Species</th>\n",
       "      <th>Sepal.Length</th>\n",
       "      <th>Sepal.Width</th>\n",
       "      <th>Petal.Length</th>\n",
       "      <th>Petal.Width</th>\n",
       "    </tr>\n",
       "  </thead>\n",
       "  <tbody>\n",
       "    <tr>\n",
       "      <th>0</th>\n",
       "      <td>b'setosa'</td>\n",
       "      <td>5.006</td>\n",
       "      <td>3.428</td>\n",
       "      <td>1.462</td>\n",
       "      <td>0.246</td>\n",
       "    </tr>\n",
       "    <tr>\n",
       "      <th>1</th>\n",
       "      <td>b'versicolor'</td>\n",
       "      <td>5.936</td>\n",
       "      <td>2.770</td>\n",
       "      <td>4.260</td>\n",
       "      <td>1.326</td>\n",
       "    </tr>\n",
       "    <tr>\n",
       "      <th>2</th>\n",
       "      <td>b'virginica'</td>\n",
       "      <td>6.588</td>\n",
       "      <td>2.974</td>\n",
       "      <td>5.552</td>\n",
       "      <td>2.026</td>\n",
       "    </tr>\n",
       "  </tbody>\n",
       "</table>\n",
       "</div>"
      ],
      "text/plain": [
       "         Species   Sepal.Length    Sepal.Width    Petal.Length    Petal.Width \n",
       "0      b'setosa'           5.006          3.428           1.462          0.246\n",
       "1  b'versicolor'           5.936          2.770           4.260          1.326\n",
       "2   b'virginica'           6.588          2.974           5.552          2.026"
      ]
     },
     "execution_count": 70,
     "metadata": {},
     "output_type": "execute_result"
    }
   ],
   "source": [
    "r.iris_gr"
   ]
  },
  {
   "cell_type": "code",
   "execution_count": null,
   "metadata": {
    "collapsed": true
   },
   "outputs": [],
   "source": []
  }
 ],
 "metadata": {
  "kernelspec": {
   "display_name": "Python 3",
   "language": "python",
   "name": "python3"
  },
  "language_info": {
   "codemirror_mode": {
    "name": "ipython",
    "version": 3
   },
   "file_extension": ".py",
   "mimetype": "text/x-python",
   "name": "python",
   "nbconvert_exporter": "python",
   "pygments_lexer": "ipython3",
   "version": "3.6.0"
  }
 },
 "nbformat": 4,
 "nbformat_minor": 0
}
