{
 "cells": [
  {
   "cell_type": "markdown",
   "metadata": {},
   "source": [
    "# Preface"
   ]
  },
  {
   "cell_type": "code",
   "execution_count": 189,
   "metadata": {
    "collapsed": false
   },
   "outputs": [],
   "source": [
    "# IMPORTS\n",
    "import os\n",
    "import string\n",
    "from nltk import word_tokenize\n",
    "from nltk.stem.porter import PorterStemmer\n",
    "import numpy as np\n",
    "import pandas as pd\n",
    "from sklearn.feature_extraction.text import CountVectorizer, TfidfTransformer, TfidfVectorizer\n",
    "from sklearn.cluster import KMeans\n",
    "from sklearn.naive_bayes import MultinomialNB\n",
    "from sklearn.pipeline import Pipeline\n",
    "from sklearn.model_selection import GridSearchCV\n",
    "from sklearn.neighbors import KNeighborsClassifier\n",
    "from sklearn.tree import DecisionTreeClassifier\n",
    "from sklearn.linear_model import LogisticRegression\n",
    "from sklearn.svm import SVC\n",
    "from matplotlib import pyplot as plt\n",
    "from collections import Counter\n",
    "plt.style.use(\"ggplot\")\n",
    "%matplotlib inline"
   ]
  },
  {
   "cell_type": "markdown",
   "metadata": {},
   "source": [
    "# Task 5.1: News Article - Preprocessing\n",
    "\n",
    "\n",
    "In a first step, we are going to process news articles in order to try to apply clustering algorithms. The news article corpus-30docs includes 30 news articles from the domains of science, religion and politics (10 documents for each domain). Import the documents into your process and vectorize them using stopword removal and stemming (Porter). If necessary, transform all tokens to their lower cased version. How large are the resulting document vectors?"
   ]
  },
  {
   "cell_type": "code",
   "execution_count": 2,
   "metadata": {
    "collapsed": false
   },
   "outputs": [
    {
     "name": "stdout",
     "output_type": "stream",
     "text": [
      "(30, 3027)\n"
     ]
    }
   ],
   "source": [
    "# Prep work\n",
    "data_dir = \"../data/\"\n",
    "doc_dirs = [\"sci.space\", \"soc.religion.christian\", \"talk.politics.guns\"]\n",
    "doc_paths = []\n",
    "\n",
    "# Get a list of all (relative) filepaths\n",
    "for d in doc_dirs:\n",
    "    for f in os.listdir(os.path.join(data_dir, d)):\n",
    "        doc_paths.append(os.path.join(data_dir, d, f))\n",
    "    \n",
    "# Create a custom Porter Stemmer that suits sklearn\n",
    "class PortStem(object):\n",
    "    def __init__(self):\n",
    "        self.ps = PorterStemmer()\n",
    "    def __call__(self, doc):\n",
    "        return [self.ps.stem(word) for word in word_tokenize(doc)]\n",
    "\n",
    "# Initiate a new vectorizer\n",
    "vectorizer = CountVectorizer(input=\"filename\",\n",
    "                             stop_words=\"english\", \n",
    "                             tokenizer=PortStem())\n",
    "\n",
    "# creating the bag of words\n",
    "bow = vectorizer.fit_transform(doc_paths)\n",
    "\n",
    "# evaluate num of features\n",
    "print(bow.shape)"
   ]
  },
  {
   "cell_type": "markdown",
   "metadata": {},
   "source": [
    "The resulting Dataframe has **3027** attributes identified. Unfortunately the combination of `PorterStemmer()` and `word_tokenize` did not remove punctuation or numbers. Therefore a more advanced Tokenizer shall be used that:\n",
    "1. replaces punctuation and numbers to blanks\n",
    "2. stems based on the Porter algorithm"
   ]
  },
  {
   "cell_type": "code",
   "execution_count": 3,
   "metadata": {
    "collapsed": false
   },
   "outputs": [
    {
     "name": "stdout",
     "output_type": "stream",
     "text": [
      "(30, 2588)\n"
     ]
    }
   ],
   "source": [
    "# Create a more advanced tokenizer\n",
    "class PortStemNoPunctNum(object):\n",
    "    def __init__(self):\n",
    "        self.ps = PorterStemmer()\n",
    "    def __call__(self, doc):\n",
    "        return [self.ps.stem(word)\n",
    "                for word \n",
    "                in word_tokenize(\n",
    "                doc.translate(\n",
    "                    str.maketrans(string.punctuation + \"0123456789\",' '*len(string.punctuation + \"0123456789\"))))]\n",
    "    \n",
    "# Initiate a new (advanced) vectorizer\n",
    "vectorizer_adv = CountVectorizer(input=\"filename\",\n",
    "                                 stop_words=\"english\",\n",
    "                                 tokenizer=PortStemNoPunctNum())\n",
    "\n",
    "# creating the bag of words\n",
    "bow_adv = vectorizer_adv.fit_transform(doc_paths)\n",
    "\n",
    "# evaluate num of features\n",
    "print(bow_adv.shape)"
   ]
  },
  {
   "cell_type": "markdown",
   "metadata": {},
   "source": [
    "The new Bag-of-Words only contains features without punctuation(`!\"#$%&\\'()*+,-./:;<=>?@[\\\\]^_`{|}~`) and numbers. **The overall number of features is 2588 features**"
   ]
  },
  {
   "cell_type": "markdown",
   "metadata": {},
   "source": [
    "---\n",
    "# Task 5.2: News Article - Clustering\n",
    "Having imported the documents and transformed them into vectors, apply a k-means clustering using k = 3. How many documents ended up in the wrong cluster? What can you do to improve the clustering? "
   ]
  },
  {
   "cell_type": "code",
   "execution_count": 201,
   "metadata": {
    "collapsed": false
   },
   "outputs": [
    {
     "data": {
      "text/plain": [
       "array([[1, 2, 2, 2, 2, 2, 2, 1, 2, 2],\n",
       "       [0, 0, 0, 0, 0, 0, 0, 0, 0, 0],\n",
       "       [2, 2, 1, 2, 2, 2, 2, 2, 2, 1]], dtype=int32)"
      ]
     },
     "execution_count": 201,
     "metadata": {},
     "output_type": "execute_result"
    }
   ],
   "source": [
    "# generating a TF-IDF \n",
    "tfidf_trans = TfidfTransformer()\n",
    "tfidf = tfidf_trans.fit_transform(bow_adv)\n",
    "\n",
    "# Initating, fitting the k-means learner & predicting\n",
    "km3 = KMeans(n_clusters=3, random_state=42)\n",
    "y_pred = km3.fit_predict(tfidf)\n",
    "y_pred.reshape(3, 10)"
   ]
  },
  {
   "cell_type": "markdown",
   "metadata": {},
   "source": [
    "All the samples from the religion domain are put in the \"right\" cluster whereas k-means fails for the scientific and politcal cluster. Independent from assigning a 1 or a 2 to either one of the clusters one cluster has the \"accuracy\" of 80% and the other an \"accuracy\" of 20%."
   ]
  },
  {
   "cell_type": "code",
   "execution_count": 211,
   "metadata": {
    "collapsed": false
   },
   "outputs": [
    {
     "data": {
      "text/plain": [
       "array([[2, 2, 0, 0, 0, 0, 0, 0, 0, 0],\n",
       "       [0, 0, 0, 0, 1, 0, 0, 0, 0, 0],\n",
       "       [0, 0, 0, 0, 0, 0, 0, 0, 0, 0]], dtype=int32)"
      ]
     },
     "execution_count": 211,
     "metadata": {},
     "output_type": "execute_result"
    }
   ],
   "source": [
    "# Compare to clustering based on raw tf\n",
    "y_pred_tf = km3.fit_predict(bow_adv)\n",
    "y_pred_tf.reshape(3, 10)"
   ]
  },
  {
   "cell_type": "markdown",
   "metadata": {},
   "source": [
    "Clustering on the raw term frequency leads to an overall decrease of accuracy."
   ]
  },
  {
   "cell_type": "markdown",
   "metadata": {},
   "source": [
    "---\n",
    "# Task 5.3: News Article - Improved Clustering\n",
    "Does the distribution of frequent terms help you to further improve the clustering by using any of the prune methods of the Process Documents from File operator?"
   ]
  },
  {
   "cell_type": "code",
   "execution_count": 389,
   "metadata": {
    "collapsed": false
   },
   "outputs": [
    {
     "data": {
      "image/png": "[encoded data removed]",
      "text/plain": [
       "<matplotlib.figure.Figure at 0x14715fe48>"
      ]
     },
     "metadata": {},
     "output_type": "display_data"
    }
   ],
   "source": [
    "# Create new word vectorizer that stores '1' for non-zero TFs\n",
    "binary_vectorizer = CountVectorizer(input=\"filename\",\n",
    "                                    stop_words=\"english\",\n",
    "                                    tokenizer=PortStemNoPunctNum(),\n",
    "                                    binary=True\n",
    "                                   )\n",
    "# create binary bag-of-words \n",
    "bin_tf = binary_vectorizer.fit_transform(doc_paths)\n",
    "\n",
    "df_min_2 = np.apply_along_axis(np.sum, axis=0, arr=bin_tf.toarray())[\n",
    "    np.apply_along_axis(np.sum, axis=0, arr=bin_tf.toarray()) > 1\n",
    "]\n",
    "\n",
    "# evaluate document frequency for words that occur more than once\n",
    "plt.rcParams[\"figure.figsize\"] = [14, 6]\n",
    "d = np.diff(np.unique(df_min_2)).min()\n",
    "left_of_first_bin = df_min_2.min() - float(d)/2\n",
    "right_of_last_bin = df_min_2.max() + float(d)/2\n",
    "plt.hist(df_min_2, np.arange(left_of_first_bin, right_of_last_bin + d, d))\n",
    "plt.xticks(range(np.min(df_min_2), np.max(df_min_2)+1))\n",
    "plt.title(\"Number of distinct Documents per Term T  $ \\\\forall T: 1\\leq DF(T) $ \")\n",
    "plt.savefig(\"../figures/textmining/distinct-documents-per-term.png\")\n",
    "plt.show()"
   ]
  },
  {
   "cell_type": "markdown",
   "metadata": {},
   "source": [
    "As the histogram shows the majority of terms are only present in two distinct documents. One could try to limit the number of DF into a certain range - cutting of the domain specific stopwords as well as very common words."
   ]
  },
  {
   "cell_type": "code",
   "execution_count": 390,
   "metadata": {
    "collapsed": false
   },
   "outputs": [
    {
     "data": {
      "image/png": "[encoded data removed]",
      "text/plain": [
       "<matplotlib.figure.Figure at 0x14430be80>"
      ]
     },
     "metadata": {},
     "output_type": "display_data"
    }
   ],
   "source": [
    "# Create new word vectorizer that preprunes terms \n",
    "# that occur in less than 4 or more than 10 documents\n",
    "bin_vectorizer_pruned = CountVectorizer(input=\"filename\",\n",
    "                                        stop_words=\"english\",\n",
    "                                        tokenizer=PortStemNoPunctNum(),\n",
    "                                        min_df = 3,\n",
    "                                        max_df = 10,\n",
    "                                        binary = True\n",
    "                                        )\n",
    "\n",
    "# create binary bag-of-words \n",
    "bin_tf = bin_vectorizer_pruned.fit_transform(doc_paths)\n",
    "\n",
    "df_3_to_10 = np.apply_along_axis(np.sum, axis=0, arr=bin_tf.toarray())\n",
    "\n",
    "# evaluate document frequency for words that occur more than once\n",
    "plt.rcParams[\"figure.figsize\"] = [14, 6]\n",
    "d = np.diff(np.unique(df_3_to_10)).min()\n",
    "left_of_first_bin = df_3_to_10.min() - float(d)/2\n",
    "right_of_last_bin = df_3_to_10.max() + float(d)/2\n",
    "plt.hist(df_3_to_10, np.arange(left_of_first_bin, right_of_last_bin + d, d))\n",
    "plt.xticks(range(np.min(df_3_to_10), np.max(df_3_to_10)+1))\n",
    "plt.title(\"Number of distinct Documents per Term T  $ \\\\forall T: 3 \\leq DF(T) \\leq 10$ \")\n",
    "plt.savefig(\"../figures/textmining/distinct-documents-per-term-pruned.png\")\n",
    "plt.show()"
   ]
  },
  {
   "cell_type": "code",
   "execution_count": 404,
   "metadata": {
    "collapsed": false
   },
   "outputs": [
    {
     "name": "stdout",
     "output_type": "stream",
     "text": [
      "TF:\n",
      "[[2 2 0 0 0 0 0 0 0 0]\n",
      " [0 0 0 0 0 0 0 0 0 0]\n",
      " [0 0 0 0 0 0 0 0 0 1]]\n",
      "\n",
      "TFIDF:\n",
      "[[2 2 1 2 2 2 2 2 1 2]\n",
      " [0 0 0 0 0 0 0 0 0 0]\n",
      " [1 1 1 1 1 1 1 1 1 1]]\n"
     ]
    }
   ],
   "source": [
    "vectorizer_pruned = CountVectorizer(input=\"filename\",\n",
    "                                    stop_words=\"english\",\n",
    "                                    tokenizer=PortStemNoPunctNum(),\n",
    "                                    min_df = 3,\n",
    "                                    max_df = 10\n",
    "                                   )\n",
    "\n",
    "# create a bag of words (TF) on pruned vectorizer\n",
    "bow_tf_pruned = vectorizer_pruned.fit_transform(doc_paths)\n",
    "\n",
    "# create a bag of words (TF-IDF) on pruned vectorizer\n",
    "bow_tfidf_pruned = tfidf_trans.fit_transform(bow_tf_pruned)\n",
    "\n",
    "# Compare to clustering based on raw tf\n",
    "y_pred_df_pruned_tf = km3.fit_predict(bow_tf_pruned)\n",
    "y_pred_df_pruned_tfidf = km3.fit_predict(bow_tfidf_pruned)\n",
    "\n",
    "# Evaluate clustering after pruning\n",
    "print(\"TF:\\n{}\\n\\nTFIDF:\\n{}\"\n",
    "      .format(y_pred_df_pruned_tf.reshape((3,10)), y_pred_df_pruned_tfidf.reshape((3, 10))))"
   ]
  },
  {
   "cell_type": "markdown",
   "metadata": {},
   "source": [
    "**Pruning to a document frequency in the range of 3 to 10 and calculating the TFIDF improves the clustering significantly**. The overall \"accuracy\" of the clustering is around 93% (2 out of 30 articles are misclassified)."
   ]
  },
  {
   "cell_type": "markdown",
   "metadata": {},
   "source": [
    "---\n",
    "# Task 5.4: Job Postings: Preprocessing\n",
    "\n",
    "In a second step, we will focus on the classification of job postings. The jobpostings.xls  file contains 500 descriptions of job postings belonging to 30 different job categories like sales and real estate. Our main goal is to learn a classification model, which is capable to predict the correct category for a new job posting. Therefore, import the data into RapidMiner using the Read Excel and the Process Document from Data operators. Convert the textual description into a vector by applying tokenization and other preprocessing steps. In order to learn a good classification model, have a look at the generated attributes and basic setup for the preprocessing which removes noisy and misleading tokens.\n",
    "\n",
    "\n",
    "# Task 5.5: Job Postings - Classification\n",
    "What levels of accuracy can you reach applying different classification methods and preprocessing settings?"
   ]
  },
  {
   "cell_type": "markdown",
   "metadata": {},
   "source": [
    "## Preprocessing"
   ]
  },
  {
   "cell_type": "code",
   "execution_count": 4,
   "metadata": {
    "collapsed": true
   },
   "outputs": [],
   "source": [
    "# Load the data\n",
    "df_jobs = pd.read_excel(\"../data/JobPostings.xls\")\n",
    "job_desc = df_jobs[\"JobText\"].values\n",
    "job_cat = df_jobs[\"Category\"].values"
   ]
  },
  {
   "cell_type": "code",
   "execution_count": 7,
   "metadata": {
    "collapsed": false
   },
   "outputs": [
    {
     "data": {
      "text/plain": [
       "Counter({'accounting/finance': 14,\n",
       "         'admin/office': 24,\n",
       "         'architect/engineer/CAD': 4,\n",
       "         'art/media/design': 10,\n",
       "         'business/mgmt': 3,\n",
       "         'customer service': 18,\n",
       "         'education/teaching': 18,\n",
       "         'et cetera': 4,\n",
       "         'food/beverage/hospitality': 61,\n",
       "         'general labor': 45,\n",
       "         'healthcare': 30,\n",
       "         'human resource': 3,\n",
       "         'internet engineering': 1,\n",
       "         'legal/paralegal': 3,\n",
       "         'manufacturing': 8,\n",
       "         'marketing/advertising/PR': 13,\n",
       "         'nonprofit': 13,\n",
       "         'real estate': 7,\n",
       "         'retail/wholesale': 25,\n",
       "         'sales': 47,\n",
       "         'salon/spa/fitness': 23,\n",
       "         'security': 6,\n",
       "         'skilled trades/artisan': 48,\n",
       "         'software/QA/DBA/etc': 25,\n",
       "         'systems/networking': 3,\n",
       "         'technical support': 6,\n",
       "         'transportation': 18,\n",
       "         'tv/film/video/radio': 8,\n",
       "         'web/HTML/info design': 6,\n",
       "         'writing/editing': 5})"
      ]
     },
     "execution_count": 7,
     "metadata": {},
     "output_type": "execute_result"
    }
   ],
   "source": [
    "# get an overview about distribution of categories\n",
    "Counter(job_cat)"
   ]
  },
  {
   "cell_type": "markdown",
   "metadata": {},
   "source": [
    "Since the category **`internet engineering`** only occurs one, it can not be used for supervised learning and is therefore ommitted from the dataset."
   ]
  },
  {
   "cell_type": "code",
   "execution_count": null,
   "metadata": {
    "collapsed": true
   },
   "outputs": [],
   "source": [
    "df_jobs = df_jobs.drop(df_jobs[\n",
    "        df_jobs[\"Category\"] == \"internet engineering\"\n",
    "    ].index)\n",
    "job_desc = df_jobs[\"JobText\"].values\n",
    "job_cat = df_jobs[\"Category\"].values"
   ]
  },
  {
   "cell_type": "markdown",
   "metadata": {},
   "source": [
    "## Naive Bayes"
   ]
  },
  {
   "cell_type": "code",
   "execution_count": 56,
   "metadata": {
    "collapsed": false
   },
   "outputs": [
    {
     "name": "stdout",
     "output_type": "stream",
     "text": [
      "Fitting 10 folds for each of 18 candidates, totalling 180 fits\n"
     ]
    },
    {
     "name": "stderr",
     "output_type": "stream",
     "text": [
      "/Users/joshuagorner/anaconda/lib/python3.5/site-packages/sklearn/model_selection/_split.py:581: Warning: The least populated class in y has only 3 members, which is too few. The minimum number of groups for any class cannot be less than n_splits=10.\n",
      "  % (min_groups, self.n_splits)), Warning)\n",
      "[Parallel(n_jobs=-1)]: Done  34 tasks      | elapsed:   11.5s\n",
      "[Parallel(n_jobs=-1)]: Done 180 out of 180 | elapsed:  1.2min finished\n"
     ]
    }
   ],
   "source": [
    "# NAIVE-BAYES classification pipeline\n",
    "pl_clf_jobs = Pipeline([('tfidf', TfidfVectorizer(tokenizer=PortStemNoPunctNum())),\n",
    "                        ('clf', MultinomialNB()),\n",
    "                       ])\n",
    "\n",
    "# Parameter grid for hyper parameter tuning (of preprocessing)\n",
    "param_grid = [{'tfidf__stop_words' : [None, 'english'],\n",
    "               'tfidf__strip_accents' : [None, 'ascii', 'unicode'],\n",
    "               'tfidf__tokenizer' : [None, PortStem(), PortStemNoPunctNum()]\n",
    "              }]\n",
    "\n",
    "# create grid search\n",
    "gs_clf_jobs = GridSearchCV(pl_clf_jobs,\n",
    "                           param_grid=param_grid,\n",
    "                           cv=10,\n",
    "                           n_jobs=-1,\n",
    "                           verbose=True\n",
    "                          )\n",
    "\n",
    "# run grid search\n",
    "_ = gs_clf_jobs.fit(job_desc, job_cat)"
   ]
  },
  {
   "cell_type": "code",
   "execution_count": 65,
   "metadata": {
    "collapsed": false
   },
   "outputs": [
    {
     "name": "stdout",
     "output_type": "stream",
     "text": [
      "Naive Bayes reaches a 10 fold CV score of 0.30522088353413657\n"
     ]
    }
   ],
   "source": [
    "# Retrieving information about the best model\n",
    "nb_score = pd.DataFrame(gs_clf_jobs.cv_results_).iloc[gs_clf_jobs.best_index_, :][\"mean_test_score\"]\n",
    "print(\"Naive Bayes reaches a 10 fold CV score of {}\".format(nb_score))"
   ]
  },
  {
   "cell_type": "markdown",
   "metadata": {},
   "source": [
    "## KNN \n",
    "<span style=\"color:#AAAAAA\">Due to computationally expensiveness the parameter `stop_words`, `strip_accents` and `tokenizer` are preset</span>"
   ]
  },
  {
   "cell_type": "code",
   "execution_count": 186,
   "metadata": {
    "collapsed": false
   },
   "outputs": [
    {
     "name": "stdout",
     "output_type": "stream",
     "text": [
      "Fitting 10 folds for each of 16 candidates, totalling 160 fits\n"
     ]
    },
    {
     "name": "stderr",
     "output_type": "stream",
     "text": [
      "/Users/joshuagorner/anaconda/lib/python3.5/site-packages/sklearn/model_selection/_split.py:581: Warning: The least populated class in y has only 3 members, which is too few. The minimum number of groups for any class cannot be less than n_splits=10.\n",
      "  % (min_groups, self.n_splits)), Warning)\n",
      "[Parallel(n_jobs=-1)]: Done  34 tasks      | elapsed:   18.2s\n",
      "[Parallel(n_jobs=-1)]: Done 160 out of 160 | elapsed:  1.3min finished\n"
     ]
    }
   ],
   "source": [
    "# KNN classification pipeline\n",
    "pl_clf_jobs_knn = Pipeline([('tfidf', TfidfVectorizer(tokenizer=PortStemNoPunctNum())),\n",
    "                        ('clf', KNeighborsClassifier()),\n",
    "                       ])\n",
    "\n",
    "# Parameter grid for hyper parameter tuning \n",
    "param_grid_knn = [{'tfidf__stop_words' : ['english'],\n",
    "                   'tfidf__strip_accents' : ['ascii'],\n",
    "                   'tfidf__tokenizer' : [PortStemNoPunctNum()],\n",
    "                   'tfidf__ngram_range' : [(1,1), (2,2), (3,3), (4,4)],\n",
    "                   'clf__n_neighbors' : [1,5,6,7],\n",
    "                   'clf__metric' : ['cosine']\n",
    "                  }]\n",
    "\n",
    "# create grid search\n",
    "gs_clf_jobs_knn = GridSearchCV(pl_clf_jobs_knn,\n",
    "                               param_grid=param_grid_knn,\n",
    "                               cv=10,\n",
    "                               n_jobs=-1,\n",
    "                               verbose=True\n",
    "                              )\n",
    "\n",
    "# run grid search\n",
    "_ = gs_clf_jobs_knn.fit(job_desc, job_cat)"
   ]
  },
  {
   "cell_type": "code",
   "execution_count": 187,
   "metadata": {
    "collapsed": false
   },
   "outputs": [
    {
     "name": "stdout",
     "output_type": "stream",
     "text": [
      "K Nearest Neighbor reaches a 10 fold CV score of 0.4779116465863454\n"
     ]
    }
   ],
   "source": [
    "# Retrieving information about the best model\n",
    "knn_score = pd.DataFrame(gs_clf_jobs_knn.cv_results_).iloc[gs_clf_jobs_knn.best_index_, :][\"mean_test_score\"]\n",
    "print(\"K Nearest Neighbor reaches a 10 fold CV score of {}\".format(knn_score))"
   ]
  },
  {
   "cell_type": "markdown",
   "metadata": {},
   "source": [
    "## Decision Tree\n",
    "<span style=\"color:#AAAAAA\">Due to computationally expensiveness the parameter `stop_words` is preset</span>"
   ]
  },
  {
   "cell_type": "code",
   "execution_count": 90,
   "metadata": {
    "collapsed": false
   },
   "outputs": [
    {
     "name": "stdout",
     "output_type": "stream",
     "text": [
      "Fitting 10 folds for each of 81 candidates, totalling 810 fits\n"
     ]
    },
    {
     "name": "stderr",
     "output_type": "stream",
     "text": [
      "/Users/joshuagorner/anaconda/lib/python3.5/site-packages/sklearn/model_selection/_split.py:581: Warning: The least populated class in y has only 3 members, which is too few. The minimum number of groups for any class cannot be less than n_splits=10.\n",
      "  % (min_groups, self.n_splits)), Warning)\n",
      "[Parallel(n_jobs=-1)]: Done  34 tasks      | elapsed:   11.5s\n",
      "[Parallel(n_jobs=-1)]: Done 184 tasks      | elapsed:  1.3min\n",
      "[Parallel(n_jobs=-1)]: Done 434 tasks      | elapsed:  3.2min\n",
      "[Parallel(n_jobs=-1)]: Done 784 tasks      | elapsed:  5.8min\n",
      "[Parallel(n_jobs=-1)]: Done 810 out of 810 | elapsed:  6.1min finished\n"
     ]
    }
   ],
   "source": [
    "# Decision Tree classification pipeline\n",
    "pl_clf_jobs_dt = Pipeline([('tfidf', TfidfVectorizer(tokenizer=PortStemNoPunctNum())),\n",
    "                           ('clf', DecisionTreeClassifier()),\n",
    "                          ])\n",
    "\n",
    "# Parameter grid for hyper parameter tuning \n",
    "param_grid_dt = [{'tfidf__stop_words' : ['english'],\n",
    "                  'tfidf__strip_accents' : [None, 'ascii', 'unicode'],\n",
    "                  'tfidf__tokenizer' : [None, PortStem(), PortStemNoPunctNum()],\n",
    "                  'clf__max_depth' : [10, 15, 20, 25, 30, 35, 40, 45, 50]\n",
    "                 }]\n",
    "\n",
    "# create grid search\n",
    "gs_clf_jobs_dt = GridSearchCV(pl_clf_jobs_dt,\n",
    "                              param_grid=param_grid_dt,\n",
    "                              cv=10,\n",
    "                              n_jobs=-1,\n",
    "                              verbose=True\n",
    "                              )\n",
    "\n",
    "# run grid search\n",
    "_ = gs_clf_jobs_dt.fit(job_desc, job_cat)"
   ]
  },
  {
   "cell_type": "code",
   "execution_count": 93,
   "metadata": {
    "collapsed": false
   },
   "outputs": [
    {
     "name": "stdout",
     "output_type": "stream",
     "text": [
      "Decision Tree Classifier reaches a 10 fold CV score of 0.39759036144578314\n"
     ]
    }
   ],
   "source": [
    "# Retrieving information about the best model\n",
    "dt_score = pd.DataFrame(gs_clf_jobs_dt.cv_results_).iloc[gs_clf_jobs_dt.best_index_, :][\"mean_test_score\"]\n",
    "print(\"Decision Tree Classifier reaches a 10 fold CV score of {}\".format(dt_score))"
   ]
  },
  {
   "cell_type": "markdown",
   "metadata": {},
   "source": [
    "## Logistic Regression"
   ]
  },
  {
   "cell_type": "code",
   "execution_count": 142,
   "metadata": {
    "collapsed": false
   },
   "outputs": [
    {
     "name": "stdout",
     "output_type": "stream",
     "text": [
      "Fitting 10 folds for each of 32 candidates, totalling 320 fits\n"
     ]
    },
    {
     "name": "stderr",
     "output_type": "stream",
     "text": [
      "/Users/joshuagorner/anaconda/lib/python3.5/site-packages/sklearn/model_selection/_split.py:581: Warning: The least populated class in y has only 3 members, which is too few. The minimum number of groups for any class cannot be less than n_splits=10.\n",
      "  % (min_groups, self.n_splits)), Warning)\n",
      "[Parallel(n_jobs=-1)]: Done  34 tasks      | elapsed:   11.9s\n",
      "[Parallel(n_jobs=-1)]: Done 184 tasks      | elapsed:  1.0min\n",
      "[Parallel(n_jobs=-1)]: Done 320 out of 320 | elapsed:  1.9min finished\n"
     ]
    }
   ],
   "source": [
    "# Logistic Regression classification pipeline\n",
    "pl_clf_jobs_lr = Pipeline([('tfidf', TfidfVectorizer(tokenizer=PortStemNoPunctNum())),\n",
    "                           ('clf', LogisticRegression()),\n",
    "                          ])\n",
    "\n",
    "# Parameter grid for hyper parameter tuning \n",
    "param_grid_lr = [{'tfidf__stop_words' : [None, 'english'],\n",
    "                  'tfidf__strip_accents' : [None, 'ascii'],\n",
    "                  'tfidf__tokenizer' : [None, PortStemNoPunctNum()],\n",
    "                  'clf__penalty' : [\"l1\", \"l2\"],\n",
    "                  'clf__C' : [1.0, 10.0, 100.0,]\n",
    "                 }]\n",
    "\n",
    "# create grid search\n",
    "gs_clf_jobs_lr = GridSearchCV(pl_clf_jobs_lr,\n",
    "                              param_grid=param_grid_lr,\n",
    "                              cv=10,\n",
    "                              n_jobs=-1,\n",
    "                              verbose=True\n",
    "                              )\n",
    "\n",
    "# run grid search\n",
    "_ = gs_clf_jobs_lr.fit(job_desc, job_cat)"
   ]
  },
  {
   "cell_type": "code",
   "execution_count": 143,
   "metadata": {
    "collapsed": false
   },
   "outputs": [
    {
     "name": "stdout",
     "output_type": "stream",
     "text": [
      "Logistic Regression Classifier reaches a 10 fold CV score of 0.6144578313253012\n"
     ]
    }
   ],
   "source": [
    "# Retrieving information about the best model\n",
    "lr_score = pd.DataFrame(gs_clf_jobs_lr.cv_results_).iloc[gs_clf_jobs_lr.best_index_, :][\"mean_test_score\"]\n",
    "print(\"Logistic Regression Classifier reaches a 10 fold CV score of {}\".format(lr_score))"
   ]
  },
  {
   "cell_type": "markdown",
   "metadata": {},
   "source": [
    "## Support Vector Machines"
   ]
  },
  {
   "cell_type": "code",
   "execution_count": 180,
   "metadata": {
    "collapsed": false
   },
   "outputs": [
    {
     "name": "stdout",
     "output_type": "stream",
     "text": [
      "Fitting 10 folds for each of 72 candidates, totalling 720 fits\n"
     ]
    },
    {
     "name": "stderr",
     "output_type": "stream",
     "text": [
      "/Users/joshuagorner/anaconda/lib/python3.5/site-packages/sklearn/model_selection/_split.py:581: Warning: The least populated class in y has only 3 members, which is too few. The minimum number of groups for any class cannot be less than n_splits=10.\n",
      "  % (min_groups, self.n_splits)), Warning)\n",
      "[Parallel(n_jobs=-1)]: Done  34 tasks      | elapsed:   13.1s\n",
      "[Parallel(n_jobs=-1)]: Done 184 tasks      | elapsed:  1.1min\n",
      "[Parallel(n_jobs=-1)]: Done 434 tasks      | elapsed:  2.5min\n",
      "[Parallel(n_jobs=-1)]: Done 720 out of 720 | elapsed:  4.2min finished\n"
     ]
    }
   ],
   "source": [
    "# SVM classification pipeline\n",
    "pl_clf_jobs_svm = Pipeline([('tfidf', TfidfVectorizer(tokenizer=PortStemNoPunctNum())),\n",
    "                            ('clf', SVC()),\n",
    "                           ])\n",
    "\n",
    "# Parameter grid for hyper parameter tuning \n",
    "param_grid_svm = [{'tfidf__stop_words' : [None, 'english'],\n",
    "                   'tfidf__strip_accents' : [None, 'ascii'],\n",
    "                   'tfidf__tokenizer' : [None, PortStemNoPunctNum()],\n",
    "                   'clf__gamma' : [1.0/64, 2.0/64, 3.0/64],\n",
    "                   'clf__C' : [10.0, 100.0, 1000.0]\n",
    "                  }]\n",
    "\n",
    "# create grid search\n",
    "gs_clf_jobs_svm = GridSearchCV(pl_clf_jobs_svm,\n",
    "                               param_grid=param_grid_svm,\n",
    "                               cv=10,\n",
    "                               n_jobs=-1,\n",
    "                               verbose=True\n",
    "                              )\n",
    "\n",
    "# run grid search\n",
    "_ = gs_clf_jobs_svm.fit(job_desc, job_cat)"
   ]
  },
  {
   "cell_type": "code",
   "execution_count": 183,
   "metadata": {
    "collapsed": false
   },
   "outputs": [
    {
     "name": "stdout",
     "output_type": "stream",
     "text": [
      "SVM Classifier reaches a 10 fold CV score of 0.5481927710843374\n"
     ]
    }
   ],
   "source": [
    "# Retrieving information about the best model\n",
    "svm_score = pd.DataFrame(gs_clf_jobs_svm.cv_results_).iloc[gs_clf_jobs_svm.best_index_, :][\"mean_test_score\"]\n",
    "print(\"SVM Classifier reaches a 10 fold CV score of {}\".format(svm_score))"
   ]
  },
  {
   "cell_type": "markdown",
   "metadata": {},
   "source": [
    "## Classification Results"
   ]
  },
  {
   "cell_type": "code",
   "execution_count": 256,
   "metadata": {
    "collapsed": false
   },
   "outputs": [
    {
     "data": {
      "image/png": "[encoded data removed]",
      "text/plain": [
       "<matplotlib.figure.Figure at 0x11bdfa278>"
      ]
     },
     "metadata": {},
     "output_type": "display_data"
    }
   ],
   "source": [
    "# to be refactored:\n",
    "test_cols = [\"split0_test_score\",\n",
    "             \"split1_test_score\",\n",
    "             \"split2_test_score\",\n",
    "             \"split3_test_score\",\n",
    "             \"split4_test_score\",\n",
    "             \"split5_test_score\",\n",
    "             \"split6_test_score\",\n",
    "             \"split7_test_score\",\n",
    "             \"split8_test_score\",\n",
    "             \"split9_test_score\"]\n",
    "\n",
    "test_nb = pd.DataFrame(gs_clf_jobs.cv_results_).ix[gs_clf_jobs.best_index_, test_cols].values.astype(float)\n",
    "test_knn = pd.DataFrame(gs_clf_jobs_knn.cv_results_).ix[gs_clf_jobs_knn.best_index_, test_cols].values.astype(float)\n",
    "test_dt = pd.DataFrame(gs_clf_jobs_dt.cv_results_).ix[gs_clf_jobs_dt.best_index_, test_cols].values.astype(float)\n",
    "test_lr = pd.DataFrame(gs_clf_jobs_lr.cv_results_).ix[gs_clf_jobs_lr.best_index_, test_cols].values.astype(float)\n",
    "test_svm = pd.DataFrame(gs_clf_jobs_svm.cv_results_).ix[gs_clf_jobs_svm.best_index_, test_cols].values.astype(float)\n",
    "\n",
    "# Setting up the plot\n",
    "plt.rcParams[\"figure.figsize\"] = (14, 7)\n",
    "plt.boxplot([test_nb, test_knn, test_dt, test_lr, test_svm])\n",
    "plt.xticks([1,2,3,4,5], \n",
    "           [\"Naive Bayes\", \"K Nearest Neighbor\", \"Decision Tree\", \"Logistic Regression\", \"Support Vector Machine\"])\n",
    "plt.title(\"Accuracy Distribution of 10-fold test scores by Classifier\")\n",
    "plt.savefig(\"../figures/textmining/test-accuracy-kfold-distribution-by-classifier.png\")\n",
    "plt.show()"
   ]
  }
 ],
 "metadata": {
  "kernelspec": {
   "display_name": "Python [Root]",
   "language": "python",
   "name": "Python [Root]"
  },
  "language_info": {
   "codemirror_mode": {
    "name": "ipython",
    "version": 3
   },
   "file_extension": ".py",
   "mimetype": "text/x-python",
   "name": "python",
   "nbconvert_exporter": "python",
   "pygments_lexer": "ipython3",
   "version": "3.5.2"
  }
 },
 "nbformat": 4,
 "nbformat_minor": 0
}
