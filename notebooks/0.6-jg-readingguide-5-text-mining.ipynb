{
 "cells": [
  {
   "cell_type": "markdown",
   "metadata": {},
   "source": [
    "# Preface"
   ]
  },
  {
   "cell_type": "code",
   "execution_count": 218,
   "metadata": {
    "collapsed": true
   },
   "outputs": [],
   "source": [
    "# IMPORTS\n",
    "import os\n",
    "import string\n",
    "from nltk import word_tokenize\n",
    "from nltk.stem.porter import PorterStemmer\n",
    "import numpy as np\n",
    "import pandas as pd\n",
    "from sklearn.feature_extraction.text import CountVectorizer, TfidfTransformer\n",
    "from sklearn.cluster import KMeans\n",
    "from matplotlib import pyplot as plt\n",
    "plt.style.use(\"ggplot\")\n",
    "%matplotlib inline"
   ]
  },
  {
   "cell_type": "markdown",
   "metadata": {},
   "source": [
    "# Task 5.1: News Article - Preprocessing\n",
    "\n",
    "\n",
    "In a first step, we are going to process news articles in order to try to apply clustering algorithms. The news article corpus-30docs includes 30 news articles from the domains of science, religion and politics (10 documents for each domain). Import the documents into your process and vectorize them using stopword removal and stemming (Porter). If necessary, transform all tokens to their lower cased version. How large are the resulting document vectors?"
   ]
  },
  {
   "cell_type": "code",
   "execution_count": 123,
   "metadata": {
    "collapsed": false
   },
   "outputs": [
    {
     "name": "stdout",
     "output_type": "stream",
     "text": [
      "(30, 3027)\n"
     ]
    }
   ],
   "source": [
    "# Prep work\n",
    "data_dir = \"../data/\"\n",
    "doc_dirs = [\"sci.space\", \"soc.religion.christian\", \"talk.politics.guns\"]\n",
    "doc_paths = []\n",
    "\n",
    "# Get a list of all (relative) filepaths\n",
    "for d in doc_dirs:\n",
    "    for f in os.listdir(os.path.join(data_dir, d)):\n",
    "        doc_paths.append(os.path.join(data_dir, d, f))\n",
    "    \n",
    "# Create a custom Porter Stemmer that suits sklearn\n",
    "class PortStem(object):\n",
    "    def __init__(self):\n",
    "        self.ps = PorterStemmer()\n",
    "    def __call__(self, doc):\n",
    "        return [self.ps.stem(word) for word in word_tokenize(doc)]\n",
    "\n",
    "# Initiate a new vectorizer\n",
    "vectorizer = CountVectorizer(input=\"filename\",\n",
    "                             stop_words=\"english\", \n",
    "                             tokenizer=PortStem())\n",
    "\n",
    "# creating the bag of words\n",
    "bow = vectorizer.fit_transform(doc_paths)\n",
    "\n",
    "# evaluate num of features\n",
    "print(bow.shape)"
   ]
  },
  {
   "cell_type": "markdown",
   "metadata": {},
   "source": [
    "The resulting Dataframe has **3027** attributes identified. Unfortunately the combination of `PorterStemmer()` and `word_tokenize` did not remove punctuation or numbers. Therefore a more advanced Tokenizer shall be used that:\n",
    "1. replaces punctuation and numbers to blanks\n",
    "2. stems based on the Porter algorithm"
   ]
  },
  {
   "cell_type": "code",
   "execution_count": 359,
   "metadata": {
    "collapsed": false
   },
   "outputs": [
    {
     "name": "stdout",
     "output_type": "stream",
     "text": [
      "(30, 2588)\n"
     ]
    }
   ],
   "source": [
    "# Create a more advanced tokenizer\n",
    "class PortStemNoPunctNum(object):\n",
    "    def __init__(self):\n",
    "        self.ps = PorterStemmer()\n",
    "    def __call__(self, doc):\n",
    "        return [porter.stem(word)\n",
    "                for word \n",
    "                in word_tokenize(\n",
    "                doc.translate(\n",
    "                    str.maketrans(string.punctuation + \"0123456789\",' '*len(string.punctuation + \"0123456789\"))))]\n",
    "    \n",
    "# Initiate a new (advanced) vectorizer\n",
    "vectorizer_adv = CountVectorizer(input=\"filename\",\n",
    "                                 stop_words=\"english\",\n",
    "                                 tokenizer=PortStemNoPunctNum())\n",
    "\n",
    "# creating the bag of words\n",
    "bow_adv = vectorizer_adv.fit_transform(doc_paths)\n",
    "\n",
    "# evaluate num of features\n",
    "print(bow_adv.shape)"
   ]
  },
  {
   "cell_type": "markdown",
   "metadata": {},
   "source": [
    "The new Bag-of-Words only contains features without punctuation(`!\"#$%&\\'()*+,-./:;<=>?@[\\\\]^_`{|}~`) and numbers. **The overall number of features is 2588 features**"
   ]
  },
  {
   "cell_type": "markdown",
   "metadata": {},
   "source": [
    "---\n",
    "# Task 5.2: News Article - Clustering\n",
    "Having imported the documents and transformed them into vectors, apply a k-means clustering using k = 3. How many documents ended up in the wrong cluster? What can you do to improve the clustering? "
   ]
  },
  {
   "cell_type": "code",
   "execution_count": 201,
   "metadata": {
    "collapsed": false
   },
   "outputs": [
    {
     "data": {
      "text/plain": [
       "array([[1, 2, 2, 2, 2, 2, 2, 1, 2, 2],\n",
       "       [0, 0, 0, 0, 0, 0, 0, 0, 0, 0],\n",
       "       [2, 2, 1, 2, 2, 2, 2, 2, 2, 1]], dtype=int32)"
      ]
     },
     "execution_count": 201,
     "metadata": {},
     "output_type": "execute_result"
    }
   ],
   "source": [
    "# generating a TF-IDF \n",
    "tfidf_trans = TfidfTransformer()\n",
    "tfidf = tfidf_trans.fit_transform(bow_adv)\n",
    "\n",
    "# Initating, fitting the k-means learner & predicting\n",
    "km3 = KMeans(n_clusters=3, random_state=42)\n",
    "y_pred = km3.fit_predict(tfidf)\n",
    "y_pred.reshape(3, 10)"
   ]
  },
  {
   "cell_type": "markdown",
   "metadata": {},
   "source": [
    "All the samples from the religion domain are put in the \"right\" cluster whereas k-means fails for the scientific and politcal cluster. Independent from assigning a 1 or a 2 to either one of the clusters one cluster has the \"accuracy\" of 80% and the other an \"accuracy\" of 20%."
   ]
  },
  {
   "cell_type": "code",
   "execution_count": 211,
   "metadata": {
    "collapsed": false
   },
   "outputs": [
    {
     "data": {
      "text/plain": [
       "array([[2, 2, 0, 0, 0, 0, 0, 0, 0, 0],\n",
       "       [0, 0, 0, 0, 1, 0, 0, 0, 0, 0],\n",
       "       [0, 0, 0, 0, 0, 0, 0, 0, 0, 0]], dtype=int32)"
      ]
     },
     "execution_count": 211,
     "metadata": {},
     "output_type": "execute_result"
    }
   ],
   "source": [
    "# Compare to clustering based on raw tf\n",
    "y_pred_tf = km3.fit_predict(bow_adv)\n",
    "y_pred_tf.reshape(3, 10)"
   ]
  },
  {
   "cell_type": "markdown",
   "metadata": {},
   "source": [
    "Clustering on the raw term frequency leads to an overall decrease of accuracy."
   ]
  },
  {
   "cell_type": "markdown",
   "metadata": {},
   "source": [
    "---\n",
    "# Task 5.3: News Article - Improved Clustering\n",
    "Does the distribution of frequent terms help you to further improve the clustering by using any of the prune methods of the Process Documents from File operator?"
   ]
  },
  {
   "cell_type": "code",
   "execution_count": 389,
   "metadata": {
    "collapsed": false
   },
   "outputs": [
    {
     "data": {
      "image/png": "[encoded data removed]",
      "text/plain": [
       "<matplotlib.figure.Figure at 0x14715fe48>"
      ]
     },
     "metadata": {},
     "output_type": "display_data"
    }
   ],
   "source": [
    "# Create new word vectorizer that stores '1' for non-zero TFs\n",
    "binary_vectorizer = CountVectorizer(input=\"filename\",\n",
    "                                    stop_words=\"english\",\n",
    "                                    tokenizer=PortStemNoPunctNum(),\n",
    "                                    binary=True\n",
    "                                   )\n",
    "# create binary bag-of-words \n",
    "bin_tf = binary_vectorizer.fit_transform(doc_paths)\n",
    "\n",
    "df_min_2 = np.apply_along_axis(np.sum, axis=0, arr=bin_tf.toarray())[\n",
    "    np.apply_along_axis(np.sum, axis=0, arr=bin_tf.toarray()) > 1\n",
    "]\n",
    "\n",
    "# evaluate document frequency for words that occur more than once\n",
    "plt.rcParams[\"figure.figsize\"] = [14, 6]\n",
    "d = np.diff(np.unique(df_min_2)).min()\n",
    "left_of_first_bin = df_min_2.min() - float(d)/2\n",
    "right_of_last_bin = df_min_2.max() + float(d)/2\n",
    "plt.hist(df_min_2, np.arange(left_of_first_bin, right_of_last_bin + d, d))\n",
    "plt.xticks(range(np.min(df_min_2), np.max(df_min_2)+1))\n",
    "plt.title(\"Number of distinct Documents per Term T  $ \\\\forall T: 1\\leq DF(T) $ \")\n",
    "plt.savefig(\"../figures/textmining/distinct-documents-per-term.png\")\n",
    "plt.show()"
   ]
  },
  {
   "cell_type": "markdown",
   "metadata": {},
   "source": [
    "As the histogram shows the majority of terms are only present in two distinct documents. One could try to limit the number of DF into a certain range - cutting of the domain specific stopwords as well as very common words."
   ]
  },
  {
   "cell_type": "code",
   "execution_count": 390,
   "metadata": {
    "collapsed": false
   },
   "outputs": [
    {
     "data": {
      "image/png": "[encoded data removed]",
      "text/plain": [
       "<matplotlib.figure.Figure at 0x14430be80>"
      ]
     },
     "metadata": {},
     "output_type": "display_data"
    }
   ],
   "source": [
    "# Create new word vectorizer that preprunes terms \n",
    "# that occur in less than 4 or more than 10 documents\n",
    "bin_vectorizer_pruned = CountVectorizer(input=\"filename\",\n",
    "                                        stop_words=\"english\",\n",
    "                                        tokenizer=PortStemNoPunctNum(),\n",
    "                                        min_df = 3,\n",
    "                                        max_df = 10,\n",
    "                                        binary = True\n",
    "                                        )\n",
    "\n",
    "# create binary bag-of-words \n",
    "bin_tf = bin_vectorizer_pruned.fit_transform(doc_paths)\n",
    "\n",
    "df_3_to_10 = np.apply_along_axis(np.sum, axis=0, arr=bin_tf.toarray())\n",
    "\n",
    "# evaluate document frequency for words that occur more than once\n",
    "plt.rcParams[\"figure.figsize\"] = [14, 6]\n",
    "d = np.diff(np.unique(df_3_to_10)).min()\n",
    "left_of_first_bin = df_3_to_10.min() - float(d)/2\n",
    "right_of_last_bin = df_3_to_10.max() + float(d)/2\n",
    "plt.hist(df_3_to_10, np.arange(left_of_first_bin, right_of_last_bin + d, d))\n",
    "plt.xticks(range(np.min(df_3_to_10), np.max(df_3_to_10)+1))\n",
    "plt.title(\"Number of distinct Documents per Term T  $ \\\\forall T: 3 \\leq DF(T) \\leq 10$ \")\n",
    "plt.savefig(\"../figures/textmining/distinct-documents-per-term-pruned.png\")\n",
    "plt.show()"
   ]
  },
  {
   "cell_type": "code",
   "execution_count": 404,
   "metadata": {
    "collapsed": false
   },
   "outputs": [
    {
     "name": "stdout",
     "output_type": "stream",
     "text": [
      "TF:\n",
      "[[2 2 0 0 0 0 0 0 0 0]\n",
      " [0 0 0 0 0 0 0 0 0 0]\n",
      " [0 0 0 0 0 0 0 0 0 1]]\n",
      "\n",
      "TFIDF:\n",
      "[[2 2 1 2 2 2 2 2 1 2]\n",
      " [0 0 0 0 0 0 0 0 0 0]\n",
      " [1 1 1 1 1 1 1 1 1 1]]\n"
     ]
    }
   ],
   "source": [
    "vectorizer_pruned = CountVectorizer(input=\"filename\",\n",
    "                                    stop_words=\"english\",\n",
    "                                    tokenizer=PortStemNoPunctNum(),\n",
    "                                    min_df = 3,\n",
    "                                    max_df = 10\n",
    "                                   )\n",
    "\n",
    "# create a bag of words (TF) on pruned vectorizer\n",
    "bow_tf_pruned = vectorizer_pruned.fit_transform(doc_paths)\n",
    "\n",
    "# create a bag of words (TF-IDF) on pruned vectorizer\n",
    "bow_tfidf_pruned = tfidf_trans.fit_transform(bow_tf_pruned)\n",
    "\n",
    "# Compare to clustering based on raw tf\n",
    "y_pred_df_pruned_tf = km3.fit_predict(bow_tf_pruned)\n",
    "y_pred_df_pruned_tfidf = km3.fit_predict(bow_tfidf_pruned)\n",
    "\n",
    "# Evaluate clustering after pruning\n",
    "print(\"TF:\\n{}\\n\\nTFIDF:\\n{}\"\n",
    "      .format(y_pred_df_pruned_tf.reshape((3,10)), y_pred_df_pruned_tfidf.reshape((3, 10))))"
   ]
  },
  {
   "cell_type": "markdown",
   "metadata": {},
   "source": [
    "**Pruning to a document frequency in the range of 3 to 10 and calculating the TFIDF improves the clustering significantly**. The overall \"accuracy\" of the clustering is around 93% (2 out of 30 articles are misclassified)."
   ]
  },
  {
   "cell_type": "markdown",
   "metadata": {},
   "source": [
    "---\n",
    "# Task 5.4: Job Postings: Preprocessing\n",
    "In a second step, we will focus on the classification of job postings. The jobpostings.xls  file contains 500 descriptions of job postings belonging to 30 different job categories like sales and real estate. Our main goal is to learn a classification model, which is capable to predict the correct category for a new job posting. Therefore, import the data into RapidMiner using the Read Excel and the Process Document from Data operators. Convert the textual description into a vector by applying tokenization and other preprocessing steps. In order to learn a good classification model, have a look at the generated attributes and basic setup for the preprocessing which removes noisy and misleading tokens."
   ]
  },
  {
   "cell_type": "markdown",
   "metadata": {},
   "source": [
    "---\n",
    "# Task 5.5: Job Postings - Classification\n",
    "What levels of accuracy can you reach applying different classi cation methods and preprocessing settings?"
   ]
  },
  {
   "cell_type": "code",
   "execution_count": null,
   "metadata": {
    "collapsed": true
   },
   "outputs": [],
   "source": []
  }
 ],
 "metadata": {
  "kernelspec": {
   "display_name": "Python [Root]",
   "language": "python",
   "name": "Python [Root]"
  },
  "language_info": {
   "codemirror_mode": {
    "name": "ipython",
    "version": 3
   },
   "file_extension": ".py",
   "mimetype": "text/x-python",
   "name": "python",
   "nbconvert_exporter": "python",
   "pygments_lexer": "ipython3",
   "version": "3.5.2"
  }
 },
 "nbformat": 4,
 "nbformat_minor": 0
}
