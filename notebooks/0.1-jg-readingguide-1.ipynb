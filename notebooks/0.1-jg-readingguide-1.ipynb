{
 "cells": [
  {
   "cell_type": "markdown",
   "metadata": {},
   "source": [
    "# Preface\n"
   ]
  },
  {
   "cell_type": "code",
   "execution_count": 1,
   "metadata": {
    "collapsed": false
   },
   "outputs": [],
   "source": [
    "# IMPORTS\n",
    "import numpy as np\n",
    "import pandas as pd\n",
    "from collections import Counter\n",
    "from matplotlib import pyplot as plt\n",
    "%matplotlib inline\n",
    "plt.style.use(\"ggplot\")\n",
    "\n",
    "# DATA IMPORT\n",
    "dt_students = pd.read_excel(\"../data/students.xls\")\n",
    "dt_iris = pd.read_csv(\"../data/iris.csv\", sep=\";\", index_col=0)"
   ]
  },
  {
   "cell_type": "markdown",
   "metadata": {},
   "source": [
    "---\n",
    "# Task 1.1\n",
    "What is the most common mark that has been given in FSS2010?<br>\n",
    "(Hint: To  find the answer  filter the examples and draw a histogram afterward.)"
   ]
  },
  {
   "cell_type": "code",
   "execution_count": 2,
   "metadata": {
    "collapsed": false
   },
   "outputs": [
    {
     "name": "stdout",
     "output_type": "stream",
     "text": [
      "In FSS2010 the most common mark was 2.0 with 7 occurences.\n"
     ]
    }
   ],
   "source": [
    "# Filter by 'Semester' and count 'Mark'\n",
    "marks_in_fss2010 = dt_students.loc[dt_students.Semester == \"FSS2010\"].Mark\n",
    "most_common_mark_sets = Counter(marks_in_fss2010).most_common()\n",
    "print(\"In FSS2010 the most common mark was {} with {} occurences.\"\\\n",
    "     .format(most_common_mark_sets[0][0], most_common_mark_sets[0][1]))"
   ]
  },
  {
   "cell_type": "code",
   "execution_count": 3,
   "metadata": {
    "collapsed": false
   },
   "outputs": [
    {
     "data": {
      "image/png": "[encoded data removed]",
      "text/plain": [
       "<matplotlib.figure.Figure at 0x117b2bc50>"
      ]
     },
     "metadata": {},
     "output_type": "display_data"
    }
   ],
   "source": [
    "# Sort dict by value & transpose to extract keys at index [0] and values at index [1]\n",
    "sorted_cnt_marks_in_fss2010 = np.array(most_common_mark_sets).T\n",
    "plt.bar(range(len(sorted_cnt_marks_in_fss2010[1])), sorted_cnt_marks_in_fss2010[1], align=\"center\")\n",
    "plt.xticks(range(len(sorted_cnt_marks_in_fss2010[1])), sorted_cnt_marks_in_fss2010[0])\n",
    "plt.ylim((0,8))\n",
    "plt.title(\"Occurences of Marks in FSS2010\")\n",
    "plt.show()"
   ]
  },
  {
   "cell_type": "markdown",
   "metadata": {},
   "source": [
    "---\n",
    "# Task 1.2\n",
    "Is there a correlation between the mark and the number of attended classes? Please determine the answer visually using a scatter plot."
   ]
  },
  {
   "cell_type": "code",
   "execution_count": null,
   "metadata": {
    "collapsed": true
   },
   "outputs": [],
   "source": []
  },
  {
   "cell_type": "markdown",
   "metadata": {},
   "source": [
    "---\n",
    "# Task 1.3\n",
    "Does this correlation between the number of attended classes and the  nal grading hold for all students?<br>(Hint: Find the answer by aggregating the examples by student and use a scatter chart afterwards.)"
   ]
  },
  {
   "cell_type": "code",
   "execution_count": null,
   "metadata": {
    "collapsed": true
   },
   "outputs": [],
   "source": []
  },
  {
   "cell_type": "markdown",
   "metadata": {},
   "source": [
    "---\n",
    "# Task 1.4\n",
    "Using visualization techniques,  nd out which attribute combinations and (approximate) value ranges determine the type of Iris  ower?"
   ]
  },
  {
   "cell_type": "code",
   "execution_count": null,
   "metadata": {
    "collapsed": true
   },
   "outputs": [],
   "source": []
  },
  {
   "cell_type": "markdown",
   "metadata": {},
   "source": [
    "---\n",
    "# Task 1.5\n",
    "What are the average values for each attribute for each Iris type?"
   ]
  },
  {
   "cell_type": "code",
   "execution_count": null,
   "metadata": {
    "collapsed": true
   },
   "outputs": [],
   "source": []
  }
 ],
 "metadata": {
  "anaconda-cloud": {},
  "kernelspec": {
   "display_name": "Python [Root]",
   "language": "python",
   "name": "Python [Root]"
  },
  "language_info": {
   "codemirror_mode": {
    "name": "ipython",
    "version": 3
   },
   "file_extension": ".py",
   "mimetype": "text/x-python",
   "name": "python",
   "nbconvert_exporter": "python",
   "pygments_lexer": "ipython3",
   "version": "3.5.2"
  }
 },
 "nbformat": 4,
 "nbformat_minor": 0
}
