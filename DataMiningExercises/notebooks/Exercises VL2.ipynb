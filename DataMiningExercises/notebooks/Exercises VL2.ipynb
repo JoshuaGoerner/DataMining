{
 "cells": [
  {
   "cell_type": "markdown",
   "metadata": {},
   "source": [
    "### Excercises studyletter 1"
   ]
  },
  {
   "cell_type": "markdown",
   "metadata": {},
   "source": [
    "### Exercise 2.1 - Customer Segmentation k-means\n",
    "Import the customers data"
   ]
  },
  {
   "cell_type": "code",
   "execution_count": 1,
   "metadata": {
    "collapsed": true
   },
   "outputs": [],
   "source": [
    "from pyper import *\n",
    "import feather\n",
    "import pandas as pd\n",
    "%matplotlib inline\n",
    "import sklearn as sk\n",
    "import matplotlib.pyplot as plt\n",
    "import matplotlib\n",
    "import seaborn as sns"
   ]
  },
  {
   "cell_type": "code",
   "execution_count": 2,
   "metadata": {
    "collapsed": false
   },
   "outputs": [],
   "source": [
    "r = R()\n",
    "r.has_pandas = True\n",
    "r('library(ggplot2)')\n",
    "r('library(data.table)')\n",
    "r('library(feather)')\n",
    "r('library(dplyr)')\n",
    "r('library(tidyr)')\n",
    "\n",
    "def r_to_py():\n",
    "    r('path<-c(paste0(\"C:/Users/Knuts-L450/Desktop/DS Studium/10300 Datamining/VL 2 Clustering/df.feather\"))')\n",
    "    r('write_feather(df, path)')\n",
    "    path = \"C:/Users/Knuts-L450/Desktop/DS Studium/10300 Datamining/VL 2 Clustering/df.feather\"\n",
    "    df = feather.read_dataframe(path)\n",
    "\n",
    "def py_to_r(df):\n",
    "    path = \"C:/Users/Knuts-L450/Desktop/DS Studium/10300 Datamining/VL 2 Clustering/df.feather\"\n",
    "    feather.write_dataframe(df, path)\n",
    "    r('path<-c(\"C:/Users/Knuts-L450/Desktop/DS Studium/10300 Datamining/VL 2 Clustering/df.feather\")')\n",
    "    r('df<-read_feather(path)')\n",
    "    \n"
   ]
  },
  {
   "cell_type": "code",
   "execution_count": 3,
   "metadata": {
    "collapsed": false
   },
   "outputs": [
    {
     "data": {
      "text/plain": [
       "'try({customers_df<-fread(\"C:/Users/Knuts-L450/Desktop/DS Studium/10300 Datamining/VL 2 Clustering/customer.tsv\")})\\r\\n'"
      ]
     },
     "execution_count": 3,
     "metadata": {},
     "output_type": "execute_result"
    }
   ],
   "source": [
    "r('customers_df<-fread(\"C:/Users/Knuts-L450/Desktop/DS Studium/10300 Datamining/VL 2 Clustering/customer.tsv\")')"
   ]
  },
  {
   "cell_type": "code",
   "execution_count": 4,
   "metadata": {
    "collapsed": false
   },
   "outputs": [
    {
     "name": "stdout",
     "output_type": "stream",
     "text": [
      "try({head(customers_df)})\r\n",
      "   Customer ID ItemsBought ItemsReturned ZipCode Product\r\n",
      "1:           4          45            10       2    1365\r\n",
      "2:           5          42            18       5    2764\r\n",
      "3:           6          50             0       1    1343\r\n",
      "4:           8          13            12       4    2435\r\n",
      "5:           9          10             7       3    2435\r\n",
      "6:          10          34            17       6    2896\r\n",
      "\n"
     ]
    },
    {
     "data": {
      "text/plain": [
       "Index([' Customer ID ', ' ItemsBought ', ' ItemsReturned ', ' ZipCode ',\n",
       "       ' Product '],\n",
       "      dtype='object')"
      ]
     },
     "execution_count": 4,
     "metadata": {},
     "output_type": "execute_result"
    }
   ],
   "source": [
    "print(r('head(customers_df)'))\n",
    "r.customers_df.columns"
   ]
  },
  {
   "cell_type": "markdown",
   "metadata": {},
   "source": [
    "### Assign correct dtypes"
   ]
  },
  {
   "cell_type": "code",
   "execution_count": 5,
   "metadata": {
    "collapsed": false
   },
   "outputs": [],
   "source": [
    "customers_df=r.customers_df\n",
    "customers_df.columns=customers_df.columns.str.strip()"
   ]
  },
  {
   "cell_type": "code",
   "execution_count": 6,
   "metadata": {
    "collapsed": false
   },
   "outputs": [
    {
     "data": {
      "text/plain": [
       "Customer ID      category\n",
       "ItemsBought         int64\n",
       "ItemsReturned       int64\n",
       "ZipCode          category\n",
       "Product          category\n",
       "dtype: object"
      ]
     },
     "execution_count": 6,
     "metadata": {},
     "output_type": "execute_result"
    }
   ],
   "source": [
    "customers_df['Customer ID']=customers_df['Customer ID'].astype('category')\n",
    "customers_df['ZipCode']=customers_df['ZipCode'].astype('category')\n",
    "customers_df['Product']=customers_df['Product'].astype('category')\n",
    "customers_df.dtypes"
   ]
  },
  {
   "cell_type": "markdown",
   "metadata": {},
   "source": [
    "### K-means in R, plot solution to find good solution\n",
    "Clustering is descriptive modeling, no need to create something deployable in Python (yet)"
   ]
  },
  {
   "cell_type": "code",
   "execution_count": 9,
   "metadata": {
    "collapsed": false
   },
   "outputs": [
    {
     "data": {
      "image/png": "[encoded data removed]",
      "text/plain": [
       "<IPython.core.display.Image object>"
      ]
     },
     "execution_count": 9,
     "metadata": {
      "image/png": {
       "height": 400,
       "width": 600
      }
     },
     "output_type": "execute_result"
    }
   ],
   "source": [
    "#path = \"C:/Users/Knuts-L450/Desktop/DS Studium/10300 Datamining/VL 2 Clustering/\"+str(df)+\".feather\"\n",
    "py_to_r(customers_df)\n",
    "r('set.seed(20)')\n",
    "r('clusters_km<-kmeans(select(df, ItemsReturned, ItemsBought), 4)')\n",
    "r('plot<-ggplot(df, aes(ItemsReturned, ItemsBought, color = as.factor(clusters_km$cluster)))+ geom_point()')\n",
    "r(\"png('rplot.png'); print(plot); dev.off()\")\n",
    "\n",
    "# Upload the figure to Jupyter\n",
    "from IPython.display import Image\n",
    "Image(\"rplot.png\",width=600,height=400)"
   ]
  },
  {
   "cell_type": "markdown",
   "metadata": {
    "collapsed": false
   },
   "source": [
    "### Find suitable labels\n",
    "\n",
    "There are not a lot of data points, but one can distinguish customers who buy a lot and do not return anything (satisfied high volume customers, good customers), those who by infrequently and return almost everything (low volume bad customers), those who by frequently but also return at a moderate rate (ok customers), those who buy a lot but still return a lot (high volume bad customers). "
   ]
  },
  {
   "cell_type": "markdown",
   "metadata": {
    "collapsed": false
   },
   "source": [
    "### Products bought by likely bad customers"
   ]
  },
  {
   "cell_type": "code",
   "execution_count": 10,
   "metadata": {
    "collapsed": false
   },
   "outputs": [
    {
     "data": {
      "text/html": [
       "<div>\n",
       "<table border=\"1\" class=\"dataframe\">\n",
       "  <thead>\n",
       "    <tr style=\"text-align: right;\">\n",
       "      <th></th>\n",
       "      <th>Product</th>\n",
       "      <th>clusters</th>\n",
       "    </tr>\n",
       "  </thead>\n",
       "  <tbody>\n",
       "    <tr>\n",
       "      <th>0</th>\n",
       "      <td>b'2435'</td>\n",
       "      <td>b'3'</td>\n",
       "    </tr>\n",
       "    <tr>\n",
       "      <th>1</th>\n",
       "      <td>b'2435'</td>\n",
       "      <td>b'3'</td>\n",
       "    </tr>\n",
       "    <tr>\n",
       "      <th>2</th>\n",
       "      <td>b'2435'</td>\n",
       "      <td>b'3'</td>\n",
       "    </tr>\n",
       "  </tbody>\n",
       "</table>\n",
       "</div>"
      ],
      "text/plain": [
       "   Product clusters\n",
       "0  b'2435'     b'3'\n",
       "1  b'2435'     b'3'\n",
       "2  b'2435'     b'3'"
      ]
     },
     "execution_count": 10,
     "metadata": {},
     "output_type": "execute_result"
    }
   ],
   "source": [
    "r('df$clusters<-as.factor(clusters_km$cluster)')\n",
    "r('products_bad<-filter(select(df, Product, clusters), clusters==\"3\")')\n",
    "r.products_bad"
   ]
  },
  {
   "cell_type": "markdown",
   "metadata": {},
   "source": [
    "Obviously they buy one specific product."
   ]
  },
  {
   "cell_type": "markdown",
   "metadata": {
    "collapsed": false
   },
   "source": [
    "### Zip Codes bought by best customers\n"
   ]
  },
  {
   "cell_type": "code",
   "execution_count": 15,
   "metadata": {
    "collapsed": false
   },
   "outputs": [
    {
     "data": {
      "text/html": [
       "<div>\n",
       "<table border=\"1\" class=\"dataframe\">\n",
       "  <thead>\n",
       "    <tr style=\"text-align: right;\">\n",
       "      <th></th>\n",
       "      <th>ZipCode</th>\n",
       "      <th>clusters</th>\n",
       "    </tr>\n",
       "  </thead>\n",
       "  <tbody>\n",
       "    <tr>\n",
       "      <th>0</th>\n",
       "      <td>b'1'</td>\n",
       "      <td>b'1'</td>\n",
       "    </tr>\n",
       "    <tr>\n",
       "      <th>1</th>\n",
       "      <td>b'1'</td>\n",
       "      <td>b'1'</td>\n",
       "    </tr>\n",
       "    <tr>\n",
       "      <th>2</th>\n",
       "      <td>b'1'</td>\n",
       "      <td>b'1'</td>\n",
       "    </tr>\n",
       "  </tbody>\n",
       "</table>\n",
       "</div>"
      ],
      "text/plain": [
       "  ZipCode clusters\n",
       "0    b'1'     b'1'\n",
       "1    b'1'     b'1'\n",
       "2    b'1'     b'1'"
      ]
     },
     "execution_count": 15,
     "metadata": {},
     "output_type": "execute_result"
    }
   ],
   "source": [
    "r('df$clusters<-as.factor(clusters_km$cluster)')\n",
    "r('products_good<-filter(select(df, ZipCode, clusters), clusters==\"1\")')\n",
    "r.products_good"
   ]
  },
  {
   "cell_type": "markdown",
   "metadata": {
    "collapsed": false
   },
   "source": [
    "They appear to come from the same area. "
   ]
  },
  {
   "cell_type": "markdown",
   "metadata": {},
   "source": [
    "### Use agglomerative clustering inspect dendogram\n",
    "What does the hierachy tell about the customer groups?"
   ]
  },
  {
   "cell_type": "code",
   "execution_count": 11,
   "metadata": {
    "collapsed": false
   },
   "outputs": [
    {
     "data": {
      "image/png": "[encoded data removed]",
      "text/plain": [
       "<IPython.core.display.Image object>"
      ]
     },
     "execution_count": 11,
     "metadata": {
      "image/png": {
       "height": 400,
       "width": 600
      }
     },
     "output_type": "execute_result"
    }
   ],
   "source": [
    "r(\"png('rplot.png'); print(plot(hclust(dist(select(df, ItemsReturned, ItemsBought))))); dev.off()\")\n",
    "\n",
    "Image(\"rplot.png\",width=600,height=400)"
   ]
  },
  {
   "cell_type": "markdown",
   "metadata": {
    "collapsed": false
   },
   "source": [
    "This yields an impression consistent with beforehands results: Two main clusters, within the larger cluster of customers buying at some frequency there are three subclusters.\n"
   ]
  },
  {
   "cell_type": "markdown",
   "metadata": {
    "collapsed": false
   },
   "source": [
    "### Create four clusters using hierarchical clustering and think of labels"
   ]
  },
  {
   "cell_type": "code",
   "execution_count": 35,
   "metadata": {
    "collapsed": false
   },
   "outputs": [
    {
     "name": "stdout",
     "output_type": "stream",
     "text": [
      "try({all(df$hclusters==df$clusters)})\r\n",
      "[1] TRUE\r\n",
      "\n"
     ]
    }
   ],
   "source": [
    "r('df$hclusters<-cutree(hclust(dist(select(df, ItemsReturned, ItemsBought), method = \"euclidean\")), k=4)')\n",
    "r('df$hclusters<-factor(df$hclusters, levels=unique(df$clusters))')\n",
    "r('df$hclusters<-factor(df$clusters, levels=unique(df$clusters))')\n",
    "print(r('all(df$hclusters==df$clusters)'))"
   ]
  },
  {
   "cell_type": "markdown",
   "metadata": {},
   "source": [
    "The labels are the same in all cases, so the same interpretation as in k-means clustering applies."
   ]
  },
  {
   "cell_type": "code",
   "execution_count": null,
   "metadata": {
    "collapsed": true
   },
   "outputs": [],
   "source": []
  }
 ],
 "metadata": {
  "kernelspec": {
   "display_name": "Python 3",
   "language": "python",
   "name": "python3"
  },
  "language_info": {
   "codemirror_mode": {
    "name": "ipython",
    "version": 3
   },
   "file_extension": ".py",
   "mimetype": "text/x-python",
   "name": "python",
   "nbconvert_exporter": "python",
   "pygments_lexer": "ipython3",
   "version": "3.6.0"
  }
 },
 "nbformat": 4,
 "nbformat_minor": 0
}
