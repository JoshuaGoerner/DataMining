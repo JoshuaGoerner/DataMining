{
 "cells": [
  {
   "cell_type": "code",
   "execution_count": 168,
   "metadata": {
    "collapsed": false
   },
   "outputs": [],
   "source": [
    "from pyper import *\n",
    "import feather\n",
    "\n",
    "import pandas as pd\n",
    "import sklearn\n",
    "from sklearn import neighbors\n",
    "#from sklearn import model_selection\n",
    "import sklearn_pandas\n",
    "\n",
    "\n",
    "r = R()\n",
    "r.has_pandas = True\n",
    "\n",
    "r('library(data.table)')\n",
    "r('library(feather)')\n",
    "\n",
    "def r_to_py():\n",
    "    r('path<-c(paste0(\"C:/Users/Knuts-L450/Desktop/DS Studium/10300 Datamining/VL 3 Classification/df.feather\"))')\n",
    "    r('write_feather(df, path)')\n",
    "    path = \"C:/Users/Knuts-L450/Desktop/DS Studium/10300 Datamining/VL 3 Classification/df.feather\"\n",
    "    return feather.read_dataframe(path)\n",
    "\n",
    "def py_to_r():\n",
    "    path = \"C:/Users/Knuts-L450/Desktop/DS Studium/10300 Datamining/VL 3 Classification/df.feather\"\n",
    "    feather.write_dataframe(df, path)\n",
    "    r('path<-c(\"C:/Users/Knuts-L450/Desktop/DS Studium/10300 Datamining/VL 3 Classification/df.feather\")')\n",
    "    r('df<-read_feather(path)')\n",
    "\n"
   ]
  },
  {
   "cell_type": "markdown",
   "metadata": {},
   "source": [
    "### Control task 3.1\n",
    "Learn a decision tree from the Golf dataset (Operator: Decision Tree). Use\n",
    "this tree to classify the examples in the Golf-Testset, which is also delivered\n",
    "together with RapidMiner (Operator: Apply Model). For how many objects\n",
    "does the trained tree predict the correct value?"
   ]
  },
  {
   "cell_type": "code",
   "execution_count": 169,
   "metadata": {
    "collapsed": false
   },
   "outputs": [
    {
     "data": {
      "text/plain": [
       "'try({golf_test_df<-fread(\"C:/Users/Knuts-L450/Desktop/DS Studium/10300 Datamining/VL 3 Classification/golf_test.csv\", stringsAsFactors=TRUE, check.names=TRUE)})\\r\\n'"
      ]
     },
     "execution_count": 169,
     "metadata": {},
     "output_type": "execute_result"
    }
   ],
   "source": [
    "r('golf_df<-fread(\"C:/Users/Knuts-L450/Desktop/DS Studium/10300 Datamining/VL 3 Classification/golf.csv\", stringsAsFactors=TRUE, check.names=TRUE)')\n",
    "r('golf_test_df<-fread(\"C:/Users/Knuts-L450/Desktop/DS Studium/10300 Datamining/VL 3 Classification/golf_test.csv\", stringsAsFactors=TRUE, check.names=TRUE)')"
   ]
  },
  {
   "cell_type": "code",
   "execution_count": 170,
   "metadata": {
    "collapsed": false
   },
   "outputs": [
    {
     "name": "stdout",
     "output_type": "stream",
     "text": [
      "try({sapply(golf_test_df, class)})\r\n",
      "    Outlook Temperature    Humidity        Wind        Play \r\n",
      "   \"factor\"   \"integer\"   \"integer\"    \"factor\"    \"factor\" \r\n",
      "\n"
     ]
    }
   ],
   "source": [
    "print(r('sapply(golf_test_df, class)'))"
   ]
  },
  {
   "cell_type": "code",
   "execution_count": 171,
   "metadata": {
    "collapsed": false
   },
   "outputs": [],
   "source": [
    "r('df<-golf_df')\n",
    "golf_df = r_to_py()\n",
    "r('df<-golf_test_df')\n",
    "golf_test_df = r_to_py()"
   ]
  },
  {
   "cell_type": "code",
   "execution_count": 172,
   "metadata": {
    "collapsed": false
   },
   "outputs": [
    {
     "data": {
      "text/html": [
       "<div>\n",
       "<table border=\"1\" class=\"dataframe\">\n",
       "  <thead>\n",
       "    <tr style=\"text-align: right;\">\n",
       "      <th></th>\n",
       "      <th>Outlook</th>\n",
       "      <th>Temperature</th>\n",
       "      <th>Humidity</th>\n",
       "      <th>Wind</th>\n",
       "      <th>Play</th>\n",
       "    </tr>\n",
       "  </thead>\n",
       "  <tbody>\n",
       "    <tr>\n",
       "      <th>0</th>\n",
       "      <td>sunny</td>\n",
       "      <td>85</td>\n",
       "      <td>85</td>\n",
       "      <td>false</td>\n",
       "      <td>no</td>\n",
       "    </tr>\n",
       "    <tr>\n",
       "      <th>1</th>\n",
       "      <td>sunny</td>\n",
       "      <td>80</td>\n",
       "      <td>90</td>\n",
       "      <td>true</td>\n",
       "      <td>no</td>\n",
       "    </tr>\n",
       "    <tr>\n",
       "      <th>2</th>\n",
       "      <td>overcast</td>\n",
       "      <td>83</td>\n",
       "      <td>78</td>\n",
       "      <td>false</td>\n",
       "      <td>yes</td>\n",
       "    </tr>\n",
       "    <tr>\n",
       "      <th>3</th>\n",
       "      <td>rain</td>\n",
       "      <td>70</td>\n",
       "      <td>96</td>\n",
       "      <td>false</td>\n",
       "      <td>yes</td>\n",
       "    </tr>\n",
       "    <tr>\n",
       "      <th>4</th>\n",
       "      <td>rain</td>\n",
       "      <td>68</td>\n",
       "      <td>80</td>\n",
       "      <td>false</td>\n",
       "      <td>yes</td>\n",
       "    </tr>\n",
       "    <tr>\n",
       "      <th>5</th>\n",
       "      <td>rain</td>\n",
       "      <td>65</td>\n",
       "      <td>70</td>\n",
       "      <td>true</td>\n",
       "      <td>no</td>\n",
       "    </tr>\n",
       "    <tr>\n",
       "      <th>6</th>\n",
       "      <td>overcast</td>\n",
       "      <td>64</td>\n",
       "      <td>65</td>\n",
       "      <td>true</td>\n",
       "      <td>yes</td>\n",
       "    </tr>\n",
       "    <tr>\n",
       "      <th>7</th>\n",
       "      <td>sunny</td>\n",
       "      <td>72</td>\n",
       "      <td>95</td>\n",
       "      <td>false</td>\n",
       "      <td>no</td>\n",
       "    </tr>\n",
       "    <tr>\n",
       "      <th>8</th>\n",
       "      <td>sunny</td>\n",
       "      <td>69</td>\n",
       "      <td>70</td>\n",
       "      <td>false</td>\n",
       "      <td>yes</td>\n",
       "    </tr>\n",
       "    <tr>\n",
       "      <th>9</th>\n",
       "      <td>rain</td>\n",
       "      <td>75</td>\n",
       "      <td>80</td>\n",
       "      <td>false</td>\n",
       "      <td>yes</td>\n",
       "    </tr>\n",
       "    <tr>\n",
       "      <th>10</th>\n",
       "      <td>sunny</td>\n",
       "      <td>75</td>\n",
       "      <td>70</td>\n",
       "      <td>true</td>\n",
       "      <td>yes</td>\n",
       "    </tr>\n",
       "    <tr>\n",
       "      <th>11</th>\n",
       "      <td>overcast</td>\n",
       "      <td>72</td>\n",
       "      <td>90</td>\n",
       "      <td>true</td>\n",
       "      <td>yes</td>\n",
       "    </tr>\n",
       "    <tr>\n",
       "      <th>12</th>\n",
       "      <td>overcast</td>\n",
       "      <td>81</td>\n",
       "      <td>75</td>\n",
       "      <td>false</td>\n",
       "      <td>yes</td>\n",
       "    </tr>\n",
       "    <tr>\n",
       "      <th>13</th>\n",
       "      <td>rain</td>\n",
       "      <td>71</td>\n",
       "      <td>80</td>\n",
       "      <td>true</td>\n",
       "      <td>no</td>\n",
       "    </tr>\n",
       "  </tbody>\n",
       "</table>\n",
       "</div>"
      ],
      "text/plain": [
       "     Outlook  Temperature  Humidity   Wind Play\n",
       "0      sunny           85        85  false   no\n",
       "1      sunny           80        90   true   no\n",
       "2   overcast           83        78  false  yes\n",
       "3       rain           70        96  false  yes\n",
       "4       rain           68        80  false  yes\n",
       "5       rain           65        70   true   no\n",
       "6   overcast           64        65   true  yes\n",
       "7      sunny           72        95  false   no\n",
       "8      sunny           69        70  false  yes\n",
       "9       rain           75        80  false  yes\n",
       "10     sunny           75        70   true  yes\n",
       "11  overcast           72        90   true  yes\n",
       "12  overcast           81        75  false  yes\n",
       "13      rain           71        80   true   no"
      ]
     },
     "execution_count": 172,
     "metadata": {},
     "output_type": "execute_result"
    }
   ],
   "source": [
    "golf_df"
   ]
  },
  {
   "cell_type": "code",
   "execution_count": 173,
   "metadata": {
    "collapsed": false
   },
   "outputs": [
    {
     "data": {
      "text/html": [
       "<div>\n",
       "<table border=\"1\" class=\"dataframe\">\n",
       "  <thead>\n",
       "    <tr style=\"text-align: right;\">\n",
       "      <th></th>\n",
       "      <th>Outlook_overcast</th>\n",
       "      <th>Outlook_rain</th>\n",
       "      <th>Outlook_sunny</th>\n",
       "      <th>Temperature</th>\n",
       "      <th>Humidity</th>\n",
       "      <th>Wind</th>\n",
       "      <th>Play</th>\n",
       "    </tr>\n",
       "  </thead>\n",
       "  <tbody>\n",
       "    <tr>\n",
       "      <th>0</th>\n",
       "      <td>0</td>\n",
       "      <td>0</td>\n",
       "      <td>1</td>\n",
       "      <td>85</td>\n",
       "      <td>85</td>\n",
       "      <td>0</td>\n",
       "      <td>0</td>\n",
       "    </tr>\n",
       "    <tr>\n",
       "      <th>1</th>\n",
       "      <td>0</td>\n",
       "      <td>0</td>\n",
       "      <td>1</td>\n",
       "      <td>80</td>\n",
       "      <td>90</td>\n",
       "      <td>1</td>\n",
       "      <td>0</td>\n",
       "    </tr>\n",
       "    <tr>\n",
       "      <th>2</th>\n",
       "      <td>1</td>\n",
       "      <td>0</td>\n",
       "      <td>0</td>\n",
       "      <td>83</td>\n",
       "      <td>78</td>\n",
       "      <td>0</td>\n",
       "      <td>1</td>\n",
       "    </tr>\n",
       "    <tr>\n",
       "      <th>3</th>\n",
       "      <td>0</td>\n",
       "      <td>1</td>\n",
       "      <td>0</td>\n",
       "      <td>70</td>\n",
       "      <td>96</td>\n",
       "      <td>0</td>\n",
       "      <td>1</td>\n",
       "    </tr>\n",
       "    <tr>\n",
       "      <th>4</th>\n",
       "      <td>0</td>\n",
       "      <td>1</td>\n",
       "      <td>0</td>\n",
       "      <td>68</td>\n",
       "      <td>80</td>\n",
       "      <td>0</td>\n",
       "      <td>1</td>\n",
       "    </tr>\n",
       "  </tbody>\n",
       "</table>\n",
       "</div>"
      ],
      "text/plain": [
       "   Outlook_overcast  Outlook_rain  Outlook_sunny  Temperature  Humidity  Wind  \\\n",
       "0                 0             0              1           85        85     0   \n",
       "1                 0             0              1           80        90     1   \n",
       "2                 1             0              0           83        78     0   \n",
       "3                 0             1              0           70        96     0   \n",
       "4                 0             1              0           68        80     0   \n",
       "\n",
       "   Play  \n",
       "0     0  \n",
       "1     0  \n",
       "2     1  \n",
       "3     1  \n",
       "4     1  "
      ]
     },
     "execution_count": 173,
     "metadata": {},
     "output_type": "execute_result"
    }
   ],
   "source": [
    "from sklearn import tree\n",
    "mapper = sklearn_pandas.DataFrameMapper([\n",
    "('Outlook', sklearn.preprocessing.LabelBinarizer()),\n",
    "(['Temperature'], None), \n",
    "(['Humidity'], None), \n",
    "(['Wind'], sklearn.preprocessing.LabelBinarizer()), \n",
    "(['Play'], sklearn.preprocessing.LabelBinarizer())\n",
    "], df_out=True)\n",
    "\n",
    "\n",
    "golf_trans = mapper.fit_transform(golf_df.copy())\n",
    "\n",
    "golf_trans_test = mapper.fit_transform(golf_test_df.copy())\n",
    "\n",
    "\n",
    "X = golf_trans.ix[:,\"Outlook_overcast\":\"Wind\"].values\n",
    "Y = golf_trans.ix[:,'Play'].values\n",
    "clf = tree.DecisionTreeClassifier(criterion='gini')\n",
    "clf = clf.fit(X, Y)\n",
    "\n",
    "golf_trans.head()"
   ]
  },
  {
   "cell_type": "code",
   "execution_count": 174,
   "metadata": {
    "collapsed": false
   },
   "outputs": [
    {
     "data": {
      "text/plain": [
       "10"
      ]
     },
     "execution_count": 174,
     "metadata": {},
     "output_type": "execute_result"
    }
   ],
   "source": [
    "pred_golf = clf.predict(golf_trans_test.ix[:,\"Outlook_overcast\":\"Wind\"].values)\n",
    "sum(pred_golf==golf_trans_test.ix[:,'Play'].values)"
   ]
  },
  {
   "cell_type": "markdown",
   "metadata": {},
   "source": [
    "The correct value is predicted in 10 cases."
   ]
  },
  {
   "cell_type": "markdown",
   "metadata": {},
   "source": [
    "### Golf Dataset – Evaluation\n",
    "Evaluate the performance of your model by adding a Performance (Classification) operator to your process. Examine the confusion matrix. What is the accuracy of your classifier?"
   ]
  },
  {
   "cell_type": "code",
   "execution_count": 175,
   "metadata": {
    "collapsed": false
   },
   "outputs": [
    {
     "name": "stdout",
     "output_type": "stream",
     "text": [
      "             precision    recall  f1-score   support\n",
      "\n",
      "          0       0.60      0.60      0.60         5\n",
      "          1       0.78      0.78      0.78         9\n",
      "\n",
      "avg / total       0.71      0.71      0.71        14\n",
      "\n"
     ]
    }
   ],
   "source": [
    "print(sklearn.metrics.classification_report(golf_trans_test.ix[:,'Play'].values, pred_golf))"
   ]
  },
  {
   "cell_type": "markdown",
   "metadata": {},
   "source": [
    "### Accuracy"
   ]
  },
  {
   "cell_type": "code",
   "execution_count": 176,
   "metadata": {
    "collapsed": false
   },
   "outputs": [
    {
     "data": {
      "text/plain": [
       "0.7142857142857143"
      ]
     },
     "execution_count": 176,
     "metadata": {},
     "output_type": "execute_result"
    }
   ],
   "source": [
    "sklearn.metrics.accuracy_score(golf_trans_test.ix[:,'Play'].values, pred_golf)"
   ]
  },
  {
   "cell_type": "markdown",
   "metadata": {},
   "source": [
    "### Apply model to test set"
   ]
  },
  {
   "cell_type": "markdown",
   "metadata": {},
   "source": [
    "### Control task 3.3: Golf Dataset – k-NN\n",
    "Does a k-Nearest-Neighbor (k-NN) classifier work better for this task? To find out, replace the Decision Tree operator with a k-NN operator and evaluate the trained model using different values for k. What is the best accuracy you can reach?"
   ]
  },
  {
   "cell_type": "code",
   "execution_count": 177,
   "metadata": {
    "collapsed": false
   },
   "outputs": [],
   "source": [
    "scores=dict()\n",
    "\n",
    "for i in range(1,15):\n",
    "    KN = sklearn.neighbors.KNeighborsClassifier(i)\n",
    "    KN=KN.fit(X,Y)\n",
    "    pred_golf = KN.predict(golf_trans_test.ix[:,\"Outlook_overcast\":\"Wind\"].values)\n",
    "    #scores.append(sklearn.metrics.accuracy_score(golf_trans_test.ix[:,'Play'].values, pred_golf))\n",
    "    scores.update({i:sklearn.metrics.accuracy_score(golf_trans_test.ix[:,'Play'].values, pred_golf)})\n",
    "    "
   ]
  },
  {
   "cell_type": "code",
   "execution_count": 178,
   "metadata": {
    "collapsed": false
   },
   "outputs": [
    {
     "data": {
      "text/html": [
       "<div>\n",
       "<table border=\"1\" class=\"dataframe\">\n",
       "  <thead>\n",
       "    <tr style=\"text-align: right;\">\n",
       "      <th></th>\n",
       "      <th>k</th>\n",
       "      <th>accuracy</th>\n",
       "    </tr>\n",
       "  </thead>\n",
       "  <tbody>\n",
       "    <tr>\n",
       "      <th>0</th>\n",
       "      <td>1</td>\n",
       "      <td>0.714286</td>\n",
       "    </tr>\n",
       "  </tbody>\n",
       "</table>\n",
       "</div>"
      ],
      "text/plain": [
       "   k  accuracy\n",
       "0  1  0.714286"
      ]
     },
     "execution_count": 178,
     "metadata": {},
     "output_type": "execute_result"
    }
   ],
   "source": [
    "pd.DataFrame(pd.Series(scores).sort_values(ascending=False)).reset_index().rename(columns={\"index\":\"k\", 0:\"accuracy\"}).head(1)"
   ]
  },
  {
   "cell_type": "markdown",
   "metadata": {},
   "source": [
    "### Control task 3.4: Iris Flowers – ID3 \n",
    "Set up the process as described above. What accuracy can you reach using the ID3 decision tree?"
   ]
  },
  {
   "cell_type": "code",
   "execution_count": 179,
   "metadata": {
    "collapsed": false
   },
   "outputs": [
    {
     "data": {
      "text/plain": [
       "[setosa, versicolor, virginica]\n",
       "Categories (3, object): [setosa, versicolor, virginica]"
      ]
     },
     "execution_count": 179,
     "metadata": {},
     "output_type": "execute_result"
    }
   ],
   "source": [
    "r('df<-iris')\n",
    "iris = r_to_py()\n",
    "iris.head()\n",
    "iris.Species.unique()"
   ]
  },
  {
   "cell_type": "code",
   "execution_count": 180,
   "metadata": {
    "collapsed": false
   },
   "outputs": [
    {
     "data": {
      "text/plain": [
       "'try({iris_bins<-read_feather(path)})\\r\\n'"
      ]
     },
     "execution_count": 180,
     "metadata": {},
     "output_type": "execute_result"
    }
   ],
   "source": [
    "iris['Sepal.Length'] = pd.qcut(iris['Sepal.Length'], 3)\n",
    "iris['Sepal.Width'] = pd.qcut(iris['Sepal.Width'], 3)\n",
    "iris['Petal.Length'] = pd.qcut(iris['Petal.Length'], 3)\n",
    "iris['Petal.Width'] = pd.qcut(iris['Petal.Width'], 3)\n",
    "\n",
    "path = \"C:/Users/Knuts-L450/Desktop/DS Studium/10300 Datamining/VL 3 Classification/df.feather\"\n",
    "feather.write_dataframe(iris, path)\n",
    "r('path<-c(\"C:/Users/Knuts-L450/Desktop/DS Studium/10300 Datamining/VL 3 Classification/df.feather\")')\n",
    "r('iris_bins<-read_feather(path)')\n"
   ]
  },
  {
   "cell_type": "code",
   "execution_count": 181,
   "metadata": {
    "collapsed": false
   },
   "outputs": [],
   "source": [
    "from sklearn import *\n",
    "mapper = sklearn_pandas.DataFrameMapper([\n",
    "(['Sepal.Length'], sklearn.preprocessing.LabelBinarizer()),\n",
    "(['Sepal.Width'], sklearn.preprocessing.LabelBinarizer()), \n",
    "(['Petal.Length'], sklearn.preprocessing.LabelBinarizer()), \n",
    "(['Petal.Width'], sklearn.preprocessing.LabelBinarizer()), \n",
    "(['Species'], sklearn.preprocessing.LabelBinarizer())\n",
    "], df_out=True)\n",
    "\n",
    "\n",
    "iris_trans = mapper.fit_transform(iris.copy())\n",
    "X = iris_trans.ix[:,'Sepal.Length_(5.4, 6.3]':'Petal.Width_[0.1, 0.867]'].values\n",
    "y = iris_trans.ix[:,'Species_setosa':'Species_virginica'].values\n",
    "\n",
    "X_train, X_test, y_train, y_test = sklearn.model_selection.train_test_split(X, y, test_size=0.30)\n"
   ]
  },
  {
   "cell_type": "code",
   "execution_count": 182,
   "metadata": {
    "collapsed": false
   },
   "outputs": [],
   "source": [
    "clf = tree.DecisionTreeClassifier(criterion='entropy')\n",
    "clf_ID3 = clf.fit(X_train, y_train)\n",
    "pred_iris = clf_ID3.predict(X_test)"
   ]
  },
  {
   "cell_type": "code",
   "execution_count": 183,
   "metadata": {
    "collapsed": false
   },
   "outputs": [
    {
     "data": {
      "text/plain": [
       "0.9555555555555556"
      ]
     },
     "execution_count": 183,
     "metadata": {},
     "output_type": "execute_result"
    }
   ],
   "source": [
    "sklearn.metrics.accuracy_score(y_test, pred_iris)"
   ]
  },
  {
   "cell_type": "markdown",
   "metadata": {},
   "source": [
    "After the binning, we reach an accuracy of 100 % for this sample. Note: This is not really the  ID3 algorithm, but a CART one. Sklearn does not have one. Just grab R, or RWeka, that is. Allowed, as weka algorithms are still deployable in various settings as java models. For the challenge, we assume we cant deploy R models, which of course is possible. It does show that python is still not as mature as other languages  on some (long forgotten) ML tasks, especially, historic algorithms are of no interest to the community. What works works. "
   ]
  },
  {
   "cell_type": "code",
   "execution_count": 184,
   "metadata": {
    "collapsed": false,
    "scrolled": true
   },
   "outputs": [
    {
     "data": {
      "text/plain": [
       "\"try({library(RWeka)})\\r\\nWarnmeldung:\\r\\nPaket 'RWeka' wurde unter R Version 3.3.3 erstellt \\r\\n\""
      ]
     },
     "execution_count": 184,
     "metadata": {},
     "output_type": "execute_result"
    }
   ],
   "source": [
    "r('library(RWeka)')"
   ]
  },
  {
   "cell_type": "markdown",
   "metadata": {},
   "source": [
    "### Control task 3.5: Iris Flowers – Decision Tree\n",
    "What accuracy can be reached using this kind of decision tree algorithm?\n",
    "Compare the different trained models (trees). In case you would need to\n",
    "interpret the model as human, which model would you use and why? (Hint:\n",
    "Keep in mind Occam’s Razor.)"
   ]
  },
  {
   "cell_type": "code",
   "execution_count": 185,
   "metadata": {
    "collapsed": false
   },
   "outputs": [],
   "source": [
    "iris = r_to_py()\n",
    "\n",
    "mapper = sklearn_pandas.DataFrameMapper([\n",
    "(['Sepal.Length'], None),\n",
    "(['Sepal.Width'], None), \n",
    "(['Petal.Length'], None), \n",
    "(['Petal.Width'], None), \n",
    "(['Species'], sklearn.preprocessing.LabelBinarizer())], df_out=True)\n",
    "\n",
    "\n",
    "iris_trans = mapper.fit_transform(iris.copy())\n",
    "X = iris_trans.ix[:,'Sepal.Length':'Petal.Width'].values\n",
    "y = iris_trans.ix[:,'Species_setosa':'Species_virginica'].values\n",
    "\n",
    "X_train, X_test, y_train, y_test = sklearn.model_selection.train_test_split(X, y, test_size=0.30)\n",
    "\n",
    "clf = tree.DecisionTreeClassifier(criterion='gini')\n",
    "clf = clf.fit(X_train, y_train)\n",
    "pred_iris = clf.predict(X_test)\n",
    "acc = sklearn.metrics.accuracy_score(y_test, pred_iris)"
   ]
  },
  {
   "cell_type": "code",
   "execution_count": 186,
   "metadata": {
    "collapsed": false
   },
   "outputs": [
    {
     "data": {
      "text/plain": [
       "0.93333333333333335"
      ]
     },
     "execution_count": 186,
     "metadata": {},
     "output_type": "execute_result"
    }
   ],
   "source": [
    "acc"
   ]
  },
  {
   "cell_type": "markdown",
   "metadata": {
    "collapsed": false
   },
   "source": [
    "### Control task 3.5: Iris Flowers – Decision Tree \n",
    "What accuracy can be reached using this kind of decision tree algorithm?\n",
    "Compare the different trained models (trees). In case you would need to\n",
    "interpret the model as human, which model would you use and why? (Hint:\n",
    "Keep in mind Occam’s Razor.)"
   ]
  },
  {
   "cell_type": "code",
   "execution_count": 187,
   "metadata": {
    "collapsed": false
   },
   "outputs": [
    {
     "data": {
      "image/png": "[encoded data removed]",
      "text/plain": [
       "<IPython.core.display.Image object>"
      ]
     },
     "execution_count": 187,
     "metadata": {},
     "output_type": "execute_result"
    }
   ],
   "source": [
    "import pydotplus\n",
    "from IPython.display import Image  \n",
    "dot_data = tree.export_graphviz(clf, out_file=None) \n",
    "graph = pydotplus.graph_from_dot_data(dot_data) \n",
    "#graph.write_pdf(\"iris.pdf\") \n",
    "Image(graph.create_png()) "
   ]
  },
  {
   "cell_type": "code",
   "execution_count": null,
   "metadata": {
    "collapsed": false
   },
   "outputs": [],
   "source": []
  },
  {
   "cell_type": "code",
   "execution_count": 188,
   "metadata": {
    "collapsed": false
   },
   "outputs": [
    {
     "data": {
      "text/plain": [
       "'try({ID3 <- make_Weka_classifier(\"weka/classifiers/trees/Id3\")})\\r\\n'"
      ]
     },
     "execution_count": 188,
     "metadata": {},
     "output_type": "execute_result"
    }
   ],
   "source": [
    "#r('library(RWeka)')\n",
    "#r('WPM(\"refresh-cache\")')\n",
    "#r('WPM(\"list-packages\", \"available\")')\n",
    "#r('WPM(\"install-package\", \"simpleEducationalLearningSchemes\")')\n",
    "r('WPM(\"load-package\", \"simpleEducationalLearningSchemes\")')\n",
    "r('ID3 <- make_Weka_classifier(\"weka/classifiers/trees/Id3\")') #we need to install and create the good old 1986 id3 algorithm\n",
    "# J48 is alike"
   ]
  },
  {
   "cell_type": "code",
   "execution_count": 189,
   "metadata": {
    "collapsed": false
   },
   "outputs": [
    {
     "data": {
      "image/png": "[encoded data removed]",
      "text/plain": [
       "<IPython.core.display.Image object>"
      ]
     },
     "execution_count": 189,
     "metadata": {
      "image/png": {
       "height": 400,
       "width": 800
      }
     },
     "output_type": "execute_result"
    }
   ],
   "source": [
    "\n",
    "r('J48fit<-J48(Species ~ ., data = iris_bins)')\n",
    "r('J48fit_plot<-plot(J48fit)')\n",
    "r('partykit')\n",
    "\n",
    "# Save the figure\n",
    "r(\"png('rplot.png');if(require('partykit', quietly = TRUE)) plot(J48fit);dev.off()\")\n",
    "\n",
    "\n",
    "# Upload the figure to Jupyter\n",
    "from IPython.display import Image\n",
    "Image(\"rplot.png\",width=800,height=400)"
   ]
  },
  {
   "cell_type": "markdown",
   "metadata": {},
   "source": [
    "With regard to interpretability, ID3, as showing where most records are after only 2 steps instead of the deeeper binary choices in the CART variant in sklearn. ä "
   ]
  },
  {
   "cell_type": "code",
   "execution_count": 190,
   "metadata": {
    "collapsed": false
   },
   "outputs": [
    {
     "name": "stdout",
     "output_type": "stream",
     "text": [
      "try({ID3fit})\r\n",
      "Id3\r\n",
      "\r\n",
      "\r\n",
      "Petal.Width = [0.1, 0.867]: setosa\r\n",
      "Petal.Width = (0.867, 1.6]\r\n",
      "|  Petal.Length = [1, 2.633]: null\r\n",
      "|  Petal.Length = (2.633, 4.9]: versicolor\r\n",
      "|  Petal.Length = (4.9, 6.9]\r\n",
      "|  |  Sepal.Length = [4.3, 5.4]: null\r\n",
      "|  |  Sepal.Length = (5.4, 6.3]: virginica\r\n",
      "|  |  Sepal.Length = (6.3, 7.9]: virginica\r\n",
      "Petal.Width = (1.6, 2.5]\r\n",
      "|  Sepal.Width = [2, 2.9]: virginica\r\n",
      "|  Sepal.Width = (2.9, 3.2]\r\n",
      "|  |  Petal.Length = [1, 2.633]: null\r\n",
      "|  |  Petal.Length = (2.633, 4.9]: virginica\r\n",
      "|  |  Petal.Length = (4.9, 6.9]\r\n",
      "|  |  |  Sepal.Length = [4.3, 5.4]: null\r\n",
      "|  |  |  Sepal.Length = (5.4, 6.3]: virginica\r\n",
      "|  |  |  Sepal.Length = (6.3, 7.9]: virginica\r\n",
      "|  Sepal.Width = (3.2, 4.4]: virginica\r\n",
      "\n"
     ]
    }
   ],
   "source": [
    "r('ID3fit<-ID3(Species ~ ., data = iris_bins)')\n",
    "print(r('ID3fit'))"
   ]
  },
  {
   "cell_type": "markdown",
   "metadata": {},
   "source": [
    "### Control task 3.6: Credit Dataset – ROC \n",
    "Apply the Compare ROCs operator to the dataset and include k-NN (with\n",
    "different values for k), Decision Tree, Naive Bayes and Rule Induction.\n",
    "Which classification approach looks most promising to you?"
   ]
  },
  {
   "cell_type": "code",
   "execution_count": 191,
   "metadata": {
    "collapsed": false
   },
   "outputs": [
    {
     "data": {
      "text/plain": [
       "'try({credit<-read.arff(\"C:/Users/Knuts-L450/Desktop/DS Studium/10300 Datamining/VL 3 Classification/credit-g.arff\")})\\r\\n'"
      ]
     },
     "execution_count": 191,
     "metadata": {},
     "output_type": "execute_result"
    }
   ],
   "source": [
    "r('credit<-read.arff(\"C:/Users/Knuts-L450/Desktop/DS Studium/10300 Datamining/VL 3 Classification/credit-g.arff\")')"
   ]
  },
  {
   "cell_type": "code",
   "execution_count": 192,
   "metadata": {
    "collapsed": false
   },
   "outputs": [
    {
     "name": "stdout",
     "output_type": "stream",
     "text": [
      "try({sapply(credit, class)})\r\n",
      "       checking_status               duration         credit_history \r\n",
      "              \"factor\"              \"numeric\"               \"factor\" \r\n",
      "               purpose          credit_amount         savings_status \r\n",
      "              \"factor\"              \"numeric\"               \"factor\" \r\n",
      "            employment installment_commitment        personal_status \r\n",
      "              \"factor\"              \"numeric\"               \"factor\" \r\n",
      "         other_parties        residence_since     property_magnitude \r\n",
      "              \"factor\"              \"numeric\"               \"factor\" \r\n",
      "                   age    other_payment_plans                housing \r\n",
      "             \"numeric\"               \"factor\"               \"factor\" \r\n",
      "      existing_credits                    job         num_dependents \r\n",
      "             \"numeric\"               \"factor\"              \"numeric\" \r\n",
      "         own_telephone         foreign_worker                  class \r\n",
      "              \"factor\"               \"factor\"               \"factor\" \r\n",
      "\n"
     ]
    }
   ],
   "source": [
    "print(r('sapply(credit, class)'))"
   ]
  },
  {
   "cell_type": "code",
   "execution_count": 193,
   "metadata": {
    "collapsed": false
   },
   "outputs": [
    {
     "data": {
      "text/html": [
       "<div>\n",
       "<table border=\"1\" class=\"dataframe\">\n",
       "  <thead>\n",
       "    <tr style=\"text-align: right;\">\n",
       "      <th></th>\n",
       "      <th>duration</th>\n",
       "      <th>credit_amount</th>\n",
       "      <th>installment_commitment</th>\n",
       "      <th>residence_since</th>\n",
       "      <th>age</th>\n",
       "      <th>existing_credits</th>\n",
       "      <th>num_dependents</th>\n",
       "      <th>checking_status_&lt;0</th>\n",
       "      <th>checking_status_0&lt;=X&lt;200</th>\n",
       "      <th>checking_status_&gt;=200</th>\n",
       "      <th>...</th>\n",
       "      <th>job_unemp/unskilled non res</th>\n",
       "      <th>job_unskilled resident</th>\n",
       "      <th>job_skilled</th>\n",
       "      <th>job_high qualif/self emp/mgmt</th>\n",
       "      <th>own_telephone_none</th>\n",
       "      <th>own_telephone_yes</th>\n",
       "      <th>foreign_worker_yes</th>\n",
       "      <th>foreign_worker_no</th>\n",
       "      <th>class_good</th>\n",
       "      <th>class_bad</th>\n",
       "    </tr>\n",
       "  </thead>\n",
       "  <tbody>\n",
       "    <tr>\n",
       "      <th>0</th>\n",
       "      <td>6.0</td>\n",
       "      <td>1169.0</td>\n",
       "      <td>4.0</td>\n",
       "      <td>4.0</td>\n",
       "      <td>67.0</td>\n",
       "      <td>2.0</td>\n",
       "      <td>1.0</td>\n",
       "      <td>1</td>\n",
       "      <td>0</td>\n",
       "      <td>0</td>\n",
       "      <td>...</td>\n",
       "      <td>0</td>\n",
       "      <td>0</td>\n",
       "      <td>1</td>\n",
       "      <td>0</td>\n",
       "      <td>0</td>\n",
       "      <td>1</td>\n",
       "      <td>1</td>\n",
       "      <td>0</td>\n",
       "      <td>1</td>\n",
       "      <td>0</td>\n",
       "    </tr>\n",
       "    <tr>\n",
       "      <th>1</th>\n",
       "      <td>48.0</td>\n",
       "      <td>5951.0</td>\n",
       "      <td>2.0</td>\n",
       "      <td>2.0</td>\n",
       "      <td>22.0</td>\n",
       "      <td>1.0</td>\n",
       "      <td>1.0</td>\n",
       "      <td>0</td>\n",
       "      <td>1</td>\n",
       "      <td>0</td>\n",
       "      <td>...</td>\n",
       "      <td>0</td>\n",
       "      <td>0</td>\n",
       "      <td>1</td>\n",
       "      <td>0</td>\n",
       "      <td>1</td>\n",
       "      <td>0</td>\n",
       "      <td>1</td>\n",
       "      <td>0</td>\n",
       "      <td>0</td>\n",
       "      <td>1</td>\n",
       "    </tr>\n",
       "    <tr>\n",
       "      <th>2</th>\n",
       "      <td>12.0</td>\n",
       "      <td>2096.0</td>\n",
       "      <td>2.0</td>\n",
       "      <td>3.0</td>\n",
       "      <td>49.0</td>\n",
       "      <td>1.0</td>\n",
       "      <td>2.0</td>\n",
       "      <td>0</td>\n",
       "      <td>0</td>\n",
       "      <td>0</td>\n",
       "      <td>...</td>\n",
       "      <td>0</td>\n",
       "      <td>1</td>\n",
       "      <td>0</td>\n",
       "      <td>0</td>\n",
       "      <td>1</td>\n",
       "      <td>0</td>\n",
       "      <td>1</td>\n",
       "      <td>0</td>\n",
       "      <td>1</td>\n",
       "      <td>0</td>\n",
       "    </tr>\n",
       "    <tr>\n",
       "      <th>3</th>\n",
       "      <td>42.0</td>\n",
       "      <td>7882.0</td>\n",
       "      <td>2.0</td>\n",
       "      <td>4.0</td>\n",
       "      <td>45.0</td>\n",
       "      <td>1.0</td>\n",
       "      <td>2.0</td>\n",
       "      <td>1</td>\n",
       "      <td>0</td>\n",
       "      <td>0</td>\n",
       "      <td>...</td>\n",
       "      <td>0</td>\n",
       "      <td>0</td>\n",
       "      <td>1</td>\n",
       "      <td>0</td>\n",
       "      <td>1</td>\n",
       "      <td>0</td>\n",
       "      <td>1</td>\n",
       "      <td>0</td>\n",
       "      <td>1</td>\n",
       "      <td>0</td>\n",
       "    </tr>\n",
       "    <tr>\n",
       "      <th>4</th>\n",
       "      <td>24.0</td>\n",
       "      <td>4870.0</td>\n",
       "      <td>3.0</td>\n",
       "      <td>4.0</td>\n",
       "      <td>53.0</td>\n",
       "      <td>2.0</td>\n",
       "      <td>2.0</td>\n",
       "      <td>1</td>\n",
       "      <td>0</td>\n",
       "      <td>0</td>\n",
       "      <td>...</td>\n",
       "      <td>0</td>\n",
       "      <td>0</td>\n",
       "      <td>1</td>\n",
       "      <td>0</td>\n",
       "      <td>1</td>\n",
       "      <td>0</td>\n",
       "      <td>1</td>\n",
       "      <td>0</td>\n",
       "      <td>0</td>\n",
       "      <td>1</td>\n",
       "    </tr>\n",
       "  </tbody>\n",
       "</table>\n",
       "<p>5 rows × 65 columns</p>\n",
       "</div>"
      ],
      "text/plain": [
       "   duration  credit_amount  installment_commitment  residence_since   age  \\\n",
       "0       6.0         1169.0                     4.0              4.0  67.0   \n",
       "1      48.0         5951.0                     2.0              2.0  22.0   \n",
       "2      12.0         2096.0                     2.0              3.0  49.0   \n",
       "3      42.0         7882.0                     2.0              4.0  45.0   \n",
       "4      24.0         4870.0                     3.0              4.0  53.0   \n",
       "\n",
       "   existing_credits  num_dependents  checking_status_<0  \\\n",
       "0               2.0             1.0                   1   \n",
       "1               1.0             1.0                   0   \n",
       "2               1.0             2.0                   0   \n",
       "3               1.0             2.0                   1   \n",
       "4               2.0             2.0                   1   \n",
       "\n",
       "   checking_status_0<=X<200  checking_status_>=200    ...      \\\n",
       "0                         0                      0    ...       \n",
       "1                         1                      0    ...       \n",
       "2                         0                      0    ...       \n",
       "3                         0                      0    ...       \n",
       "4                         0                      0    ...       \n",
       "\n",
       "   job_unemp/unskilled non res  job_unskilled resident  job_skilled  \\\n",
       "0                            0                       0            1   \n",
       "1                            0                       0            1   \n",
       "2                            0                       1            0   \n",
       "3                            0                       0            1   \n",
       "4                            0                       0            1   \n",
       "\n",
       "   job_high qualif/self emp/mgmt  own_telephone_none  own_telephone_yes  \\\n",
       "0                              0                   0                  1   \n",
       "1                              0                   1                  0   \n",
       "2                              0                   1                  0   \n",
       "3                              0                   1                  0   \n",
       "4                              0                   1                  0   \n",
       "\n",
       "   foreign_worker_yes  foreign_worker_no  class_good  class_bad  \n",
       "0                   1                  0           1          0  \n",
       "1                   1                  0           0          1  \n",
       "2                   1                  0           1          0  \n",
       "3                   1                  0           1          0  \n",
       "4                   1                  0           0          1  \n",
       "\n",
       "[5 rows x 65 columns]"
      ]
     },
     "execution_count": 193,
     "metadata": {},
     "output_type": "execute_result"
    }
   ],
   "source": [
    "r('df<-credit')\n",
    "credit = r_to_py()\n",
    "pd.get_dummies(credit.head())"
   ]
  },
  {
   "cell_type": "code",
   "execution_count": 194,
   "metadata": {
    "collapsed": false,
    "scrolled": true
   },
   "outputs": [
    {
     "name": "stdout",
     "output_type": "stream",
     "text": [
      "0.696666666667\n",
      "{'preprocs': (), 'ex_preprocs': (), 'learner': DecisionTreeClassifier(class_weight=None, criterion='gini', max_depth=None,\n",
      "            max_features='log2', max_leaf_nodes=None,\n",
      "            min_impurity_split=1e-07, min_samples_leaf=3,\n",
      "            min_samples_split=2, min_weight_fraction_leaf=0.0,\n",
      "            presort=False, random_state=3, splitter='best')}\n"
     ]
    }
   ],
   "source": [
    "from hpsklearn import HyperoptEstimator, multinomial_nb, knn, decision_tree\n",
    "from hyperopt import hp\n",
    "\n",
    "clf = hp.pchoice( 'my_name', \n",
    "          [ ( 0.25, decision_tree('my_name.decision_tree', min_samples_leaf=3, min_samples_split=2) ),\n",
    "            ( 0.25, multinomial_nb('my_name.multinomial_nb') ),\n",
    "            ( 0.25, knn('my_name.knn') ) ]) #old school rule induction done with orange, not implemented in hpsklearn\n",
    "#or autosklearn\n",
    "\n",
    "estim = HyperoptEstimator( classifier=clf ,  preprocessing=[], max_evals=30) #no preprocessing\n",
    "\n",
    "credit['class'] = credit['class'].astype(str) #it appeears that sklearn is not really capable of using categoricals... \n",
    "### it is puzzling a lot compared to R\n",
    "\n",
    "#preprocess\n",
    "X =pd.get_dummies(credit.ix[:,0:len(credit.columns)-1]).values\n",
    "\n",
    "mapper = sklearn_pandas.DataFrameMapper([\n",
    "(['class'], sklearn.preprocessing.LabelBinarizer())], df_out=True)# default=None)#, df_out=True)\n",
    "\n",
    "y = mapper.fit_transform(credit.copy()).values\n",
    "\n",
    "\n",
    "X_train, X_test, y_train, y_test = sklearn.model_selection.train_test_split(X, y, test_size=0.30)\n",
    "\n",
    "estim.fit( X_train, y_train )\n",
    "\n",
    "# get accuracy and best model\n",
    "print( estim.score( X_test, y_test ) )\n",
    "print( estim.best_model() )\n",
    "\n",
    "#print(sklearn.metrics.roc_curve(y_true, y_score))"
   ]
  },
  {
   "cell_type": "code",
   "execution_count": 228,
   "metadata": {
    "collapsed": false
   },
   "outputs": [
    {
     "data": {
      "image/png": "[encoded data removed]",
      "text/plain": [
       "<matplotlib.figure.Figure at 0x15833dd8>"
      ]
     },
     "metadata": {},
     "output_type": "display_data"
    },
    {
     "data": {
      "text/plain": [
       "<ggplot: (-9223372036834519061)>"
      ]
     },
     "execution_count": 228,
     "metadata": {},
     "output_type": "execute_result"
    }
   ],
   "source": [
    "fpr, tpr, threshold = sklearn.metrics.roc_curve(y_test, estim.best_model()[\"learner\"].predict(X_test))\n",
    "from ggplot import *\n",
    "df = pd.DataFrame(dict(fpr = fpr, tpr = tpr))\n",
    "ggplot(df, aes(x = 'fpr', y = 'tpr')) + geom_line() + geom_abline(linetype = 'dashed')"
   ]
  },
  {
   "cell_type": "code",
   "execution_count": 205,
   "metadata": {
    "collapsed": false
   },
   "outputs": [],
   "source": [
    "import Orange\n",
    "\n",
    "def convert_dataframe_to_orange(df):\n",
    "    df.to_csv('_temp_.csv',index_label='id')\n",
    "    orange_table = Orange.data.Table('_temp_.csv')\n",
    "    os.unlink('_temp_.csv')\n",
    "    return orange_table\n",
    "\n",
    "#credit_orange = convert_dataframe_to_orange(credit)\n",
    "\n",
    "credit['class'] = credit['class'].astype('category')\n",
    "\n",
    "# select category columns and recode to numerical\n",
    "cat_columns = credit.select_dtypes(['category']).columns\n",
    "credit[cat_columns] = credit[cat_columns].apply(lambda x: x.cat.codes)\n",
    "\n",
    "\n",
    "\n",
    "import numpy as np\n",
    "from Orange.data.domain import DiscreteVariable, ContinuousVariable\n",
    "from Orange.data import Domain, Table\n",
    "domain = Domain([\n",
    "    DiscreteVariable('checking_status', values=[str(v) for v in np.unique(credit.checking_status)]),\n",
    "    ContinuousVariable('duration'),\n",
    "    DiscreteVariable('credit_history', values=[str(v) for v in np.unique(credit.credit_history)]),\n",
    "    DiscreteVariable('purpose', values=[str(v) for v in np.unique(credit.purpose)]),\n",
    "    ContinuousVariable('credit_amount'),\n",
    "    DiscreteVariable('savings_status', values=[str(v) for v in np.unique(credit.savings_status)]),\n",
    "    DiscreteVariable('employment', values=[str(v) for v in np.unique(credit.employment)]),    \n",
    "    ContinuousVariable('installment_commitment'),\n",
    "    DiscreteVariable('personal_status', values=[str(v) for v in np.unique(credit.personal_status)]),    \n",
    "    DiscreteVariable('other_parties', values=[str(v) for v in np.unique(credit.other_parties)]),     \n",
    "    ContinuousVariable('residence_since'),\n",
    "    DiscreteVariable('property_magnitude', values=[str(v) for v in np.unique(credit.property_magnitude)]),\n",
    "    ContinuousVariable('age'),  \n",
    "    DiscreteVariable('other_payment_plans', values=[str(v) for v in np.unique(credit.other_payment_plans)]),    \n",
    "    DiscreteVariable('housing', values=[str(v) for v in np.unique(credit.housing)]),  \n",
    "    ContinuousVariable('existing_credits'), \n",
    "    DiscreteVariable('job', values=[str(v) for v in np.unique(credit.job)]),    \n",
    "    ContinuousVariable('num_dependents'),  \n",
    "    DiscreteVariable('own_telephone', values=[str(v) for v in np.unique(credit.own_telephone)]),           \n",
    "    DiscreteVariable('foreign_worker', values=[str(v) for v in np.unique(credit.foreign_worker)])],     \n",
    "    class_vars = DiscreteVariable('class', values=[str(v) for v in np.unique(credit['class'])]))\n",
    "\n",
    "credit_orange = Orange.data.Table.from_numpy(domain, credit.ix[:,0:(len(credit.columns)-1)].values, credit['class'].values)\n",
    "#table = Table(domain, credit_orange)"
   ]
  },
  {
   "cell_type": "code",
   "execution_count": 208,
   "metadata": {
    "collapsed": false,
    "scrolled": true
   },
   "outputs": [],
   "source": [
    "#train test set\n",
    "\n",
    "train_data, test_data = Orange.evaluation.testing.sample(credit_orange)\n",
    "\n",
    "\n",
    "# construct the learning algorithm and use it to induce a classifier\n",
    "cn2_learner = Orange.classification.rules.CN2Learner()\n",
    "cn2_classifier = cn2_learner(train_data)\n"
   ]
  },
  {
   "cell_type": "code",
   "execution_count": 209,
   "metadata": {
    "collapsed": false
   },
   "outputs": [
    {
     "data": {
      "text/plain": [
       "0.62666666666666671"
      ]
     },
     "execution_count": 209,
     "metadata": {},
     "output_type": "execute_result"
    }
   ],
   "source": [
    "y_pred = cn2_classifier(test_data)\n",
    "sklearn.metrics.accuracy_score(y_true = test_data.Y, y_pred = y_pred)"
   ]
  },
  {
   "cell_type": "code",
   "execution_count": 227,
   "metadata": {
    "collapsed": false
   },
   "outputs": [],
   "source": [
    "#for rule in cn2_classifier.rule_list:\n",
    "#    print(rule, rule.curr_class_dist.tolist())"
   ]
  },
  {
   "cell_type": "code",
   "execution_count": 229,
   "metadata": {
    "collapsed": false
   },
   "outputs": [
    {
     "data": {
      "image/png": "[encoded data removed]",
      "text/plain": [
       "<matplotlib.figure.Figure at 0x136eb320>"
      ]
     },
     "metadata": {},
     "output_type": "display_data"
    },
    {
     "data": {
      "text/plain": [
       "<ggplot: (-9223372036832018295)>"
      ]
     },
     "execution_count": 229,
     "metadata": {},
     "output_type": "execute_result"
    }
   ],
   "source": [
    "fpr, tpr, threshold = sklearn.metrics.roc_curve(test_data.Y, y_pred)\n",
    "from ggplot import *\n",
    "df = pd.DataFrame(dict(fpr = fpr, tpr = tpr))\n",
    "ggplot(df, aes(x = 'fpr', y = 'tpr')) + geom_line() + geom_abline(linetype = 'dashed')"
   ]
  },
  {
   "cell_type": "code",
   "execution_count": null,
   "metadata": {
    "collapsed": false
   },
   "outputs": [],
   "source": []
  },
  {
   "cell_type": "code",
   "execution_count": null,
   "metadata": {
    "collapsed": false
   },
   "outputs": [],
   "source": [
    "\n"
   ]
  },
  {
   "cell_type": "code",
   "execution_count": null,
   "metadata": {
    "collapsed": false
   },
   "outputs": [],
   "source": []
  },
  {
   "cell_type": "code",
   "execution_count": null,
   "metadata": {
    "collapsed": false
   },
   "outputs": [],
   "source": []
  },
  {
   "cell_type": "code",
   "execution_count": null,
   "metadata": {
    "collapsed": false
   },
   "outputs": [],
   "source": []
  },
  {
   "cell_type": "code",
   "execution_count": null,
   "metadata": {
    "collapsed": true
   },
   "outputs": [],
   "source": []
  }
 ],
 "metadata": {
  "kernelspec": {
   "display_name": "Python 3",
   "language": "python",
   "name": "python3"
  },
  "language_info": {
   "codemirror_mode": {
    "name": "ipython",
    "version": 3
   },
   "file_extension": ".py",
   "mimetype": "text/x-python",
   "name": "python",
   "nbconvert_exporter": "python",
   "pygments_lexer": "ipython3",
   "version": "3.5.0"
  }
 },
 "nbformat": 4,
 "nbformat_minor": 0
}
