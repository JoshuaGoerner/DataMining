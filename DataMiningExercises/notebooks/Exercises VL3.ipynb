{
 "cells": [
  {
   "cell_type": "code",
   "execution_count": 66,
   "metadata": {
    "collapsed": false
   },
   "outputs": [],
   "source": [
    "from pyper import *\n",
    "import feather\n",
    "\n",
    "import pandas as pd\n",
    "import sklearn\n",
    "from sklearn import neighbors\n",
    "#from sklearn import model_selection\n",
    "import sklearn_pandas\n",
    "\n",
    "\n",
    "r = R()\n",
    "r.has_pandas = True\n",
    "\n",
    "r('library(data.table)')\n",
    "r('library(feather)')\n",
    "\n",
    "def r_to_py():\n",
    "    r('path<-c(paste0(\"C:/Users/Knuts-L450/Desktop/DS Studium/10300 Datamining/VL 3 Classification/df.feather\"))')\n",
    "    r('write_feather(df, path)')\n",
    "    path = \"C:/Users/Knuts-L450/Desktop/DS Studium/10300 Datamining/VL 3 Classification/df.feather\"\n",
    "    return feather.read_dataframe(path)\n",
    "\n",
    "def py_to_r():\n",
    "    path = \"C:/Users/Knuts-L450/Desktop/DS Studium/10300 Datamining/VL 3 Classification/df.feather\"\n",
    "    feather.write_dataframe(df, path)\n",
    "    r('path<-c(\"C:/Users/Knuts-L450/Desktop/DS Studium/10300 Datamining/VL 3 Classification/df.feather\")')\n",
    "    r('df<-read_feather(path)')\n",
    "\n"
   ]
  },
  {
   "cell_type": "markdown",
   "metadata": {},
   "source": [
    "### Control task 3.1\n",
    "Learn a decision tree from the Golf dataset (Operator: Decision Tree). Use\n",
    "this tree to classify the examples in the Golf-Testset, which is also delivered\n",
    "together with RapidMiner (Operator: Apply Model). For how many objects\n",
    "does the trained tree predict the correct value?"
   ]
  },
  {
   "cell_type": "code",
   "execution_count": 67,
   "metadata": {
    "collapsed": false
   },
   "outputs": [
    {
     "data": {
      "text/plain": [
       "'try({golf_test_df<-fread(\"C:/Users/Knuts-L450/Desktop/DS Studium/10300 Datamining/VL 3 Classification/golf_test.csv\", stringsAsFactors=TRUE, check.names=TRUE)})\\r\\n'"
      ]
     },
     "execution_count": 67,
     "metadata": {},
     "output_type": "execute_result"
    }
   ],
   "source": [
    "r('golf_df<-fread(\"C:/Users/Knuts-L450/Desktop/DS Studium/10300 Datamining/VL 3 Classification/golf.csv\", stringsAsFactors=TRUE, check.names=TRUE)')\n",
    "r('golf_test_df<-fread(\"C:/Users/Knuts-L450/Desktop/DS Studium/10300 Datamining/VL 3 Classification/golf_test.csv\", stringsAsFactors=TRUE, check.names=TRUE)')"
   ]
  },
  {
   "cell_type": "code",
   "execution_count": 68,
   "metadata": {
    "collapsed": false
   },
   "outputs": [
    {
     "name": "stdout",
     "output_type": "stream",
     "text": [
      "try({sapply(golf_test_df, class)})\r\n",
      "    Outlook Temperature    Humidity        Wind        Play \r\n",
      "   \"factor\"   \"integer\"   \"integer\"    \"factor\"    \"factor\" \r\n",
      "\n"
     ]
    }
   ],
   "source": [
    "print(r('sapply(golf_test_df, class)'))"
   ]
  },
  {
   "cell_type": "code",
   "execution_count": 69,
   "metadata": {
    "collapsed": false
   },
   "outputs": [],
   "source": [
    "r('df<-golf_df')\n",
    "golf_df = r_to_py()\n",
    "r('df<-golf_test_df')\n",
    "golf_test_df = r_to_py()"
   ]
  },
  {
   "cell_type": "code",
   "execution_count": 70,
   "metadata": {
    "collapsed": false
   },
   "outputs": [
    {
     "data": {
      "text/html": [
       "<div>\n",
       "<table border=\"1\" class=\"dataframe\">\n",
       "  <thead>\n",
       "    <tr style=\"text-align: right;\">\n",
       "      <th></th>\n",
       "      <th>Outlook</th>\n",
       "      <th>Temperature</th>\n",
       "      <th>Humidity</th>\n",
       "      <th>Wind</th>\n",
       "      <th>Play</th>\n",
       "    </tr>\n",
       "  </thead>\n",
       "  <tbody>\n",
       "    <tr>\n",
       "      <th>0</th>\n",
       "      <td>sunny</td>\n",
       "      <td>85</td>\n",
       "      <td>85</td>\n",
       "      <td>false</td>\n",
       "      <td>no</td>\n",
       "    </tr>\n",
       "    <tr>\n",
       "      <th>1</th>\n",
       "      <td>sunny</td>\n",
       "      <td>80</td>\n",
       "      <td>90</td>\n",
       "      <td>true</td>\n",
       "      <td>no</td>\n",
       "    </tr>\n",
       "    <tr>\n",
       "      <th>2</th>\n",
       "      <td>overcast</td>\n",
       "      <td>83</td>\n",
       "      <td>78</td>\n",
       "      <td>false</td>\n",
       "      <td>yes</td>\n",
       "    </tr>\n",
       "    <tr>\n",
       "      <th>3</th>\n",
       "      <td>rain</td>\n",
       "      <td>70</td>\n",
       "      <td>96</td>\n",
       "      <td>false</td>\n",
       "      <td>yes</td>\n",
       "    </tr>\n",
       "    <tr>\n",
       "      <th>4</th>\n",
       "      <td>rain</td>\n",
       "      <td>68</td>\n",
       "      <td>80</td>\n",
       "      <td>false</td>\n",
       "      <td>yes</td>\n",
       "    </tr>\n",
       "    <tr>\n",
       "      <th>5</th>\n",
       "      <td>rain</td>\n",
       "      <td>65</td>\n",
       "      <td>70</td>\n",
       "      <td>true</td>\n",
       "      <td>no</td>\n",
       "    </tr>\n",
       "    <tr>\n",
       "      <th>6</th>\n",
       "      <td>overcast</td>\n",
       "      <td>64</td>\n",
       "      <td>65</td>\n",
       "      <td>true</td>\n",
       "      <td>yes</td>\n",
       "    </tr>\n",
       "    <tr>\n",
       "      <th>7</th>\n",
       "      <td>sunny</td>\n",
       "      <td>72</td>\n",
       "      <td>95</td>\n",
       "      <td>false</td>\n",
       "      <td>no</td>\n",
       "    </tr>\n",
       "    <tr>\n",
       "      <th>8</th>\n",
       "      <td>sunny</td>\n",
       "      <td>69</td>\n",
       "      <td>70</td>\n",
       "      <td>false</td>\n",
       "      <td>yes</td>\n",
       "    </tr>\n",
       "    <tr>\n",
       "      <th>9</th>\n",
       "      <td>rain</td>\n",
       "      <td>75</td>\n",
       "      <td>80</td>\n",
       "      <td>false</td>\n",
       "      <td>yes</td>\n",
       "    </tr>\n",
       "    <tr>\n",
       "      <th>10</th>\n",
       "      <td>sunny</td>\n",
       "      <td>75</td>\n",
       "      <td>70</td>\n",
       "      <td>true</td>\n",
       "      <td>yes</td>\n",
       "    </tr>\n",
       "    <tr>\n",
       "      <th>11</th>\n",
       "      <td>overcast</td>\n",
       "      <td>72</td>\n",
       "      <td>90</td>\n",
       "      <td>true</td>\n",
       "      <td>yes</td>\n",
       "    </tr>\n",
       "    <tr>\n",
       "      <th>12</th>\n",
       "      <td>overcast</td>\n",
       "      <td>81</td>\n",
       "      <td>75</td>\n",
       "      <td>false</td>\n",
       "      <td>yes</td>\n",
       "    </tr>\n",
       "    <tr>\n",
       "      <th>13</th>\n",
       "      <td>rain</td>\n",
       "      <td>71</td>\n",
       "      <td>80</td>\n",
       "      <td>true</td>\n",
       "      <td>no</td>\n",
       "    </tr>\n",
       "  </tbody>\n",
       "</table>\n",
       "</div>"
      ],
      "text/plain": [
       "     Outlook  Temperature  Humidity   Wind Play\n",
       "0      sunny           85        85  false   no\n",
       "1      sunny           80        90   true   no\n",
       "2   overcast           83        78  false  yes\n",
       "3       rain           70        96  false  yes\n",
       "4       rain           68        80  false  yes\n",
       "5       rain           65        70   true   no\n",
       "6   overcast           64        65   true  yes\n",
       "7      sunny           72        95  false   no\n",
       "8      sunny           69        70  false  yes\n",
       "9       rain           75        80  false  yes\n",
       "10     sunny           75        70   true  yes\n",
       "11  overcast           72        90   true  yes\n",
       "12  overcast           81        75  false  yes\n",
       "13      rain           71        80   true   no"
      ]
     },
     "execution_count": 70,
     "metadata": {},
     "output_type": "execute_result"
    }
   ],
   "source": [
    "golf_df"
   ]
  },
  {
   "cell_type": "code",
   "execution_count": 71,
   "metadata": {
    "collapsed": false
   },
   "outputs": [
    {
     "data": {
      "text/html": [
       "<div>\n",
       "<table border=\"1\" class=\"dataframe\">\n",
       "  <thead>\n",
       "    <tr style=\"text-align: right;\">\n",
       "      <th></th>\n",
       "      <th>Outlook_overcast</th>\n",
       "      <th>Outlook_rain</th>\n",
       "      <th>Outlook_sunny</th>\n",
       "      <th>Temperature</th>\n",
       "      <th>Humidity</th>\n",
       "      <th>Wind</th>\n",
       "      <th>Play</th>\n",
       "    </tr>\n",
       "  </thead>\n",
       "  <tbody>\n",
       "    <tr>\n",
       "      <th>0</th>\n",
       "      <td>0</td>\n",
       "      <td>0</td>\n",
       "      <td>1</td>\n",
       "      <td>85</td>\n",
       "      <td>85</td>\n",
       "      <td>0</td>\n",
       "      <td>0</td>\n",
       "    </tr>\n",
       "    <tr>\n",
       "      <th>1</th>\n",
       "      <td>0</td>\n",
       "      <td>0</td>\n",
       "      <td>1</td>\n",
       "      <td>80</td>\n",
       "      <td>90</td>\n",
       "      <td>1</td>\n",
       "      <td>0</td>\n",
       "    </tr>\n",
       "    <tr>\n",
       "      <th>2</th>\n",
       "      <td>1</td>\n",
       "      <td>0</td>\n",
       "      <td>0</td>\n",
       "      <td>83</td>\n",
       "      <td>78</td>\n",
       "      <td>0</td>\n",
       "      <td>1</td>\n",
       "    </tr>\n",
       "    <tr>\n",
       "      <th>3</th>\n",
       "      <td>0</td>\n",
       "      <td>1</td>\n",
       "      <td>0</td>\n",
       "      <td>70</td>\n",
       "      <td>96</td>\n",
       "      <td>0</td>\n",
       "      <td>1</td>\n",
       "    </tr>\n",
       "    <tr>\n",
       "      <th>4</th>\n",
       "      <td>0</td>\n",
       "      <td>1</td>\n",
       "      <td>0</td>\n",
       "      <td>68</td>\n",
       "      <td>80</td>\n",
       "      <td>0</td>\n",
       "      <td>1</td>\n",
       "    </tr>\n",
       "  </tbody>\n",
       "</table>\n",
       "</div>"
      ],
      "text/plain": [
       "   Outlook_overcast  Outlook_rain  Outlook_sunny  Temperature  Humidity  Wind  \\\n",
       "0                 0             0              1           85        85     0   \n",
       "1                 0             0              1           80        90     1   \n",
       "2                 1             0              0           83        78     0   \n",
       "3                 0             1              0           70        96     0   \n",
       "4                 0             1              0           68        80     0   \n",
       "\n",
       "   Play  \n",
       "0     0  \n",
       "1     0  \n",
       "2     1  \n",
       "3     1  \n",
       "4     1  "
      ]
     },
     "execution_count": 71,
     "metadata": {},
     "output_type": "execute_result"
    }
   ],
   "source": [
    "from sklearn import tree\n",
    "mapper = sklearn_pandas.DataFrameMapper([\n",
    "('Outlook', sklearn.preprocessing.LabelBinarizer()),\n",
    "(['Temperature'], None), \n",
    "(['Humidity'], None), \n",
    "(['Wind'], sklearn.preprocessing.LabelBinarizer()), \n",
    "(['Play'], sklearn.preprocessing.LabelBinarizer())\n",
    "], df_out=True)\n",
    "\n",
    "\n",
    "golf_trans = mapper.fit_transform(golf_df.copy())\n",
    "\n",
    "golf_trans_test = mapper.fit_transform(golf_test_df.copy())\n",
    "\n",
    "\n",
    "X = golf_trans.ix[:,\"Outlook_overcast\":\"Wind\"].values\n",
    "Y = golf_trans.ix[:,'Play'].values\n",
    "clf = tree.DecisionTreeClassifier(criterion='gini')\n",
    "clf = clf.fit(X, Y)\n",
    "\n",
    "golf_trans.head()"
   ]
  },
  {
   "cell_type": "code",
   "execution_count": 72,
   "metadata": {
    "collapsed": false
   },
   "outputs": [
    {
     "data": {
      "text/plain": [
       "10"
      ]
     },
     "execution_count": 72,
     "metadata": {},
     "output_type": "execute_result"
    }
   ],
   "source": [
    "pred_golf = clf.predict(golf_trans_test.ix[:,\"Outlook_overcast\":\"Wind\"].values)\n",
    "sum(pred_golf==golf_trans_test.ix[:,'Play'].values)"
   ]
  },
  {
   "cell_type": "markdown",
   "metadata": {},
   "source": [
    "The correct value is predicted in 10 cases."
   ]
  },
  {
   "cell_type": "markdown",
   "metadata": {},
   "source": [
    "### Golf Dataset – Evaluation\n",
    "Evaluate the performance of your model by adding a Performance (Classification) operator to your process. Examine the confusion matrix. What is the accuracy of your classifier?"
   ]
  },
  {
   "cell_type": "code",
   "execution_count": 73,
   "metadata": {
    "collapsed": false
   },
   "outputs": [
    {
     "name": "stdout",
     "output_type": "stream",
     "text": [
      "             precision    recall  f1-score   support\n",
      "\n",
      "          0       0.60      0.60      0.60         5\n",
      "          1       0.78      0.78      0.78         9\n",
      "\n",
      "avg / total       0.71      0.71      0.71        14\n",
      "\n"
     ]
    }
   ],
   "source": [
    "print(sklearn.metrics.classification_report(golf_trans_test.ix[:,'Play'].values, pred_golf))"
   ]
  },
  {
   "cell_type": "markdown",
   "metadata": {},
   "source": [
    "### Accuracy"
   ]
  },
  {
   "cell_type": "code",
   "execution_count": 74,
   "metadata": {
    "collapsed": false
   },
   "outputs": [
    {
     "data": {
      "text/plain": [
       "0.7142857142857143"
      ]
     },
     "execution_count": 74,
     "metadata": {},
     "output_type": "execute_result"
    }
   ],
   "source": [
    "sklearn.metrics.accuracy_score(golf_trans_test.ix[:,'Play'].values, pred_golf)"
   ]
  },
  {
   "cell_type": "markdown",
   "metadata": {},
   "source": [
    "### Apply model to test set"
   ]
  },
  {
   "cell_type": "markdown",
   "metadata": {},
   "source": [
    "### Control task 3.3: Golf Dataset – k-NN\n",
    "Does a k-Nearest-Neighbor (k-NN) classifier work better for this task? To find out, replace the Decision Tree operator with a k-NN operator and evaluate the trained model using different values for k. What is the best accuracy you can reach?"
   ]
  },
  {
   "cell_type": "code",
   "execution_count": 75,
   "metadata": {
    "collapsed": false
   },
   "outputs": [],
   "source": [
    "scores=dict()\n",
    "\n",
    "for i in range(1,15):\n",
    "    KN = sklearn.neighbors.KNeighborsClassifier(i)\n",
    "    KN=KN.fit(X,Y)\n",
    "    pred_golf = KN.predict(golf_trans_test.ix[:,\"Outlook_overcast\":\"Wind\"].values)\n",
    "    #scores.append(sklearn.metrics.accuracy_score(golf_trans_test.ix[:,'Play'].values, pred_golf))\n",
    "    scores.update({i:sklearn.metrics.accuracy_score(golf_trans_test.ix[:,'Play'].values, pred_golf)})\n",
    "    "
   ]
  },
  {
   "cell_type": "code",
   "execution_count": 76,
   "metadata": {
    "collapsed": false
   },
   "outputs": [
    {
     "data": {
      "text/html": [
       "<div>\n",
       "<table border=\"1\" class=\"dataframe\">\n",
       "  <thead>\n",
       "    <tr style=\"text-align: right;\">\n",
       "      <th></th>\n",
       "      <th>k</th>\n",
       "      <th>accuracy</th>\n",
       "    </tr>\n",
       "  </thead>\n",
       "  <tbody>\n",
       "    <tr>\n",
       "      <th>0</th>\n",
       "      <td>1</td>\n",
       "      <td>0.714286</td>\n",
       "    </tr>\n",
       "  </tbody>\n",
       "</table>\n",
       "</div>"
      ],
      "text/plain": [
       "   k  accuracy\n",
       "0  1  0.714286"
      ]
     },
     "execution_count": 76,
     "metadata": {},
     "output_type": "execute_result"
    }
   ],
   "source": [
    "pd.DataFrame(pd.Series(scores).sort_values(ascending=False)).reset_index().rename(columns={\"index\":\"k\", 0:\"accuracy\"}).head(1)"
   ]
  },
  {
   "cell_type": "markdown",
   "metadata": {},
   "source": [
    "### Control task 3.4: Iris Flowers – ID3 \n",
    "Set up the process as described above. What accuracy can you reach using the ID3 decision tree?"
   ]
  },
  {
   "cell_type": "code",
   "execution_count": 77,
   "metadata": {
    "collapsed": false
   },
   "outputs": [
    {
     "data": {
      "text/plain": [
       "[setosa, versicolor, virginica]\n",
       "Categories (3, object): [setosa, versicolor, virginica]"
      ]
     },
     "execution_count": 77,
     "metadata": {},
     "output_type": "execute_result"
    }
   ],
   "source": [
    "r('df<-iris')\n",
    "iris = r_to_py()\n",
    "iris.head()\n",
    "iris.Species.unique()"
   ]
  },
  {
   "cell_type": "code",
   "execution_count": 78,
   "metadata": {
    "collapsed": false
   },
   "outputs": [
    {
     "data": {
      "text/plain": [
       "'try({iris_bins<-read_feather(path)})\\r\\n'"
      ]
     },
     "execution_count": 78,
     "metadata": {},
     "output_type": "execute_result"
    }
   ],
   "source": [
    "iris['Sepal.Length'] = pd.qcut(iris['Sepal.Length'], 3)\n",
    "iris['Sepal.Width'] = pd.qcut(iris['Sepal.Width'], 3)\n",
    "iris['Petal.Length'] = pd.qcut(iris['Petal.Length'], 3)\n",
    "iris['Petal.Width'] = pd.qcut(iris['Petal.Width'], 3)\n",
    "\n",
    "path = \"C:/Users/Knuts-L450/Desktop/DS Studium/10300 Datamining/VL 3 Classification/df.feather\"\n",
    "feather.write_dataframe(iris, path)\n",
    "r('path<-c(\"C:/Users/Knuts-L450/Desktop/DS Studium/10300 Datamining/VL 3 Classification/df.feather\")')\n",
    "r('iris_bins<-read_feather(path)')\n"
   ]
  },
  {
   "cell_type": "code",
   "execution_count": 79,
   "metadata": {
    "collapsed": false
   },
   "outputs": [],
   "source": [
    "from sklearn import *\n",
    "mapper = sklearn_pandas.DataFrameMapper([\n",
    "(['Sepal.Length'], sklearn.preprocessing.LabelBinarizer()),\n",
    "(['Sepal.Width'], sklearn.preprocessing.LabelBinarizer()), \n",
    "(['Petal.Length'], sklearn.preprocessing.LabelBinarizer()), \n",
    "(['Petal.Width'], sklearn.preprocessing.LabelBinarizer()), \n",
    "(['Species'], sklearn.preprocessing.LabelBinarizer())\n",
    "], df_out=True)\n",
    "\n",
    "\n",
    "iris_trans = mapper.fit_transform(iris.copy())\n",
    "X = iris_trans.ix[:,'Sepal.Length_(5.4, 6.3]':'Petal.Width_[0.1, 0.867]'].values\n",
    "y = iris_trans.ix[:,'Species_setosa':'Species_virginica'].values\n",
    "\n",
    "X_train, X_test, y_train, y_test = sklearn.model_selection.train_test_split(X, y, test_size=0.30)\n"
   ]
  },
  {
   "cell_type": "code",
   "execution_count": 80,
   "metadata": {
    "collapsed": false
   },
   "outputs": [],
   "source": [
    "clf = tree.DecisionTreeClassifier(criterion='entropy')\n",
    "clf_ID3 = clf.fit(X_train, y_train)\n",
    "pred_iris = clf_ID3.predict(X_test)"
   ]
  },
  {
   "cell_type": "code",
   "execution_count": 81,
   "metadata": {
    "collapsed": false
   },
   "outputs": [
    {
     "data": {
      "text/plain": [
       "1.0"
      ]
     },
     "execution_count": 81,
     "metadata": {},
     "output_type": "execute_result"
    }
   ],
   "source": [
    "sklearn.metrics.accuracy_score(y_test, pred_iris)"
   ]
  },
  {
   "cell_type": "markdown",
   "metadata": {},
   "source": [
    "After the binning, we reach an accuracy of 100 % for this sample. Note: This is not really the  ID3 algorithm, but a CART one. Sklearn does not have one. Just grab R, or RWeka, that is. Allowed, as weka algorithms are still deployable in various settings as java models. For the challenge, we assume we cant deploy R models, which of course is possible. It does show that python is still not as mature as other languages  on some (long forgotten) ML tasks, especially, historic algorithms are of no interest to the community. What works works. "
   ]
  },
  {
   "cell_type": "code",
   "execution_count": 82,
   "metadata": {
    "collapsed": false,
    "scrolled": true
   },
   "outputs": [
    {
     "data": {
      "text/plain": [
       "\"try({library(RWeka)})\\r\\nWarnmeldung:\\r\\nPaket 'RWeka' wurde unter R Version 3.3.3 erstellt \\r\\n\""
      ]
     },
     "execution_count": 82,
     "metadata": {},
     "output_type": "execute_result"
    }
   ],
   "source": [
    "r('library(RWeka)')"
   ]
  },
  {
   "cell_type": "markdown",
   "metadata": {},
   "source": [
    "### Control task 3.5: Iris Flowers – Decision Tree\n",
    "What accuracy can be reached using this kind of decision tree algorithm?\n",
    "Compare the different trained models (trees). In case you would need to\n",
    "interpret the model as human, which model would you use and why? (Hint:\n",
    "Keep in mind Occam’s Razor.)"
   ]
  },
  {
   "cell_type": "code",
   "execution_count": 83,
   "metadata": {
    "collapsed": false
   },
   "outputs": [],
   "source": [
    "iris = r_to_py()\n",
    "\n",
    "mapper = sklearn_pandas.DataFrameMapper([\n",
    "(['Sepal.Length'], None),\n",
    "(['Sepal.Width'], None), \n",
    "(['Petal.Length'], None), \n",
    "(['Petal.Width'], None), \n",
    "(['Species'], sklearn.preprocessing.LabelBinarizer())], df_out=True)\n",
    "\n",
    "\n",
    "iris_trans = mapper.fit_transform(iris.copy())\n",
    "X = iris_trans.ix[:,'Sepal.Length':'Petal.Width'].values\n",
    "y = iris_trans.ix[:,'Species_setosa':'Species_virginica'].values\n",
    "\n",
    "X_train, X_test, y_train, y_test = sklearn.model_selection.train_test_split(X, y, test_size=0.30)\n",
    "\n",
    "clf = tree.DecisionTreeClassifier(criterion='gini')\n",
    "clf = clf.fit(X_train, y_train)\n",
    "pred_iris = clf.predict(X_test)\n",
    "acc = sklearn.metrics.accuracy_score(y_test, pred_iris)"
   ]
  },
  {
   "cell_type": "code",
   "execution_count": 84,
   "metadata": {
    "collapsed": false
   },
   "outputs": [
    {
     "data": {
      "text/plain": [
       "0.9555555555555556"
      ]
     },
     "execution_count": 84,
     "metadata": {},
     "output_type": "execute_result"
    }
   ],
   "source": [
    "acc"
   ]
  },
  {
   "cell_type": "markdown",
   "metadata": {
    "collapsed": false
   },
   "source": [
    "### Control task 3.5: Iris Flowers – Decision Tree \n",
    "What accuracy can be reached using this kind of decision tree algorithm?\n",
    "Compare the different trained models (trees). In case you would need to\n",
    "interpret the model as human, which model would you use and why? (Hint:\n",
    "Keep in mind Occam’s Razor.)"
   ]
  },
  {
   "cell_type": "code",
   "execution_count": 85,
   "metadata": {
    "collapsed": false
   },
   "outputs": [
    {
     "data": {
      "image/png": "[encoded data removed]",
      "text/plain": [
       "<IPython.core.display.Image object>"
      ]
     },
     "execution_count": 85,
     "metadata": {},
     "output_type": "execute_result"
    }
   ],
   "source": [
    "import pydotplus\n",
    "from IPython.display import Image  \n",
    "dot_data = tree.export_graphviz(clf, out_file=None) \n",
    "graph = pydotplus.graph_from_dot_data(dot_data) \n",
    "#graph.write_pdf(\"iris.pdf\") \n",
    "Image(graph.create_png()) "
   ]
  },
  {
   "cell_type": "code",
   "execution_count": null,
   "metadata": {
    "collapsed": false
   },
   "outputs": [],
   "source": []
  },
  {
   "cell_type": "code",
   "execution_count": 86,
   "metadata": {
    "collapsed": false
   },
   "outputs": [
    {
     "data": {
      "text/plain": [
       "'try({ID3 <- make_Weka_classifier(\"weka/classifiers/trees/Id3\")})\\r\\n'"
      ]
     },
     "execution_count": 86,
     "metadata": {},
     "output_type": "execute_result"
    }
   ],
   "source": [
    "#r('library(RWeka)')\n",
    "#r('WPM(\"refresh-cache\")')\n",
    "#r('WPM(\"list-packages\", \"available\")')\n",
    "#r('WPM(\"install-package\", \"simpleEducationalLearningSchemes\")')\n",
    "r('WPM(\"load-package\", \"simpleEducationalLearningSchemes\")')\n",
    "r('ID3 <- make_Weka_classifier(\"weka/classifiers/trees/Id3\")') #we need to install and create the good old 1986 id3 algorithm\n",
    "# J48 is alike"
   ]
  },
  {
   "cell_type": "code",
   "execution_count": 87,
   "metadata": {
    "collapsed": false
   },
   "outputs": [
    {
     "data": {
      "image/png": "[encoded data removed]",
      "text/plain": [
       "<IPython.core.display.Image object>"
      ]
     },
     "execution_count": 87,
     "metadata": {
      "image/png": {
       "height": 400,
       "width": 800
      }
     },
     "output_type": "execute_result"
    }
   ],
   "source": [
    "\n",
    "r('J48fit<-J48(Species ~ ., data = iris_bins)')\n",
    "r('J48fit_plot<-plot(J48fit)')\n",
    "r('partykit')\n",
    "\n",
    "# Save the figure\n",
    "r(\"png('rplot.png');if(require('partykit', quietly = TRUE)) plot(J48fit);dev.off()\")\n",
    "\n",
    "\n",
    "# Upload the figure to Jupyter\n",
    "from IPython.display import Image\n",
    "Image(\"rplot.png\",width=800,height=400)"
   ]
  },
  {
   "cell_type": "markdown",
   "metadata": {},
   "source": [
    "With regard to interpretability, ID3, as showing where most records are after only 2 steps instead of the deeeper binary choices in the CART variant in sklearn. ä "
   ]
  },
  {
   "cell_type": "code",
   "execution_count": 88,
   "metadata": {
    "collapsed": false
   },
   "outputs": [
    {
     "name": "stdout",
     "output_type": "stream",
     "text": [
      "try({ID3fit})\r\n",
      "Id3\r\n",
      "\r\n",
      "\r\n",
      "Petal.Width = [0.1, 0.867]: setosa\r\n",
      "Petal.Width = (0.867, 1.6]\r\n",
      "|  Petal.Length = [1, 2.633]: null\r\n",
      "|  Petal.Length = (2.633, 4.9]: versicolor\r\n",
      "|  Petal.Length = (4.9, 6.9]\r\n",
      "|  |  Sepal.Length = [4.3, 5.4]: null\r\n",
      "|  |  Sepal.Length = (5.4, 6.3]: virginica\r\n",
      "|  |  Sepal.Length = (6.3, 7.9]: virginica\r\n",
      "Petal.Width = (1.6, 2.5]\r\n",
      "|  Sepal.Width = [2, 2.9]: virginica\r\n",
      "|  Sepal.Width = (2.9, 3.2]\r\n",
      "|  |  Petal.Length = [1, 2.633]: null\r\n",
      "|  |  Petal.Length = (2.633, 4.9]: virginica\r\n",
      "|  |  Petal.Length = (4.9, 6.9]\r\n",
      "|  |  |  Sepal.Length = [4.3, 5.4]: null\r\n",
      "|  |  |  Sepal.Length = (5.4, 6.3]: virginica\r\n",
      "|  |  |  Sepal.Length = (6.3, 7.9]: virginica\r\n",
      "|  Sepal.Width = (3.2, 4.4]: virginica\r\n",
      "\n"
     ]
    }
   ],
   "source": [
    "r('ID3fit<-ID3(Species ~ ., data = iris_bins)')\n",
    "print(r('ID3fit'))"
   ]
  },
  {
   "cell_type": "markdown",
   "metadata": {},
   "source": [
    "### Control task 3.6: Credit Dataset – ROC \n",
    "Apply the Compare ROCs operator to the dataset and include k-NN (with\n",
    "different values for k), Decision Tree, Naive Bayes and Rule Induction.\n",
    "Which classification approach looks most promising to you?"
   ]
  },
  {
   "cell_type": "code",
   "execution_count": 89,
   "metadata": {
    "collapsed": false
   },
   "outputs": [
    {
     "data": {
      "text/plain": [
       "'try({credit<-read.arff(\"C:/Users/Knuts-L450/Desktop/DS Studium/10300 Datamining/VL 3 Classification/credit-g.arff\")})\\r\\n'"
      ]
     },
     "execution_count": 89,
     "metadata": {},
     "output_type": "execute_result"
    }
   ],
   "source": [
    "r('credit<-read.arff(\"C:/Users/Knuts-L450/Desktop/DS Studium/10300 Datamining/VL 3 Classification/credit-g.arff\")')"
   ]
  },
  {
   "cell_type": "code",
   "execution_count": 90,
   "metadata": {
    "collapsed": false
   },
   "outputs": [
    {
     "name": "stdout",
     "output_type": "stream",
     "text": [
      "try({sapply(credit, class)})\r\n",
      "       checking_status               duration         credit_history \r\n",
      "              \"factor\"              \"numeric\"               \"factor\" \r\n",
      "               purpose          credit_amount         savings_status \r\n",
      "              \"factor\"              \"numeric\"               \"factor\" \r\n",
      "            employment installment_commitment        personal_status \r\n",
      "              \"factor\"              \"numeric\"               \"factor\" \r\n",
      "         other_parties        residence_since     property_magnitude \r\n",
      "              \"factor\"              \"numeric\"               \"factor\" \r\n",
      "                   age    other_payment_plans                housing \r\n",
      "             \"numeric\"               \"factor\"               \"factor\" \r\n",
      "      existing_credits                    job         num_dependents \r\n",
      "             \"numeric\"               \"factor\"              \"numeric\" \r\n",
      "         own_telephone         foreign_worker                  class \r\n",
      "              \"factor\"               \"factor\"               \"factor\" \r\n",
      "\n"
     ]
    }
   ],
   "source": [
    "print(r('sapply(credit, class)'))"
   ]
  },
  {
   "cell_type": "code",
   "execution_count": 91,
   "metadata": {
    "collapsed": false
   },
   "outputs": [
    {
     "data": {
      "text/html": [
       "<div>\n",
       "<table border=\"1\" class=\"dataframe\">\n",
       "  <thead>\n",
       "    <tr style=\"text-align: right;\">\n",
       "      <th></th>\n",
       "      <th>duration</th>\n",
       "      <th>credit_amount</th>\n",
       "      <th>installment_commitment</th>\n",
       "      <th>residence_since</th>\n",
       "      <th>age</th>\n",
       "      <th>existing_credits</th>\n",
       "      <th>num_dependents</th>\n",
       "      <th>checking_status_&lt;0</th>\n",
       "      <th>checking_status_0&lt;=X&lt;200</th>\n",
       "      <th>checking_status_&gt;=200</th>\n",
       "      <th>...</th>\n",
       "      <th>job_unemp/unskilled non res</th>\n",
       "      <th>job_unskilled resident</th>\n",
       "      <th>job_skilled</th>\n",
       "      <th>job_high qualif/self emp/mgmt</th>\n",
       "      <th>own_telephone_none</th>\n",
       "      <th>own_telephone_yes</th>\n",
       "      <th>foreign_worker_yes</th>\n",
       "      <th>foreign_worker_no</th>\n",
       "      <th>class_good</th>\n",
       "      <th>class_bad</th>\n",
       "    </tr>\n",
       "  </thead>\n",
       "  <tbody>\n",
       "    <tr>\n",
       "      <th>0</th>\n",
       "      <td>6.0</td>\n",
       "      <td>1169.0</td>\n",
       "      <td>4.0</td>\n",
       "      <td>4.0</td>\n",
       "      <td>67.0</td>\n",
       "      <td>2.0</td>\n",
       "      <td>1.0</td>\n",
       "      <td>1</td>\n",
       "      <td>0</td>\n",
       "      <td>0</td>\n",
       "      <td>...</td>\n",
       "      <td>0</td>\n",
       "      <td>0</td>\n",
       "      <td>1</td>\n",
       "      <td>0</td>\n",
       "      <td>0</td>\n",
       "      <td>1</td>\n",
       "      <td>1</td>\n",
       "      <td>0</td>\n",
       "      <td>1</td>\n",
       "      <td>0</td>\n",
       "    </tr>\n",
       "    <tr>\n",
       "      <th>1</th>\n",
       "      <td>48.0</td>\n",
       "      <td>5951.0</td>\n",
       "      <td>2.0</td>\n",
       "      <td>2.0</td>\n",
       "      <td>22.0</td>\n",
       "      <td>1.0</td>\n",
       "      <td>1.0</td>\n",
       "      <td>0</td>\n",
       "      <td>1</td>\n",
       "      <td>0</td>\n",
       "      <td>...</td>\n",
       "      <td>0</td>\n",
       "      <td>0</td>\n",
       "      <td>1</td>\n",
       "      <td>0</td>\n",
       "      <td>1</td>\n",
       "      <td>0</td>\n",
       "      <td>1</td>\n",
       "      <td>0</td>\n",
       "      <td>0</td>\n",
       "      <td>1</td>\n",
       "    </tr>\n",
       "    <tr>\n",
       "      <th>2</th>\n",
       "      <td>12.0</td>\n",
       "      <td>2096.0</td>\n",
       "      <td>2.0</td>\n",
       "      <td>3.0</td>\n",
       "      <td>49.0</td>\n",
       "      <td>1.0</td>\n",
       "      <td>2.0</td>\n",
       "      <td>0</td>\n",
       "      <td>0</td>\n",
       "      <td>0</td>\n",
       "      <td>...</td>\n",
       "      <td>0</td>\n",
       "      <td>1</td>\n",
       "      <td>0</td>\n",
       "      <td>0</td>\n",
       "      <td>1</td>\n",
       "      <td>0</td>\n",
       "      <td>1</td>\n",
       "      <td>0</td>\n",
       "      <td>1</td>\n",
       "      <td>0</td>\n",
       "    </tr>\n",
       "    <tr>\n",
       "      <th>3</th>\n",
       "      <td>42.0</td>\n",
       "      <td>7882.0</td>\n",
       "      <td>2.0</td>\n",
       "      <td>4.0</td>\n",
       "      <td>45.0</td>\n",
       "      <td>1.0</td>\n",
       "      <td>2.0</td>\n",
       "      <td>1</td>\n",
       "      <td>0</td>\n",
       "      <td>0</td>\n",
       "      <td>...</td>\n",
       "      <td>0</td>\n",
       "      <td>0</td>\n",
       "      <td>1</td>\n",
       "      <td>0</td>\n",
       "      <td>1</td>\n",
       "      <td>0</td>\n",
       "      <td>1</td>\n",
       "      <td>0</td>\n",
       "      <td>1</td>\n",
       "      <td>0</td>\n",
       "    </tr>\n",
       "    <tr>\n",
       "      <th>4</th>\n",
       "      <td>24.0</td>\n",
       "      <td>4870.0</td>\n",
       "      <td>3.0</td>\n",
       "      <td>4.0</td>\n",
       "      <td>53.0</td>\n",
       "      <td>2.0</td>\n",
       "      <td>2.0</td>\n",
       "      <td>1</td>\n",
       "      <td>0</td>\n",
       "      <td>0</td>\n",
       "      <td>...</td>\n",
       "      <td>0</td>\n",
       "      <td>0</td>\n",
       "      <td>1</td>\n",
       "      <td>0</td>\n",
       "      <td>1</td>\n",
       "      <td>0</td>\n",
       "      <td>1</td>\n",
       "      <td>0</td>\n",
       "      <td>0</td>\n",
       "      <td>1</td>\n",
       "    </tr>\n",
       "  </tbody>\n",
       "</table>\n",
       "<p>5 rows × 65 columns</p>\n",
       "</div>"
      ],
      "text/plain": [
       "   duration  credit_amount  installment_commitment  residence_since   age  \\\n",
       "0       6.0         1169.0                     4.0              4.0  67.0   \n",
       "1      48.0         5951.0                     2.0              2.0  22.0   \n",
       "2      12.0         2096.0                     2.0              3.0  49.0   \n",
       "3      42.0         7882.0                     2.0              4.0  45.0   \n",
       "4      24.0         4870.0                     3.0              4.0  53.0   \n",
       "\n",
       "   existing_credits  num_dependents  checking_status_<0  \\\n",
       "0               2.0             1.0                   1   \n",
       "1               1.0             1.0                   0   \n",
       "2               1.0             2.0                   0   \n",
       "3               1.0             2.0                   1   \n",
       "4               2.0             2.0                   1   \n",
       "\n",
       "   checking_status_0<=X<200  checking_status_>=200    ...      \\\n",
       "0                         0                      0    ...       \n",
       "1                         1                      0    ...       \n",
       "2                         0                      0    ...       \n",
       "3                         0                      0    ...       \n",
       "4                         0                      0    ...       \n",
       "\n",
       "   job_unemp/unskilled non res  job_unskilled resident  job_skilled  \\\n",
       "0                            0                       0            1   \n",
       "1                            0                       0            1   \n",
       "2                            0                       1            0   \n",
       "3                            0                       0            1   \n",
       "4                            0                       0            1   \n",
       "\n",
       "   job_high qualif/self emp/mgmt  own_telephone_none  own_telephone_yes  \\\n",
       "0                              0                   0                  1   \n",
       "1                              0                   1                  0   \n",
       "2                              0                   1                  0   \n",
       "3                              0                   1                  0   \n",
       "4                              0                   1                  0   \n",
       "\n",
       "   foreign_worker_yes  foreign_worker_no  class_good  class_bad  \n",
       "0                   1                  0           1          0  \n",
       "1                   1                  0           0          1  \n",
       "2                   1                  0           1          0  \n",
       "3                   1                  0           1          0  \n",
       "4                   1                  0           0          1  \n",
       "\n",
       "[5 rows x 65 columns]"
      ]
     },
     "execution_count": 91,
     "metadata": {},
     "output_type": "execute_result"
    }
   ],
   "source": [
    "r('df<-credit')\n",
    "credit = r_to_py()\n",
    "pd.get_dummies(credit.head())"
   ]
  },
  {
   "cell_type": "code",
   "execution_count": 92,
   "metadata": {
    "collapsed": false,
    "scrolled": true
   },
   "outputs": [
    {
     "name": "stdout",
     "output_type": "stream",
     "text": [
      "0.67\n",
      "{'preprocs': (), 'ex_preprocs': (), 'learner': KNeighborsClassifier(algorithm='auto', leaf_size=30, metric='minkowski',\n",
      "           metric_params=None, n_jobs=1, n_neighbors=17, p=4.0,\n",
      "           weights='distance')}\n"
     ]
    },
    {
     "name": "stderr",
     "output_type": "stream",
     "text": [
      "c:\\users\\knuts-l450\\desktop\\hyperopt-sklearn\\hpsklearn\\estimator.py:657: DataConversionWarning: A column-vector y was passed when a 1d array was expected. Please change the shape of y to (n_samples, ), for example using ravel().\n",
      "  self._best_learner.fit(XEX, y)\n"
     ]
    }
   ],
   "source": [
    "from hpsklearn import HyperoptEstimator, multinomial_nb, knn, decision_tree\n",
    "from hyperopt import hp\n",
    "\n",
    "clf = hp.pchoice( 'my_name', \n",
    "          [ ( 0.25, decision_tree('my_name.decision_tree', min_samples_leaf=3, min_samples_split=2) ),\n",
    "            ( 0.25, multinomial_nb('my_name.multinomial_nb') ),\n",
    "            ( 0.25, knn('my_name.knn') ) ]) #old school rule induction done with orange, not implemented in hpsklearn\n",
    "#or autosklearn\n",
    "\n",
    "estim = HyperoptEstimator( classifier=clf ,  preprocessing=[], max_evals=30) #no preprocessing\n",
    "\n",
    "credit['class'] = credit['class'].astype(str) #it appeears that sklearn is not really capable of using categoricals... \n",
    "### it is puzzling a lot compared to R\n",
    "\n",
    "#preprocess\n",
    "X =pd.get_dummies(credit.ix[:,1:len(credit.columns)-1]).values\n",
    "\n",
    "mapper = sklearn_pandas.DataFrameMapper([\n",
    "(['class'], sklearn.preprocessing.LabelBinarizer())], df_out=True)# default=None)#, df_out=True)\n",
    "\n",
    "y = mapper.fit_transform(credit.copy()).values\n",
    "\n",
    "\n",
    "X_train, X_test, y_train, y_test = sklearn.model_selection.train_test_split(X, y, test_size=0.30)\n",
    "\n",
    "estim.fit( X_train, y_train )\n",
    "\n",
    "# get accuracy and best model\n",
    "print( estim.score( X_test, y_test ) )\n",
    "print( estim.best_model() )\n",
    "\n",
    "#print(sklearn.metrics.roc_curve(y_true, y_score))"
   ]
  },
  {
   "cell_type": "code",
   "execution_count": 93,
   "metadata": {
    "collapsed": false
   },
   "outputs": [
    {
     "data": {
      "text/plain": [
       "checking_status           category\n",
       "duration                   float64\n",
       "credit_history            category\n",
       "purpose                   category\n",
       "credit_amount              float64\n",
       "savings_status            category\n",
       "employment                category\n",
       "installment_commitment     float64\n",
       "personal_status           category\n",
       "other_parties             category\n",
       "residence_since            float64\n",
       "property_magnitude        category\n",
       "age                        float64\n",
       "other_payment_plans       category\n",
       "housing                   category\n",
       "existing_credits           float64\n",
       "job                       category\n",
       "num_dependents             float64\n",
       "own_telephone             category\n",
       "foreign_worker            category\n",
       "class                       object\n",
       "dtype: object"
      ]
     },
     "execution_count": 93,
     "metadata": {},
     "output_type": "execute_result"
    }
   ],
   "source": [
    "credit.dtypes"
   ]
  },
  {
   "cell_type": "code",
   "execution_count": 94,
   "metadata": {
    "collapsed": false
   },
   "outputs": [],
   "source": [
    "import Orange\n",
    "\n",
    "def convert_dataframe_to_orange(df):\n",
    "    df.to_csv('_temp_.csv',index_label='id')\n",
    "    orange_table = Orange.data.Table('_temp_.csv')\n",
    "    os.unlink('_temp_.csv')\n",
    "    return orange_table\n",
    "\n",
    "#credit_orange = convert_dataframe_to_orange(credit)\n",
    "\n",
    "credit['class'] = credit['class'].astype('category')\n",
    "\n",
    "cat_columns = credit.select_dtypes(['category']).columns\n",
    "credit[cat_columns] = credit[cat_columns].apply(lambda x: x.cat.codes)\n",
    "\n",
    "import numpy as np\n",
    "from Orange.data.domain import DiscreteVariable, ContinuousVariable\n",
    "from Orange.data import Domain, Table\n",
    "domain = Domain([\n",
    "    DiscreteVariable('checking_status', values=[str(v) for v in np.unique(credit.checking_status)]),\n",
    "    ContinuousVariable('duration'),\n",
    "    DiscreteVariable('credit_history', values=[str(v) for v in np.unique(credit.credit_history)]),\n",
    "    DiscreteVariable('purpose', values=[str(v) for v in np.unique(credit.purpose)]),\n",
    "    ContinuousVariable('credit_amount'),\n",
    "    DiscreteVariable('savings_status', values=[str(v) for v in np.unique(credit.savings_status)]),\n",
    "    DiscreteVariable('employment', values=[str(v) for v in np.unique(credit.employment)]),    \n",
    "    ContinuousVariable('installment_commitment'),\n",
    "    DiscreteVariable('personal_status', values=[str(v) for v in np.unique(credit.personal_status)]),    \n",
    "    DiscreteVariable('other_parties', values=[str(v) for v in np.unique(credit.other_parties)]),     \n",
    "    ContinuousVariable('residence_since'),\n",
    "    DiscreteVariable('property_magnitude', values=[str(v) for v in np.unique(credit.property_magnitude)]),\n",
    "    ContinuousVariable('age'),  \n",
    "    DiscreteVariable('other_payment_plans', values=[str(v) for v in np.unique(credit.other_payment_plans)]),    \n",
    "    DiscreteVariable('housing', values=[str(v) for v in np.unique(credit.housing)]),  \n",
    "    ContinuousVariable('existing_credits'), \n",
    "    DiscreteVariable('job', values=[str(v) for v in np.unique(credit.job)]),    \n",
    "    ContinuousVariable('num_dependents'),  \n",
    "    DiscreteVariable('own_telephone', values=[str(v) for v in np.unique(credit.own_telephone)]),           \n",
    "    DiscreteVariable('foreign_worker', values=[str(v) for v in np.unique(credit.foreign_worker)])],     \n",
    "    class_vars = DiscreteVariable('class', values=[str(v) for v in np.unique(credit['class'])]))\n",
    "\n",
    "credit_orange = Orange.data.Table.from_numpy(domain, credit.ix[:,1:len(credit.columns)].values, credit['class'].values)\n",
    "#table = Table(domain, credit_orange)"
   ]
  },
  {
   "cell_type": "code",
   "execution_count": 102,
   "metadata": {
    "collapsed": false
   },
   "outputs": [
    {
     "name": "stdout",
     "output_type": "stream",
     "text": [
      "Help on module Orange.evaluation.testing in Orange.evaluation:\n",
      "\n",
      "NAME\n",
      "    Orange.evaluation.testing\n",
      "\n",
      "CLASSES\n",
      "    builtins.object\n",
      "        Results\n",
      "            CrossValidation\n",
      "            LeaveOneOut\n",
      "            ShuffleSplit\n",
      "            TestOnTestData\n",
      "                TestOnTrainingData\n",
      "    \n",
      "    class CrossValidation(Results)\n",
      "     |  K-fold cross validation.\n",
      "     |  \n",
      "     |  If the constructor is given the data and a list of learning algorithms, it\n",
      "     |  runs cross validation and returns an instance of `Results` containing the\n",
      "     |  predicted values and probabilities.\n",
      "     |  \n",
      "     |  .. attribute:: k\n",
      "     |  \n",
      "     |      The number of folds.\n",
      "     |  \n",
      "     |  .. attribute:: random_state\n",
      "     |  \n",
      "     |  Method resolution order:\n",
      "     |      CrossValidation\n",
      "     |      Results\n",
      "     |      builtins.object\n",
      "     |  \n",
      "     |  Methods defined here:\n",
      "     |  \n",
      "     |  __init__(self, data, learners, k=10, stratified=True, random_state=0, store_data=False, store_models=False, preprocessor=None, callback=None, warnings=None, n_jobs=1)\n",
      "     |      Construct an instance with default values: `None` for :obj:`data` and\n",
      "     |      :obj:`models`.\n",
      "     |      \n",
      "     |      If the number of rows and/or the number of classes is not given, it is\n",
      "     |      inferred from :obj:`data`, if provided. The data type for\n",
      "     |      :obj:`actual` and :obj:`predicted` is determined from the data; if the\n",
      "     |      latter cannot be find, `np.float32` is used.\n",
      "     |      \n",
      "     |      Attribute :obj:`actual` and :obj:`row_indices` are constructed as empty\n",
      "     |      (uninitialized) arrays of the appropriate size, if the number of rows\n",
      "     |      is known. Attribute :obj:`predicted` is constructed if the number of\n",
      "     |      rows and of methods is given; :obj:`probabilities` also requires\n",
      "     |      knowing the number of classes.\n",
      "     |      \n",
      "     |      :param data: Data or domain\n",
      "     |      :type data: Orange.data.Table or Orange.data.Domain\n",
      "     |      :param nmethods: The number of methods that will be tested\n",
      "     |      :type nmethods: int\n",
      "     |      :param nrows: The number of test instances (including duplicates)\n",
      "     |      :type nrows: int\n",
      "     |      :param nclasses: The number of class values\n",
      "     |      :type nclasses: int\n",
      "     |      :param store_data: A flag that tells whether to store the data;\n",
      "     |          this argument can be given only as keyword argument\n",
      "     |      :type store_data: bool\n",
      "     |      :param store_models: A flag that tells whether to store the models;\n",
      "     |          this argument can be given only as keyword argument\n",
      "     |      :type store_models: bool\n",
      "     |      :param preprocessor: Preprocessor for training data\n",
      "     |      :type preprocessor: Orange.preprocess.Preprocess\n",
      "     |      :param callback: Function for reporting back the progress as a value\n",
      "     |          between 0 and 1\n",
      "     |      :type callback: callable\n",
      "     |      :param n_jobs: The number of processes to parallelize the evaluation\n",
      "     |          on. -1 to parallelize on all but one CPUs. 1 for no\n",
      "     |          parallelization.\n",
      "     |      :type n_jobs: int\n",
      "     |  \n",
      "     |  setup_indices(self, train_data, test_data)\n",
      "     |      Initializes `self.indices` with iterable objects with slices\n",
      "     |      (or indices) for each fold.\n",
      "     |      \n",
      "     |      Args:\n",
      "     |          train_data (Table): train table\n",
      "     |          test_data (Table): test table\n",
      "     |  \n",
      "     |  ----------------------------------------------------------------------\n",
      "     |  Methods inherited from Results:\n",
      "     |  \n",
      "     |  fit(self, train_data, test_data=None)\n",
      "     |      Fits `self.learners` using folds sampled from the provided data.\n",
      "     |      \n",
      "     |      Args:\n",
      "     |          train_data (Table): table to sample train folds\n",
      "     |          test_data (Optional[Table]): tap to sample test folds\n",
      "     |              of None then `train_data` will be used\n",
      "     |  \n",
      "     |  get_augmented_data(self, model_names, include_attrs=True, include_predictions=True, include_probabilities=True)\n",
      "     |      Return the data, augmented with predictions, probabilities (if the task is classification) and folds info.\n",
      "     |      Predictions, probabilities and folds are inserted as meta attributes.\n",
      "     |      \n",
      "     |      Args:\n",
      "     |          model_names (list): A list of strings containing learners' names.\n",
      "     |          include_attrs (bool): Flag that tells whether to include original attributes.\n",
      "     |          include_predictions (bool): Flag that tells whether to include predictions.\n",
      "     |          include_probabilities (bool): Flag that tells whether to include probabilities.\n",
      "     |      \n",
      "     |      Returns:\n",
      "     |          Orange.data.Table: Data augmented with predictions, (probabilities) and (fold).\n",
      "     |  \n",
      "     |  get_fold(self, fold)\n",
      "     |  \n",
      "     |  prepare_arrays(self, test_data)\n",
      "     |      Initialize arrays that will be used by `fit` method.\n",
      "     |  \n",
      "     |  split_by_model(self)\n",
      "     |      Split evaluation results by models\n",
      "     |  \n",
      "     |  ----------------------------------------------------------------------\n",
      "     |  Data descriptors inherited from Results:\n",
      "     |  \n",
      "     |  __dict__\n",
      "     |      dictionary for instance variables (if defined)\n",
      "     |  \n",
      "     |  __weakref__\n",
      "     |      list of weak references to the object (if defined)\n",
      "     |  \n",
      "     |  ----------------------------------------------------------------------\n",
      "     |  Data and other attributes inherited from Results:\n",
      "     |  \n",
      "     |  score_by_folds = True\n",
      "    \n",
      "    class LeaveOneOut(Results)\n",
      "     |  Leave-one-out testing\n",
      "     |  \n",
      "     |  Method resolution order:\n",
      "     |      LeaveOneOut\n",
      "     |      Results\n",
      "     |      builtins.object\n",
      "     |  \n",
      "     |  Methods defined here:\n",
      "     |  \n",
      "     |  __init__(self, data, learners, store_data=False, store_models=False, preprocessor=None, callback=None, n_jobs=1)\n",
      "     |      Construct an instance with default values: `None` for :obj:`data` and\n",
      "     |      :obj:`models`.\n",
      "     |      \n",
      "     |      If the number of rows and/or the number of classes is not given, it is\n",
      "     |      inferred from :obj:`data`, if provided. The data type for\n",
      "     |      :obj:`actual` and :obj:`predicted` is determined from the data; if the\n",
      "     |      latter cannot be find, `np.float32` is used.\n",
      "     |      \n",
      "     |      Attribute :obj:`actual` and :obj:`row_indices` are constructed as empty\n",
      "     |      (uninitialized) arrays of the appropriate size, if the number of rows\n",
      "     |      is known. Attribute :obj:`predicted` is constructed if the number of\n",
      "     |      rows and of methods is given; :obj:`probabilities` also requires\n",
      "     |      knowing the number of classes.\n",
      "     |      \n",
      "     |      :param data: Data or domain\n",
      "     |      :type data: Orange.data.Table or Orange.data.Domain\n",
      "     |      :param nmethods: The number of methods that will be tested\n",
      "     |      :type nmethods: int\n",
      "     |      :param nrows: The number of test instances (including duplicates)\n",
      "     |      :type nrows: int\n",
      "     |      :param nclasses: The number of class values\n",
      "     |      :type nclasses: int\n",
      "     |      :param store_data: A flag that tells whether to store the data;\n",
      "     |          this argument can be given only as keyword argument\n",
      "     |      :type store_data: bool\n",
      "     |      :param store_models: A flag that tells whether to store the models;\n",
      "     |          this argument can be given only as keyword argument\n",
      "     |      :type store_models: bool\n",
      "     |      :param preprocessor: Preprocessor for training data\n",
      "     |      :type preprocessor: Orange.preprocess.Preprocess\n",
      "     |      :param callback: Function for reporting back the progress as a value\n",
      "     |          between 0 and 1\n",
      "     |      :type callback: callable\n",
      "     |      :param n_jobs: The number of processes to parallelize the evaluation\n",
      "     |          on. -1 to parallelize on all but one CPUs. 1 for no\n",
      "     |          parallelization.\n",
      "     |      :type n_jobs: int\n",
      "     |  \n",
      "     |  prepare_arrays(self, test_data)\n",
      "     |      Initialize arrays that will be used by `fit` method.\n",
      "     |  \n",
      "     |  setup_indices(self, train_data, test_data)\n",
      "     |      Initializes `self.indices` with iterable objects with slices\n",
      "     |      (or indices) for each fold.\n",
      "     |      \n",
      "     |      Args:\n",
      "     |          train_data (Table): train table\n",
      "     |          test_data (Table): test table\n",
      "     |  \n",
      "     |  ----------------------------------------------------------------------\n",
      "     |  Data and other attributes defined here:\n",
      "     |  \n",
      "     |  score_by_folds = False\n",
      "     |  \n",
      "     |  ----------------------------------------------------------------------\n",
      "     |  Methods inherited from Results:\n",
      "     |  \n",
      "     |  fit(self, train_data, test_data=None)\n",
      "     |      Fits `self.learners` using folds sampled from the provided data.\n",
      "     |      \n",
      "     |      Args:\n",
      "     |          train_data (Table): table to sample train folds\n",
      "     |          test_data (Optional[Table]): tap to sample test folds\n",
      "     |              of None then `train_data` will be used\n",
      "     |  \n",
      "     |  get_augmented_data(self, model_names, include_attrs=True, include_predictions=True, include_probabilities=True)\n",
      "     |      Return the data, augmented with predictions, probabilities (if the task is classification) and folds info.\n",
      "     |      Predictions, probabilities and folds are inserted as meta attributes.\n",
      "     |      \n",
      "     |      Args:\n",
      "     |          model_names (list): A list of strings containing learners' names.\n",
      "     |          include_attrs (bool): Flag that tells whether to include original attributes.\n",
      "     |          include_predictions (bool): Flag that tells whether to include predictions.\n",
      "     |          include_probabilities (bool): Flag that tells whether to include probabilities.\n",
      "     |      \n",
      "     |      Returns:\n",
      "     |          Orange.data.Table: Data augmented with predictions, (probabilities) and (fold).\n",
      "     |  \n",
      "     |  get_fold(self, fold)\n",
      "     |  \n",
      "     |  split_by_model(self)\n",
      "     |      Split evaluation results by models\n",
      "     |  \n",
      "     |  ----------------------------------------------------------------------\n",
      "     |  Data descriptors inherited from Results:\n",
      "     |  \n",
      "     |  __dict__\n",
      "     |      dictionary for instance variables (if defined)\n",
      "     |  \n",
      "     |  __weakref__\n",
      "     |      list of weak references to the object (if defined)\n",
      "    \n",
      "    class Results(builtins.object)\n",
      "     |  Class for storing predictions in model testing.\n",
      "     |  \n",
      "     |  Attributes:\n",
      "     |      data (Optional[Table]):  Data used for testing. When data is stored,\n",
      "     |          this is typically not a copy but a reference.\n",
      "     |  \n",
      "     |      models (Optional[List[Model]]): A list of induced models.\n",
      "     |  \n",
      "     |      row_indices (np.ndarray): Indices of rows in `data` that were used in\n",
      "     |          testing, stored as a numpy vector of length `nrows`.\n",
      "     |          Values of `actual[i]`, `predicted[i]` and `probabilities[i]` refer\n",
      "     |          to the target value of instance `data[row_indices[i]]`.\n",
      "     |  \n",
      "     |      nrows (int): The number of test instances (including duplicates).\n",
      "     |  \n",
      "     |      actual (np.ndarray): Actual values of target variable;\n",
      "     |          a numpy vector of length `nrows` and of the same type as `data`\n",
      "     |          (or `np.float32` if the type of data cannot be determined).\n",
      "     |  \n",
      "     |      predicted (np.ndarray): Predicted values of target variable;\n",
      "     |          a numpy array of shape (number-of-methods, `nrows`) and\n",
      "     |          of the same type as `data` (or `np.float32` if the type of data\n",
      "     |          cannot be determined).\n",
      "     |  \n",
      "     |      probabilities (Optional[np.ndarray]): Predicted probabilities\n",
      "     |          (for discrete target variables);\n",
      "     |          a numpy array of shape (number-of-methods, `nrows`, number-of-classes)\n",
      "     |          of type `np.float32`.\n",
      "     |  \n",
      "     |      folds (List[Slice or List[int]]): A list of indices (or slice objects)\n",
      "     |          corresponding to rows of each fold.\n",
      "     |  \n",
      "     |  Methods defined here:\n",
      "     |  \n",
      "     |  __init__(self, data=None, nmethods=0, *, learners=None, train_data=None, nrows=None, nclasses=None, store_data=False, store_models=False, domain=None, actual=None, row_indices=None, predicted=None, probabilities=None, preprocessor=None, callback=None, n_jobs=1)\n",
      "     |      Construct an instance with default values: `None` for :obj:`data` and\n",
      "     |      :obj:`models`.\n",
      "     |      \n",
      "     |      If the number of rows and/or the number of classes is not given, it is\n",
      "     |      inferred from :obj:`data`, if provided. The data type for\n",
      "     |      :obj:`actual` and :obj:`predicted` is determined from the data; if the\n",
      "     |      latter cannot be find, `np.float32` is used.\n",
      "     |      \n",
      "     |      Attribute :obj:`actual` and :obj:`row_indices` are constructed as empty\n",
      "     |      (uninitialized) arrays of the appropriate size, if the number of rows\n",
      "     |      is known. Attribute :obj:`predicted` is constructed if the number of\n",
      "     |      rows and of methods is given; :obj:`probabilities` also requires\n",
      "     |      knowing the number of classes.\n",
      "     |      \n",
      "     |      :param data: Data or domain\n",
      "     |      :type data: Orange.data.Table or Orange.data.Domain\n",
      "     |      :param nmethods: The number of methods that will be tested\n",
      "     |      :type nmethods: int\n",
      "     |      :param nrows: The number of test instances (including duplicates)\n",
      "     |      :type nrows: int\n",
      "     |      :param nclasses: The number of class values\n",
      "     |      :type nclasses: int\n",
      "     |      :param store_data: A flag that tells whether to store the data;\n",
      "     |          this argument can be given only as keyword argument\n",
      "     |      :type store_data: bool\n",
      "     |      :param store_models: A flag that tells whether to store the models;\n",
      "     |          this argument can be given only as keyword argument\n",
      "     |      :type store_models: bool\n",
      "     |      :param preprocessor: Preprocessor for training data\n",
      "     |      :type preprocessor: Orange.preprocess.Preprocess\n",
      "     |      :param callback: Function for reporting back the progress as a value\n",
      "     |          between 0 and 1\n",
      "     |      :type callback: callable\n",
      "     |      :param n_jobs: The number of processes to parallelize the evaluation\n",
      "     |          on. -1 to parallelize on all but one CPUs. 1 for no\n",
      "     |          parallelization.\n",
      "     |      :type n_jobs: int\n",
      "     |  \n",
      "     |  fit(self, train_data, test_data=None)\n",
      "     |      Fits `self.learners` using folds sampled from the provided data.\n",
      "     |      \n",
      "     |      Args:\n",
      "     |          train_data (Table): table to sample train folds\n",
      "     |          test_data (Optional[Table]): tap to sample test folds\n",
      "     |              of None then `train_data` will be used\n",
      "     |  \n",
      "     |  get_augmented_data(self, model_names, include_attrs=True, include_predictions=True, include_probabilities=True)\n",
      "     |      Return the data, augmented with predictions, probabilities (if the task is classification) and folds info.\n",
      "     |      Predictions, probabilities and folds are inserted as meta attributes.\n",
      "     |      \n",
      "     |      Args:\n",
      "     |          model_names (list): A list of strings containing learners' names.\n",
      "     |          include_attrs (bool): Flag that tells whether to include original attributes.\n",
      "     |          include_predictions (bool): Flag that tells whether to include predictions.\n",
      "     |          include_probabilities (bool): Flag that tells whether to include probabilities.\n",
      "     |      \n",
      "     |      Returns:\n",
      "     |          Orange.data.Table: Data augmented with predictions, (probabilities) and (fold).\n",
      "     |  \n",
      "     |  get_fold(self, fold)\n",
      "     |  \n",
      "     |  prepare_arrays(self, test_data)\n",
      "     |      Initialize arrays that will be used by `fit` method.\n",
      "     |  \n",
      "     |  setup_indices(self, train_data, test_data)\n",
      "     |      Initializes `self.indices` with iterable objects with slices\n",
      "     |      (or indices) for each fold.\n",
      "     |      \n",
      "     |      Args:\n",
      "     |          train_data (Table): train table\n",
      "     |          test_data (Table): test table\n",
      "     |  \n",
      "     |  split_by_model(self)\n",
      "     |      Split evaluation results by models\n",
      "     |  \n",
      "     |  ----------------------------------------------------------------------\n",
      "     |  Data descriptors defined here:\n",
      "     |  \n",
      "     |  __dict__\n",
      "     |      dictionary for instance variables (if defined)\n",
      "     |  \n",
      "     |  __weakref__\n",
      "     |      list of weak references to the object (if defined)\n",
      "     |  \n",
      "     |  ----------------------------------------------------------------------\n",
      "     |  Data and other attributes defined here:\n",
      "     |  \n",
      "     |  score_by_folds = True\n",
      "    \n",
      "    class ShuffleSplit(Results)\n",
      "     |  Class for storing predictions in model testing.\n",
      "     |  \n",
      "     |  Attributes:\n",
      "     |      data (Optional[Table]):  Data used for testing. When data is stored,\n",
      "     |          this is typically not a copy but a reference.\n",
      "     |  \n",
      "     |      models (Optional[List[Model]]): A list of induced models.\n",
      "     |  \n",
      "     |      row_indices (np.ndarray): Indices of rows in `data` that were used in\n",
      "     |          testing, stored as a numpy vector of length `nrows`.\n",
      "     |          Values of `actual[i]`, `predicted[i]` and `probabilities[i]` refer\n",
      "     |          to the target value of instance `data[row_indices[i]]`.\n",
      "     |  \n",
      "     |      nrows (int): The number of test instances (including duplicates).\n",
      "     |  \n",
      "     |      actual (np.ndarray): Actual values of target variable;\n",
      "     |          a numpy vector of length `nrows` and of the same type as `data`\n",
      "     |          (or `np.float32` if the type of data cannot be determined).\n",
      "     |  \n",
      "     |      predicted (np.ndarray): Predicted values of target variable;\n",
      "     |          a numpy array of shape (number-of-methods, `nrows`) and\n",
      "     |          of the same type as `data` (or `np.float32` if the type of data\n",
      "     |          cannot be determined).\n",
      "     |  \n",
      "     |      probabilities (Optional[np.ndarray]): Predicted probabilities\n",
      "     |          (for discrete target variables);\n",
      "     |          a numpy array of shape (number-of-methods, `nrows`, number-of-classes)\n",
      "     |          of type `np.float32`.\n",
      "     |  \n",
      "     |      folds (List[Slice or List[int]]): A list of indices (or slice objects)\n",
      "     |          corresponding to rows of each fold.\n",
      "     |  \n",
      "     |  Method resolution order:\n",
      "     |      ShuffleSplit\n",
      "     |      Results\n",
      "     |      builtins.object\n",
      "     |  \n",
      "     |  Methods defined here:\n",
      "     |  \n",
      "     |  __init__(self, data, learners, n_resamples=10, train_size=None, test_size=0.1, stratified=True, random_state=0, store_data=False, store_models=False, preprocessor=None, callback=None, n_jobs=1)\n",
      "     |      Construct an instance with default values: `None` for :obj:`data` and\n",
      "     |      :obj:`models`.\n",
      "     |      \n",
      "     |      If the number of rows and/or the number of classes is not given, it is\n",
      "     |      inferred from :obj:`data`, if provided. The data type for\n",
      "     |      :obj:`actual` and :obj:`predicted` is determined from the data; if the\n",
      "     |      latter cannot be find, `np.float32` is used.\n",
      "     |      \n",
      "     |      Attribute :obj:`actual` and :obj:`row_indices` are constructed as empty\n",
      "     |      (uninitialized) arrays of the appropriate size, if the number of rows\n",
      "     |      is known. Attribute :obj:`predicted` is constructed if the number of\n",
      "     |      rows and of methods is given; :obj:`probabilities` also requires\n",
      "     |      knowing the number of classes.\n",
      "     |      \n",
      "     |      :param data: Data or domain\n",
      "     |      :type data: Orange.data.Table or Orange.data.Domain\n",
      "     |      :param nmethods: The number of methods that will be tested\n",
      "     |      :type nmethods: int\n",
      "     |      :param nrows: The number of test instances (including duplicates)\n",
      "     |      :type nrows: int\n",
      "     |      :param nclasses: The number of class values\n",
      "     |      :type nclasses: int\n",
      "     |      :param store_data: A flag that tells whether to store the data;\n",
      "     |          this argument can be given only as keyword argument\n",
      "     |      :type store_data: bool\n",
      "     |      :param store_models: A flag that tells whether to store the models;\n",
      "     |          this argument can be given only as keyword argument\n",
      "     |      :type store_models: bool\n",
      "     |      :param preprocessor: Preprocessor for training data\n",
      "     |      :type preprocessor: Orange.preprocess.Preprocess\n",
      "     |      :param callback: Function for reporting back the progress as a value\n",
      "     |          between 0 and 1\n",
      "     |      :type callback: callable\n",
      "     |      :param n_jobs: The number of processes to parallelize the evaluation\n",
      "     |          on. -1 to parallelize on all but one CPUs. 1 for no\n",
      "     |          parallelization.\n",
      "     |      :type n_jobs: int\n",
      "     |  \n",
      "     |  setup_indices(self, train_data, test_data)\n",
      "     |      Initializes `self.indices` with iterable objects with slices\n",
      "     |      (or indices) for each fold.\n",
      "     |      \n",
      "     |      Args:\n",
      "     |          train_data (Table): train table\n",
      "     |          test_data (Table): test table\n",
      "     |  \n",
      "     |  ----------------------------------------------------------------------\n",
      "     |  Methods inherited from Results:\n",
      "     |  \n",
      "     |  fit(self, train_data, test_data=None)\n",
      "     |      Fits `self.learners` using folds sampled from the provided data.\n",
      "     |      \n",
      "     |      Args:\n",
      "     |          train_data (Table): table to sample train folds\n",
      "     |          test_data (Optional[Table]): tap to sample test folds\n",
      "     |              of None then `train_data` will be used\n",
      "     |  \n",
      "     |  get_augmented_data(self, model_names, include_attrs=True, include_predictions=True, include_probabilities=True)\n",
      "     |      Return the data, augmented with predictions, probabilities (if the task is classification) and folds info.\n",
      "     |      Predictions, probabilities and folds are inserted as meta attributes.\n",
      "     |      \n",
      "     |      Args:\n",
      "     |          model_names (list): A list of strings containing learners' names.\n",
      "     |          include_attrs (bool): Flag that tells whether to include original attributes.\n",
      "     |          include_predictions (bool): Flag that tells whether to include predictions.\n",
      "     |          include_probabilities (bool): Flag that tells whether to include probabilities.\n",
      "     |      \n",
      "     |      Returns:\n",
      "     |          Orange.data.Table: Data augmented with predictions, (probabilities) and (fold).\n",
      "     |  \n",
      "     |  get_fold(self, fold)\n",
      "     |  \n",
      "     |  prepare_arrays(self, test_data)\n",
      "     |      Initialize arrays that will be used by `fit` method.\n",
      "     |  \n",
      "     |  split_by_model(self)\n",
      "     |      Split evaluation results by models\n",
      "     |  \n",
      "     |  ----------------------------------------------------------------------\n",
      "     |  Data descriptors inherited from Results:\n",
      "     |  \n",
      "     |  __dict__\n",
      "     |      dictionary for instance variables (if defined)\n",
      "     |  \n",
      "     |  __weakref__\n",
      "     |      list of weak references to the object (if defined)\n",
      "     |  \n",
      "     |  ----------------------------------------------------------------------\n",
      "     |  Data and other attributes inherited from Results:\n",
      "     |  \n",
      "     |  score_by_folds = True\n",
      "    \n",
      "    class TestOnTestData(Results)\n",
      "     |  Test on a separate test data set.\n",
      "     |  \n",
      "     |  Method resolution order:\n",
      "     |      TestOnTestData\n",
      "     |      Results\n",
      "     |      builtins.object\n",
      "     |  \n",
      "     |  Methods defined here:\n",
      "     |  \n",
      "     |  __init__(self, train_data, test_data, learners, store_data=False, store_models=False, preprocessor=None, callback=None, n_jobs=1)\n",
      "     |      Construct an instance with default values: `None` for :obj:`data` and\n",
      "     |      :obj:`models`.\n",
      "     |      \n",
      "     |      If the number of rows and/or the number of classes is not given, it is\n",
      "     |      inferred from :obj:`data`, if provided. The data type for\n",
      "     |      :obj:`actual` and :obj:`predicted` is determined from the data; if the\n",
      "     |      latter cannot be find, `np.float32` is used.\n",
      "     |      \n",
      "     |      Attribute :obj:`actual` and :obj:`row_indices` are constructed as empty\n",
      "     |      (uninitialized) arrays of the appropriate size, if the number of rows\n",
      "     |      is known. Attribute :obj:`predicted` is constructed if the number of\n",
      "     |      rows and of methods is given; :obj:`probabilities` also requires\n",
      "     |      knowing the number of classes.\n",
      "     |      \n",
      "     |      :param data: Data or domain\n",
      "     |      :type data: Orange.data.Table or Orange.data.Domain\n",
      "     |      :param nmethods: The number of methods that will be tested\n",
      "     |      :type nmethods: int\n",
      "     |      :param nrows: The number of test instances (including duplicates)\n",
      "     |      :type nrows: int\n",
      "     |      :param nclasses: The number of class values\n",
      "     |      :type nclasses: int\n",
      "     |      :param store_data: A flag that tells whether to store the data;\n",
      "     |          this argument can be given only as keyword argument\n",
      "     |      :type store_data: bool\n",
      "     |      :param store_models: A flag that tells whether to store the models;\n",
      "     |          this argument can be given only as keyword argument\n",
      "     |      :type store_models: bool\n",
      "     |      :param preprocessor: Preprocessor for training data\n",
      "     |      :type preprocessor: Orange.preprocess.Preprocess\n",
      "     |      :param callback: Function for reporting back the progress as a value\n",
      "     |          between 0 and 1\n",
      "     |      :type callback: callable\n",
      "     |      :param n_jobs: The number of processes to parallelize the evaluation\n",
      "     |          on. -1 to parallelize on all but one CPUs. 1 for no\n",
      "     |          parallelization.\n",
      "     |      :type n_jobs: int\n",
      "     |  \n",
      "     |  prepare_arrays(self, test_data)\n",
      "     |      Initialize arrays that will be used by `fit` method.\n",
      "     |  \n",
      "     |  setup_indices(self, train_data, test_data)\n",
      "     |      Initializes `self.indices` with iterable objects with slices\n",
      "     |      (or indices) for each fold.\n",
      "     |      \n",
      "     |      Args:\n",
      "     |          train_data (Table): train table\n",
      "     |          test_data (Table): test table\n",
      "     |  \n",
      "     |  ----------------------------------------------------------------------\n",
      "     |  Methods inherited from Results:\n",
      "     |  \n",
      "     |  fit(self, train_data, test_data=None)\n",
      "     |      Fits `self.learners` using folds sampled from the provided data.\n",
      "     |      \n",
      "     |      Args:\n",
      "     |          train_data (Table): table to sample train folds\n",
      "     |          test_data (Optional[Table]): tap to sample test folds\n",
      "     |              of None then `train_data` will be used\n",
      "     |  \n",
      "     |  get_augmented_data(self, model_names, include_attrs=True, include_predictions=True, include_probabilities=True)\n",
      "     |      Return the data, augmented with predictions, probabilities (if the task is classification) and folds info.\n",
      "     |      Predictions, probabilities and folds are inserted as meta attributes.\n",
      "     |      \n",
      "     |      Args:\n",
      "     |          model_names (list): A list of strings containing learners' names.\n",
      "     |          include_attrs (bool): Flag that tells whether to include original attributes.\n",
      "     |          include_predictions (bool): Flag that tells whether to include predictions.\n",
      "     |          include_probabilities (bool): Flag that tells whether to include probabilities.\n",
      "     |      \n",
      "     |      Returns:\n",
      "     |          Orange.data.Table: Data augmented with predictions, (probabilities) and (fold).\n",
      "     |  \n",
      "     |  get_fold(self, fold)\n",
      "     |  \n",
      "     |  split_by_model(self)\n",
      "     |      Split evaluation results by models\n",
      "     |  \n",
      "     |  ----------------------------------------------------------------------\n",
      "     |  Data descriptors inherited from Results:\n",
      "     |  \n",
      "     |  __dict__\n",
      "     |      dictionary for instance variables (if defined)\n",
      "     |  \n",
      "     |  __weakref__\n",
      "     |      list of weak references to the object (if defined)\n",
      "     |  \n",
      "     |  ----------------------------------------------------------------------\n",
      "     |  Data and other attributes inherited from Results:\n",
      "     |  \n",
      "     |  score_by_folds = True\n",
      "    \n",
      "    class TestOnTrainingData(TestOnTestData)\n",
      "     |  Trains and test on the same data\n",
      "     |  \n",
      "     |  Method resolution order:\n",
      "     |      TestOnTrainingData\n",
      "     |      TestOnTestData\n",
      "     |      Results\n",
      "     |      builtins.object\n",
      "     |  \n",
      "     |  Methods defined here:\n",
      "     |  \n",
      "     |  __init__(self, data, learners, store_data=False, store_models=False, preprocessor=None, callback=None, n_jobs=1)\n",
      "     |      Construct an instance with default values: `None` for :obj:`data` and\n",
      "     |      :obj:`models`.\n",
      "     |      \n",
      "     |      If the number of rows and/or the number of classes is not given, it is\n",
      "     |      inferred from :obj:`data`, if provided. The data type for\n",
      "     |      :obj:`actual` and :obj:`predicted` is determined from the data; if the\n",
      "     |      latter cannot be find, `np.float32` is used.\n",
      "     |      \n",
      "     |      Attribute :obj:`actual` and :obj:`row_indices` are constructed as empty\n",
      "     |      (uninitialized) arrays of the appropriate size, if the number of rows\n",
      "     |      is known. Attribute :obj:`predicted` is constructed if the number of\n",
      "     |      rows and of methods is given; :obj:`probabilities` also requires\n",
      "     |      knowing the number of classes.\n",
      "     |      \n",
      "     |      :param data: Data or domain\n",
      "     |      :type data: Orange.data.Table or Orange.data.Domain\n",
      "     |      :param nmethods: The number of methods that will be tested\n",
      "     |      :type nmethods: int\n",
      "     |      :param nrows: The number of test instances (including duplicates)\n",
      "     |      :type nrows: int\n",
      "     |      :param nclasses: The number of class values\n",
      "     |      :type nclasses: int\n",
      "     |      :param store_data: A flag that tells whether to store the data;\n",
      "     |          this argument can be given only as keyword argument\n",
      "     |      :type store_data: bool\n",
      "     |      :param store_models: A flag that tells whether to store the models;\n",
      "     |          this argument can be given only as keyword argument\n",
      "     |      :type store_models: bool\n",
      "     |      :param preprocessor: Preprocessor for training data\n",
      "     |      :type preprocessor: Orange.preprocess.Preprocess\n",
      "     |      :param callback: Function for reporting back the progress as a value\n",
      "     |          between 0 and 1\n",
      "     |      :type callback: callable\n",
      "     |      :param n_jobs: The number of processes to parallelize the evaluation\n",
      "     |          on. -1 to parallelize on all but one CPUs. 1 for no\n",
      "     |          parallelization.\n",
      "     |      :type n_jobs: int\n",
      "     |  \n",
      "     |  ----------------------------------------------------------------------\n",
      "     |  Methods inherited from TestOnTestData:\n",
      "     |  \n",
      "     |  prepare_arrays(self, test_data)\n",
      "     |      Initialize arrays that will be used by `fit` method.\n",
      "     |  \n",
      "     |  setup_indices(self, train_data, test_data)\n",
      "     |      Initializes `self.indices` with iterable objects with slices\n",
      "     |      (or indices) for each fold.\n",
      "     |      \n",
      "     |      Args:\n",
      "     |          train_data (Table): train table\n",
      "     |          test_data (Table): test table\n",
      "     |  \n",
      "     |  ----------------------------------------------------------------------\n",
      "     |  Methods inherited from Results:\n",
      "     |  \n",
      "     |  fit(self, train_data, test_data=None)\n",
      "     |      Fits `self.learners` using folds sampled from the provided data.\n",
      "     |      \n",
      "     |      Args:\n",
      "     |          train_data (Table): table to sample train folds\n",
      "     |          test_data (Optional[Table]): tap to sample test folds\n",
      "     |              of None then `train_data` will be used\n",
      "     |  \n",
      "     |  get_augmented_data(self, model_names, include_attrs=True, include_predictions=True, include_probabilities=True)\n",
      "     |      Return the data, augmented with predictions, probabilities (if the task is classification) and folds info.\n",
      "     |      Predictions, probabilities and folds are inserted as meta attributes.\n",
      "     |      \n",
      "     |      Args:\n",
      "     |          model_names (list): A list of strings containing learners' names.\n",
      "     |          include_attrs (bool): Flag that tells whether to include original attributes.\n",
      "     |          include_predictions (bool): Flag that tells whether to include predictions.\n",
      "     |          include_probabilities (bool): Flag that tells whether to include probabilities.\n",
      "     |      \n",
      "     |      Returns:\n",
      "     |          Orange.data.Table: Data augmented with predictions, (probabilities) and (fold).\n",
      "     |  \n",
      "     |  get_fold(self, fold)\n",
      "     |  \n",
      "     |  split_by_model(self)\n",
      "     |      Split evaluation results by models\n",
      "     |  \n",
      "     |  ----------------------------------------------------------------------\n",
      "     |  Data descriptors inherited from Results:\n",
      "     |  \n",
      "     |  __dict__\n",
      "     |      dictionary for instance variables (if defined)\n",
      "     |  \n",
      "     |  __weakref__\n",
      "     |      list of weak references to the object (if defined)\n",
      "     |  \n",
      "     |  ----------------------------------------------------------------------\n",
      "     |  Data and other attributes inherited from Results:\n",
      "     |  \n",
      "     |  score_by_folds = True\n",
      "\n",
      "FUNCTIONS\n",
      "    sample(table, n=0.7, stratified=False, replace=False, random_state=None)\n",
      "        Samples data instances from a data table. Returns the sample and\n",
      "        a data set from input data table that are not in the sample. Also\n",
      "        uses several sampling functions from\n",
      "        `scikit-learn <http://scikit-learn.org>`_.\n",
      "        \n",
      "        table : data table\n",
      "            A data table from which to sample.\n",
      "        \n",
      "        n : float, int (default = 0.7)\n",
      "            If float, should be between 0.0 and 1.0 and represents\n",
      "            the proportion of data instances in the resulting sample. If\n",
      "            int, n is the number of data instances in the resulting sample.\n",
      "        \n",
      "        stratified : bool, optional (default = False)\n",
      "            If true, sampling will try to consider class values and\n",
      "            match distribution of class values\n",
      "            in train and test subsets.\n",
      "        \n",
      "        replace : bool, optional (default = False)\n",
      "            sample with replacement\n",
      "        \n",
      "        random_state : int or RandomState\n",
      "            Pseudo-random number generator state used for random sampling.\n",
      "\n",
      "DATA\n",
      "    __all__ = ['Results', 'CrossValidation', 'LeaveOneOut', 'TestOnTrainin...\n",
      "\n",
      "FILE\n",
      "    c:\\anaconda\\envs\\py36\\lib\\site-packages\\orange\\evaluation\\testing.py\n",
      "\n",
      "\n"
     ]
    }
   ],
   "source": [
    "from Orange.evaluation import testing\n",
    "help(testing)"
   ]
  },
  {
   "cell_type": "code",
   "execution_count": 63,
   "metadata": {
    "collapsed": false,
    "scrolled": true
   },
   "outputs": [],
   "source": [
    "#train test set\n",
    "\n",
    "Orange.evaluation.testing.sample(credit_orange)\n",
    "\n",
    "\n",
    "# construct the learning algorithm and use it to induce a classifier\n",
    "cn2_learner = Orange.classification.rules.CN2Learner()\n",
    "cn2_clasifier = cn2_learner(credit_orange)\n",
    "\n",
    "# ... or, in a single step.\n",
    "cn2_classifier = Orange.classification.rules.CN2Learner(credit_orange)\n"
   ]
  },
  {
   "cell_type": "code",
   "execution_count": 64,
   "metadata": {
    "collapsed": false
   },
   "outputs": [
    {
     "ename": "AttributeError",
     "evalue": "'CN2Learner' object has no attribute 'predicted'",
     "output_type": "error",
     "traceback": [
      "\u001b[1;31m---------------------------------------------------------------------------\u001b[0m",
      "\u001b[1;31mAttributeError\u001b[0m                            Traceback (most recent call last)",
      "\u001b[1;32m<ipython-input-64-d63a06a7958d>\u001b[0m in \u001b[0;36m<module>\u001b[1;34m()\u001b[0m\n\u001b[0;32m      1\u001b[0m \u001b[1;31m# Accuracy\u001b[0m\u001b[1;33m\u001b[0m\u001b[1;33m\u001b[0m\u001b[0m\n\u001b[1;32m----> 2\u001b[1;33m \u001b[0mOrange\u001b[0m\u001b[1;33m.\u001b[0m\u001b[0mevaluation\u001b[0m\u001b[1;33m.\u001b[0m\u001b[0mscoring\u001b[0m\u001b[1;33m.\u001b[0m\u001b[0mCA\u001b[0m\u001b[1;33m(\u001b[0m\u001b[0mcn2_classifier\u001b[0m\u001b[1;33m)\u001b[0m\u001b[1;33m\u001b[0m\u001b[0m\n\u001b[0m",
      "\u001b[1;32mC:\\Anaconda\\envs\\py36\\lib\\site-packages\\Orange\\evaluation\\scoring.py\u001b[0m in \u001b[0;36m__new__\u001b[1;34m(cls, results, **kwargs)\u001b[0m\n\u001b[0;32m     37\u001b[0m         \u001b[1;32mif\u001b[0m \u001b[0mresults\u001b[0m \u001b[1;32mis\u001b[0m \u001b[1;32mnot\u001b[0m \u001b[1;32mNone\u001b[0m\u001b[1;33m:\u001b[0m\u001b[1;33m\u001b[0m\u001b[0m\n\u001b[0;32m     38\u001b[0m             \u001b[0mself\u001b[0m\u001b[1;33m.\u001b[0m\u001b[0m__init__\u001b[0m\u001b[1;33m(\u001b[0m\u001b[1;33m)\u001b[0m\u001b[1;33m\u001b[0m\u001b[0m\n\u001b[1;32m---> 39\u001b[1;33m             \u001b[1;32mreturn\u001b[0m \u001b[0mself\u001b[0m\u001b[1;33m(\u001b[0m\u001b[0mresults\u001b[0m\u001b[1;33m,\u001b[0m \u001b[1;33m**\u001b[0m\u001b[0mkwargs\u001b[0m\u001b[1;33m)\u001b[0m\u001b[1;33m\u001b[0m\u001b[0m\n\u001b[0m\u001b[0;32m     40\u001b[0m         \u001b[1;32melse\u001b[0m\u001b[1;33m:\u001b[0m\u001b[1;33m\u001b[0m\u001b[0m\n\u001b[0;32m     41\u001b[0m             \u001b[1;32mreturn\u001b[0m \u001b[0mself\u001b[0m\u001b[1;33m\u001b[0m\u001b[0m\n",
      "\u001b[1;32mC:\\Anaconda\\envs\\py36\\lib\\site-packages\\Orange\\evaluation\\scoring.py\u001b[0m in \u001b[0;36m__call__\u001b[1;34m(self, results, **kwargs)\u001b[0m\n\u001b[0;32m     46\u001b[0m             \u001b[1;32mreturn\u001b[0m \u001b[0mself\u001b[0m\u001b[1;33m.\u001b[0m\u001b[0maverage\u001b[0m\u001b[1;33m(\u001b[0m\u001b[0mscores\u001b[0m\u001b[1;33m)\u001b[0m\u001b[1;33m\u001b[0m\u001b[0m\n\u001b[0;32m     47\u001b[0m \u001b[1;33m\u001b[0m\u001b[0m\n\u001b[1;32m---> 48\u001b[1;33m         \u001b[1;32mreturn\u001b[0m \u001b[0mself\u001b[0m\u001b[1;33m.\u001b[0m\u001b[0mcompute_score\u001b[0m\u001b[1;33m(\u001b[0m\u001b[0mresults\u001b[0m\u001b[1;33m,\u001b[0m \u001b[1;33m**\u001b[0m\u001b[0mkwargs\u001b[0m\u001b[1;33m)\u001b[0m\u001b[1;33m\u001b[0m\u001b[0m\n\u001b[0m\u001b[0;32m     49\u001b[0m \u001b[1;33m\u001b[0m\u001b[0m\n\u001b[0;32m     50\u001b[0m     \u001b[1;32mdef\u001b[0m \u001b[0maverage\u001b[0m\u001b[1;33m(\u001b[0m\u001b[0mself\u001b[0m\u001b[1;33m,\u001b[0m \u001b[0mscores\u001b[0m\u001b[1;33m)\u001b[0m\u001b[1;33m:\u001b[0m\u001b[1;33m\u001b[0m\u001b[0m\n",
      "\u001b[1;32mC:\\Anaconda\\envs\\py36\\lib\\site-packages\\Orange\\evaluation\\scoring.py\u001b[0m in \u001b[0;36mcompute_score\u001b[1;34m(self, results)\u001b[0m\n\u001b[0;32m     82\u001b[0m \u001b[1;33m\u001b[0m\u001b[0m\n\u001b[0;32m     83\u001b[0m     \u001b[1;32mdef\u001b[0m \u001b[0mcompute_score\u001b[0m\u001b[1;33m(\u001b[0m\u001b[0mself\u001b[0m\u001b[1;33m,\u001b[0m \u001b[0mresults\u001b[0m\u001b[1;33m)\u001b[0m\u001b[1;33m:\u001b[0m\u001b[1;33m\u001b[0m\u001b[0m\n\u001b[1;32m---> 84\u001b[1;33m         \u001b[1;32mreturn\u001b[0m \u001b[0mself\u001b[0m\u001b[1;33m.\u001b[0m\u001b[0mfrom_predicted\u001b[0m\u001b[1;33m(\u001b[0m\u001b[0mresults\u001b[0m\u001b[1;33m,\u001b[0m \u001b[0mskl_metrics\u001b[0m\u001b[1;33m.\u001b[0m\u001b[0maccuracy_score\u001b[0m\u001b[1;33m)\u001b[0m\u001b[1;33m\u001b[0m\u001b[0m\n\u001b[0m\u001b[0;32m     85\u001b[0m \u001b[1;33m\u001b[0m\u001b[0m\n\u001b[0;32m     86\u001b[0m \u001b[1;33m\u001b[0m\u001b[0m\n",
      "\u001b[1;32mC:\\Anaconda\\envs\\py36\\lib\\site-packages\\Orange\\evaluation\\scoring.py\u001b[0m in \u001b[0;36mfrom_predicted\u001b[1;34m(results, score_function, **kwargs)\u001b[0m\n\u001b[0;32m     72\u001b[0m         return np.fromiter(\n\u001b[0;32m     73\u001b[0m             (score_function(results.actual, predicted, **kwargs)\n\u001b[1;32m---> 74\u001b[1;33m              for predicted in results.predicted),\n\u001b[0m\u001b[0;32m     75\u001b[0m             dtype=np.float64, count=len(results.predicted))\n\u001b[0;32m     76\u001b[0m \u001b[1;33m\u001b[0m\u001b[0m\n",
      "\u001b[1;31mAttributeError\u001b[0m: 'CN2Learner' object has no attribute 'predicted'"
     ]
    }
   ],
   "source": [
    "Orange.evaluation.testing.sample(\n",
    "\n",
    "# Accuracy\n",
    "Orange.evaluation.scoring.CA(cn2_classifier)"
   ]
  },
  {
   "cell_type": "code",
   "execution_count": 65,
   "metadata": {
    "collapsed": false
   },
   "outputs": [
    {
     "ename": "IndexError",
     "evalue": "list index out of range",
     "output_type": "error",
     "traceback": [
      "\u001b[1;31m---------------------------------------------------------------------------\u001b[0m",
      "\u001b[1;31mIndexError\u001b[0m                                Traceback (most recent call last)",
      "\u001b[1;32mC:\\Anaconda\\envs\\py36\\lib\\site-packages\\IPython\\core\\formatters.py\u001b[0m in \u001b[0;36m__call__\u001b[1;34m(self, obj)\u001b[0m\n\u001b[0;32m    670\u001b[0m                 \u001b[0mtype_pprinters\u001b[0m\u001b[1;33m=\u001b[0m\u001b[0mself\u001b[0m\u001b[1;33m.\u001b[0m\u001b[0mtype_printers\u001b[0m\u001b[1;33m,\u001b[0m\u001b[1;33m\u001b[0m\u001b[0m\n\u001b[0;32m    671\u001b[0m                 deferred_pprinters=self.deferred_printers)\n\u001b[1;32m--> 672\u001b[1;33m             \u001b[0mprinter\u001b[0m\u001b[1;33m.\u001b[0m\u001b[0mpretty\u001b[0m\u001b[1;33m(\u001b[0m\u001b[0mobj\u001b[0m\u001b[1;33m)\u001b[0m\u001b[1;33m\u001b[0m\u001b[0m\n\u001b[0m\u001b[0;32m    673\u001b[0m             \u001b[0mprinter\u001b[0m\u001b[1;33m.\u001b[0m\u001b[0mflush\u001b[0m\u001b[1;33m(\u001b[0m\u001b[1;33m)\u001b[0m\u001b[1;33m\u001b[0m\u001b[0m\n\u001b[0;32m    674\u001b[0m             \u001b[1;32mreturn\u001b[0m \u001b[0mstream\u001b[0m\u001b[1;33m.\u001b[0m\u001b[0mgetvalue\u001b[0m\u001b[1;33m(\u001b[0m\u001b[1;33m)\u001b[0m\u001b[1;33m\u001b[0m\u001b[0m\n",
      "\u001b[1;32mC:\\Anaconda\\envs\\py36\\lib\\site-packages\\IPython\\lib\\pretty.py\u001b[0m in \u001b[0;36mpretty\u001b[1;34m(self, obj)\u001b[0m\n\u001b[0;32m    366\u001b[0m                 \u001b[1;32mif\u001b[0m \u001b[0mcls\u001b[0m \u001b[1;32min\u001b[0m \u001b[0mself\u001b[0m\u001b[1;33m.\u001b[0m\u001b[0mtype_pprinters\u001b[0m\u001b[1;33m:\u001b[0m\u001b[1;33m\u001b[0m\u001b[0m\n\u001b[0;32m    367\u001b[0m                     \u001b[1;31m# printer registered in self.type_pprinters\u001b[0m\u001b[1;33m\u001b[0m\u001b[1;33m\u001b[0m\u001b[0m\n\u001b[1;32m--> 368\u001b[1;33m                     \u001b[1;32mreturn\u001b[0m \u001b[0mself\u001b[0m\u001b[1;33m.\u001b[0m\u001b[0mtype_pprinters\u001b[0m\u001b[1;33m[\u001b[0m\u001b[0mcls\u001b[0m\u001b[1;33m]\u001b[0m\u001b[1;33m(\u001b[0m\u001b[0mobj\u001b[0m\u001b[1;33m,\u001b[0m \u001b[0mself\u001b[0m\u001b[1;33m,\u001b[0m \u001b[0mcycle\u001b[0m\u001b[1;33m)\u001b[0m\u001b[1;33m\u001b[0m\u001b[0m\n\u001b[0m\u001b[0;32m    369\u001b[0m                 \u001b[1;32melse\u001b[0m\u001b[1;33m:\u001b[0m\u001b[1;33m\u001b[0m\u001b[0m\n\u001b[0;32m    370\u001b[0m                     \u001b[1;31m# deferred printer\u001b[0m\u001b[1;33m\u001b[0m\u001b[1;33m\u001b[0m\u001b[0m\n",
      "\u001b[1;32mC:\\Anaconda\\envs\\py36\\lib\\site-packages\\IPython\\lib\\pretty.py\u001b[0m in \u001b[0;36minner\u001b[1;34m(obj, p, cycle)\u001b[0m\n\u001b[0;32m    550\u001b[0m                 \u001b[0mp\u001b[0m\u001b[1;33m.\u001b[0m\u001b[0mtext\u001b[0m\u001b[1;33m(\u001b[0m\u001b[1;34m','\u001b[0m\u001b[1;33m)\u001b[0m\u001b[1;33m\u001b[0m\u001b[0m\n\u001b[0;32m    551\u001b[0m                 \u001b[0mp\u001b[0m\u001b[1;33m.\u001b[0m\u001b[0mbreakable\u001b[0m\u001b[1;33m(\u001b[0m\u001b[1;33m)\u001b[0m\u001b[1;33m\u001b[0m\u001b[0m\n\u001b[1;32m--> 552\u001b[1;33m             \u001b[0mp\u001b[0m\u001b[1;33m.\u001b[0m\u001b[0mpretty\u001b[0m\u001b[1;33m(\u001b[0m\u001b[0mx\u001b[0m\u001b[1;33m)\u001b[0m\u001b[1;33m\u001b[0m\u001b[0m\n\u001b[0m\u001b[0;32m    553\u001b[0m         \u001b[1;32mif\u001b[0m \u001b[0mlen\u001b[0m\u001b[1;33m(\u001b[0m\u001b[0mobj\u001b[0m\u001b[1;33m)\u001b[0m \u001b[1;33m==\u001b[0m \u001b[1;36m1\u001b[0m \u001b[1;32mand\u001b[0m \u001b[0mtype\u001b[0m\u001b[1;33m(\u001b[0m\u001b[0mobj\u001b[0m\u001b[1;33m)\u001b[0m \u001b[1;32mis\u001b[0m \u001b[0mtuple\u001b[0m\u001b[1;33m:\u001b[0m\u001b[1;33m\u001b[0m\u001b[0m\n\u001b[0;32m    554\u001b[0m             \u001b[1;31m# Special case for 1-item tuples.\u001b[0m\u001b[1;33m\u001b[0m\u001b[1;33m\u001b[0m\u001b[0m\n",
      "\u001b[1;32mC:\\Anaconda\\envs\\py36\\lib\\site-packages\\IPython\\lib\\pretty.py\u001b[0m in \u001b[0;36mpretty\u001b[1;34m(self, obj)\u001b[0m\n\u001b[0;32m    381\u001b[0m                             \u001b[1;32mif\u001b[0m \u001b[0mcallable\u001b[0m\u001b[1;33m(\u001b[0m\u001b[0mmeth\u001b[0m\u001b[1;33m)\u001b[0m\u001b[1;33m:\u001b[0m\u001b[1;33m\u001b[0m\u001b[0m\n\u001b[0;32m    382\u001b[0m                                 \u001b[1;32mreturn\u001b[0m \u001b[0mmeth\u001b[0m\u001b[1;33m(\u001b[0m\u001b[0mobj\u001b[0m\u001b[1;33m,\u001b[0m \u001b[0mself\u001b[0m\u001b[1;33m,\u001b[0m \u001b[0mcycle\u001b[0m\u001b[1;33m)\u001b[0m\u001b[1;33m\u001b[0m\u001b[0m\n\u001b[1;32m--> 383\u001b[1;33m             \u001b[1;32mreturn\u001b[0m \u001b[0m_default_pprint\u001b[0m\u001b[1;33m(\u001b[0m\u001b[0mobj\u001b[0m\u001b[1;33m,\u001b[0m \u001b[0mself\u001b[0m\u001b[1;33m,\u001b[0m \u001b[0mcycle\u001b[0m\u001b[1;33m)\u001b[0m\u001b[1;33m\u001b[0m\u001b[0m\n\u001b[0m\u001b[0;32m    384\u001b[0m         \u001b[1;32mfinally\u001b[0m\u001b[1;33m:\u001b[0m\u001b[1;33m\u001b[0m\u001b[0m\n\u001b[0;32m    385\u001b[0m             \u001b[0mself\u001b[0m\u001b[1;33m.\u001b[0m\u001b[0mend_group\u001b[0m\u001b[1;33m(\u001b[0m\u001b[1;33m)\u001b[0m\u001b[1;33m\u001b[0m\u001b[0m\n",
      "\u001b[1;32mC:\\Anaconda\\envs\\py36\\lib\\site-packages\\IPython\\lib\\pretty.py\u001b[0m in \u001b[0;36m_default_pprint\u001b[1;34m(obj, p, cycle)\u001b[0m\n\u001b[0;32m    501\u001b[0m     \u001b[1;32mif\u001b[0m \u001b[0m_safe_getattr\u001b[0m\u001b[1;33m(\u001b[0m\u001b[0mklass\u001b[0m\u001b[1;33m,\u001b[0m \u001b[1;34m'__repr__'\u001b[0m\u001b[1;33m,\u001b[0m \u001b[1;32mNone\u001b[0m\u001b[1;33m)\u001b[0m \u001b[1;32mnot\u001b[0m \u001b[1;32min\u001b[0m \u001b[0m_baseclass_reprs\u001b[0m\u001b[1;33m:\u001b[0m\u001b[1;33m\u001b[0m\u001b[0m\n\u001b[0;32m    502\u001b[0m         \u001b[1;31m# A user-provided repr. Find newlines and replace them with p.break_()\u001b[0m\u001b[1;33m\u001b[0m\u001b[1;33m\u001b[0m\u001b[0m\n\u001b[1;32m--> 503\u001b[1;33m         \u001b[0m_repr_pprint\u001b[0m\u001b[1;33m(\u001b[0m\u001b[0mobj\u001b[0m\u001b[1;33m,\u001b[0m \u001b[0mp\u001b[0m\u001b[1;33m,\u001b[0m \u001b[0mcycle\u001b[0m\u001b[1;33m)\u001b[0m\u001b[1;33m\u001b[0m\u001b[0m\n\u001b[0m\u001b[0;32m    504\u001b[0m         \u001b[1;32mreturn\u001b[0m\u001b[1;33m\u001b[0m\u001b[0m\n\u001b[0;32m    505\u001b[0m     \u001b[0mp\u001b[0m\u001b[1;33m.\u001b[0m\u001b[0mbegin_group\u001b[0m\u001b[1;33m(\u001b[0m\u001b[1;36m1\u001b[0m\u001b[1;33m,\u001b[0m \u001b[1;34m'<'\u001b[0m\u001b[1;33m)\u001b[0m\u001b[1;33m\u001b[0m\u001b[0m\n",
      "\u001b[1;32mC:\\Anaconda\\envs\\py36\\lib\\site-packages\\IPython\\lib\\pretty.py\u001b[0m in \u001b[0;36m_repr_pprint\u001b[1;34m(obj, p, cycle)\u001b[0m\n\u001b[0;32m    699\u001b[0m     \u001b[1;34m\"\"\"A pprint that just redirects to the normal repr function.\"\"\"\u001b[0m\u001b[1;33m\u001b[0m\u001b[0m\n\u001b[0;32m    700\u001b[0m     \u001b[1;31m# Find newlines and replace them with p.break_()\u001b[0m\u001b[1;33m\u001b[0m\u001b[1;33m\u001b[0m\u001b[0m\n\u001b[1;32m--> 701\u001b[1;33m     \u001b[0moutput\u001b[0m \u001b[1;33m=\u001b[0m \u001b[0mrepr\u001b[0m\u001b[1;33m(\u001b[0m\u001b[0mobj\u001b[0m\u001b[1;33m)\u001b[0m\u001b[1;33m\u001b[0m\u001b[0m\n\u001b[0m\u001b[0;32m    702\u001b[0m     \u001b[1;32mfor\u001b[0m \u001b[0midx\u001b[0m\u001b[1;33m,\u001b[0m\u001b[0moutput_line\u001b[0m \u001b[1;32min\u001b[0m \u001b[0menumerate\u001b[0m\u001b[1;33m(\u001b[0m\u001b[0moutput\u001b[0m\u001b[1;33m.\u001b[0m\u001b[0msplitlines\u001b[0m\u001b[1;33m(\u001b[0m\u001b[1;33m)\u001b[0m\u001b[1;33m)\u001b[0m\u001b[1;33m:\u001b[0m\u001b[1;33m\u001b[0m\u001b[0m\n\u001b[0;32m    703\u001b[0m         \u001b[1;32mif\u001b[0m \u001b[0midx\u001b[0m\u001b[1;33m:\u001b[0m\u001b[1;33m\u001b[0m\u001b[0m\n",
      "\u001b[1;32mC:\\Anaconda\\envs\\py36\\lib\\site-packages\\Orange\\data\\table.py\u001b[0m in \u001b[0;36m__repr__\u001b[1;34m(self)\u001b[0m\n\u001b[0;32m    810\u001b[0m         \u001b[1;32mif\u001b[0m \u001b[0mself\u001b[0m\u001b[1;33m.\u001b[0m\u001b[0mis_sparse\u001b[0m\u001b[1;33m(\u001b[0m\u001b[1;33m)\u001b[0m\u001b[1;33m:\u001b[0m\u001b[1;33m\u001b[0m\u001b[0m\n\u001b[0;32m    811\u001b[0m             \u001b[0mhead\u001b[0m \u001b[1;33m=\u001b[0m \u001b[0mmin\u001b[0m\u001b[1;33m(\u001b[0m\u001b[0mself\u001b[0m\u001b[1;33m.\u001b[0m\u001b[0mX\u001b[0m\u001b[1;33m.\u001b[0m\u001b[0mshape\u001b[0m\u001b[1;33m[\u001b[0m\u001b[1;36m0\u001b[0m\u001b[1;33m]\u001b[0m\u001b[1;33m,\u001b[0m \u001b[0mhead\u001b[0m\u001b[1;33m)\u001b[0m\u001b[1;33m\u001b[0m\u001b[0m\n\u001b[1;32m--> 812\u001b[1;33m         \u001b[0ms\u001b[0m \u001b[1;33m=\u001b[0m \u001b[1;34m\"[\"\u001b[0m \u001b[1;33m+\u001b[0m \u001b[1;34m\",\\n \"\u001b[0m\u001b[1;33m.\u001b[0m\u001b[0mjoin\u001b[0m\u001b[1;33m(\u001b[0m\u001b[0mrepr\u001b[0m\u001b[1;33m(\u001b[0m\u001b[0mex\u001b[0m\u001b[1;33m)\u001b[0m \u001b[1;32mfor\u001b[0m \u001b[0mex\u001b[0m \u001b[1;32min\u001b[0m \u001b[0mself\u001b[0m\u001b[1;33m[\u001b[0m\u001b[1;33m:\u001b[0m\u001b[0mhead\u001b[0m\u001b[1;33m]\u001b[0m\u001b[1;33m)\u001b[0m\u001b[1;33m\u001b[0m\u001b[0m\n\u001b[0m\u001b[0;32m    813\u001b[0m         \u001b[1;32mif\u001b[0m \u001b[0mlen\u001b[0m\u001b[1;33m(\u001b[0m\u001b[0mself\u001b[0m\u001b[1;33m)\u001b[0m \u001b[1;33m>\u001b[0m \u001b[0mhead\u001b[0m\u001b[1;33m:\u001b[0m\u001b[1;33m\u001b[0m\u001b[0m\n\u001b[0;32m    814\u001b[0m             \u001b[0ms\u001b[0m \u001b[1;33m+=\u001b[0m \u001b[1;34m\",\\n ...\"\u001b[0m\u001b[1;33m\u001b[0m\u001b[0m\n",
      "\u001b[1;32mC:\\Anaconda\\envs\\py36\\lib\\site-packages\\Orange\\data\\table.py\u001b[0m in \u001b[0;36m<genexpr>\u001b[1;34m(.0)\u001b[0m\n\u001b[0;32m    810\u001b[0m         \u001b[1;32mif\u001b[0m \u001b[0mself\u001b[0m\u001b[1;33m.\u001b[0m\u001b[0mis_sparse\u001b[0m\u001b[1;33m(\u001b[0m\u001b[1;33m)\u001b[0m\u001b[1;33m:\u001b[0m\u001b[1;33m\u001b[0m\u001b[0m\n\u001b[0;32m    811\u001b[0m             \u001b[0mhead\u001b[0m \u001b[1;33m=\u001b[0m \u001b[0mmin\u001b[0m\u001b[1;33m(\u001b[0m\u001b[0mself\u001b[0m\u001b[1;33m.\u001b[0m\u001b[0mX\u001b[0m\u001b[1;33m.\u001b[0m\u001b[0mshape\u001b[0m\u001b[1;33m[\u001b[0m\u001b[1;36m0\u001b[0m\u001b[1;33m]\u001b[0m\u001b[1;33m,\u001b[0m \u001b[0mhead\u001b[0m\u001b[1;33m)\u001b[0m\u001b[1;33m\u001b[0m\u001b[0m\n\u001b[1;32m--> 812\u001b[1;33m         \u001b[0ms\u001b[0m \u001b[1;33m=\u001b[0m \u001b[1;34m\"[\"\u001b[0m \u001b[1;33m+\u001b[0m \u001b[1;34m\",\\n \"\u001b[0m\u001b[1;33m.\u001b[0m\u001b[0mjoin\u001b[0m\u001b[1;33m(\u001b[0m\u001b[0mrepr\u001b[0m\u001b[1;33m(\u001b[0m\u001b[0mex\u001b[0m\u001b[1;33m)\u001b[0m \u001b[1;32mfor\u001b[0m \u001b[0mex\u001b[0m \u001b[1;32min\u001b[0m \u001b[0mself\u001b[0m\u001b[1;33m[\u001b[0m\u001b[1;33m:\u001b[0m\u001b[0mhead\u001b[0m\u001b[1;33m]\u001b[0m\u001b[1;33m)\u001b[0m\u001b[1;33m\u001b[0m\u001b[0m\n\u001b[0m\u001b[0;32m    813\u001b[0m         \u001b[1;32mif\u001b[0m \u001b[0mlen\u001b[0m\u001b[1;33m(\u001b[0m\u001b[0mself\u001b[0m\u001b[1;33m)\u001b[0m \u001b[1;33m>\u001b[0m \u001b[0mhead\u001b[0m\u001b[1;33m:\u001b[0m\u001b[1;33m\u001b[0m\u001b[0m\n\u001b[0;32m    814\u001b[0m             \u001b[0ms\u001b[0m \u001b[1;33m+=\u001b[0m \u001b[1;34m\",\\n ...\"\u001b[0m\u001b[1;33m\u001b[0m\u001b[0m\n",
      "\u001b[1;32mC:\\Anaconda\\envs\\py36\\lib\\site-packages\\Orange\\data\\table.py\u001b[0m in \u001b[0;36m__repr__\u001b[1;34m(self)\u001b[0m\n\u001b[0;32m    142\u001b[0m \u001b[1;33m\u001b[0m\u001b[0m\n\u001b[0;32m    143\u001b[0m     \u001b[1;32mdef\u001b[0m \u001b[0m__repr__\u001b[0m\u001b[1;33m(\u001b[0m\u001b[0mself\u001b[0m\u001b[1;33m)\u001b[0m\u001b[1;33m:\u001b[0m\u001b[1;33m\u001b[0m\u001b[0m\n\u001b[1;32m--> 144\u001b[1;33m         \u001b[1;32mreturn\u001b[0m \u001b[0mself\u001b[0m\u001b[1;33m.\u001b[0m\u001b[0m_str\u001b[0m\u001b[1;33m(\u001b[0m\u001b[1;32mTrue\u001b[0m\u001b[1;33m)\u001b[0m\u001b[1;33m\u001b[0m\u001b[0m\n\u001b[0m\u001b[0;32m    145\u001b[0m \u001b[1;33m\u001b[0m\u001b[0m\n\u001b[0;32m    146\u001b[0m \u001b[1;33m\u001b[0m\u001b[0m\n",
      "\u001b[1;32mC:\\Anaconda\\envs\\py36\\lib\\site-packages\\Orange\\data\\table.py\u001b[0m in \u001b[0;36m_str\u001b[1;34m(self, limit)\u001b[0m\n\u001b[0;32m    130\u001b[0m         \u001b[0mdomain\u001b[0m \u001b[1;33m=\u001b[0m \u001b[0mtable\u001b[0m\u001b[1;33m.\u001b[0m\u001b[0mdomain\u001b[0m\u001b[1;33m\u001b[0m\u001b[0m\n\u001b[0;32m    131\u001b[0m         \u001b[0mrow\u001b[0m \u001b[1;33m=\u001b[0m \u001b[0mself\u001b[0m\u001b[1;33m.\u001b[0m\u001b[0mrow_index\u001b[0m\u001b[1;33m\u001b[0m\u001b[0m\n\u001b[1;32m--> 132\u001b[1;33m         \u001b[0ms\u001b[0m \u001b[1;33m=\u001b[0m \u001b[1;34m\"[\"\u001b[0m \u001b[1;33m+\u001b[0m \u001b[0msp_values\u001b[0m\u001b[1;33m(\u001b[0m\u001b[0mtable\u001b[0m\u001b[1;33m.\u001b[0m\u001b[0mX\u001b[0m\u001b[1;33m,\u001b[0m \u001b[0mdomain\u001b[0m\u001b[1;33m.\u001b[0m\u001b[0mattributes\u001b[0m\u001b[1;33m)\u001b[0m\u001b[1;33m\u001b[0m\u001b[0m\n\u001b[0m\u001b[0;32m    133\u001b[0m         \u001b[1;32mif\u001b[0m \u001b[0mdomain\u001b[0m\u001b[1;33m.\u001b[0m\u001b[0mclass_vars\u001b[0m\u001b[1;33m:\u001b[0m\u001b[1;33m\u001b[0m\u001b[0m\n\u001b[0;32m    134\u001b[0m             \u001b[0ms\u001b[0m \u001b[1;33m+=\u001b[0m \u001b[1;34m\" | \"\u001b[0m \u001b[1;33m+\u001b[0m \u001b[0msp_values\u001b[0m\u001b[1;33m(\u001b[0m\u001b[0mtable\u001b[0m\u001b[1;33m.\u001b[0m\u001b[0m_Y\u001b[0m\u001b[1;33m,\u001b[0m \u001b[0mdomain\u001b[0m\u001b[1;33m.\u001b[0m\u001b[0mclass_vars\u001b[0m\u001b[1;33m)\u001b[0m\u001b[1;33m\u001b[0m\u001b[0m\n",
      "\u001b[1;32mC:\\Anaconda\\envs\\py36\\lib\\site-packages\\Orange\\data\\table.py\u001b[0m in \u001b[0;36msp_values\u001b[1;34m(matrix, variables)\u001b[0m\n\u001b[0;32m    115\u001b[0m         \u001b[1;32mdef\u001b[0m \u001b[0msp_values\u001b[0m\u001b[1;33m(\u001b[0m\u001b[0mmatrix\u001b[0m\u001b[1;33m,\u001b[0m \u001b[0mvariables\u001b[0m\u001b[1;33m)\u001b[0m\u001b[1;33m:\u001b[0m\u001b[1;33m\u001b[0m\u001b[0m\n\u001b[0;32m    116\u001b[0m             \u001b[1;32mif\u001b[0m \u001b[1;32mnot\u001b[0m \u001b[0msp\u001b[0m\u001b[1;33m.\u001b[0m\u001b[0missparse\u001b[0m\u001b[1;33m(\u001b[0m\u001b[0mmatrix\u001b[0m\u001b[1;33m)\u001b[0m\u001b[1;33m:\u001b[0m\u001b[1;33m\u001b[0m\u001b[0m\n\u001b[1;32m--> 117\u001b[1;33m                 \u001b[1;32mreturn\u001b[0m \u001b[0mInstance\u001b[0m\u001b[1;33m.\u001b[0m\u001b[0mstr_values\u001b[0m\u001b[1;33m(\u001b[0m\u001b[0mmatrix\u001b[0m\u001b[1;33m[\u001b[0m\u001b[0mrow\u001b[0m\u001b[1;33m]\u001b[0m\u001b[1;33m,\u001b[0m \u001b[0mvariables\u001b[0m\u001b[1;33m,\u001b[0m \u001b[0mlimit\u001b[0m\u001b[1;33m)\u001b[0m\u001b[1;33m\u001b[0m\u001b[0m\n\u001b[0m\u001b[0;32m    118\u001b[0m             \u001b[0mbegptr\u001b[0m\u001b[1;33m,\u001b[0m \u001b[0mendptr\u001b[0m \u001b[1;33m=\u001b[0m \u001b[0mmatrix\u001b[0m\u001b[1;33m.\u001b[0m\u001b[0mindptr\u001b[0m\u001b[1;33m[\u001b[0m\u001b[0mrow\u001b[0m\u001b[1;33m:\u001b[0m\u001b[0mrow\u001b[0m \u001b[1;33m+\u001b[0m \u001b[1;36m2\u001b[0m\u001b[1;33m]\u001b[0m\u001b[1;33m\u001b[0m\u001b[0m\n\u001b[0;32m    119\u001b[0m             \u001b[0mrendptr\u001b[0m \u001b[1;33m=\u001b[0m \u001b[0mendptr\u001b[0m \u001b[1;32mif\u001b[0m \u001b[1;32mnot\u001b[0m \u001b[0mlimit\u001b[0m \u001b[1;32melse\u001b[0m \u001b[0mmin\u001b[0m\u001b[1;33m(\u001b[0m\u001b[0mendptr\u001b[0m\u001b[1;33m,\u001b[0m \u001b[0mbegptr\u001b[0m \u001b[1;33m+\u001b[0m \u001b[1;36m5\u001b[0m\u001b[1;33m)\u001b[0m\u001b[1;33m\u001b[0m\u001b[0m\n",
      "\u001b[1;32mC:\\Anaconda\\envs\\py36\\lib\\site-packages\\Orange\\data\\instance.py\u001b[0m in \u001b[0;36mstr_values\u001b[1;34m(data, variables, limit)\u001b[0m\n\u001b[0;32m    134\u001b[0m         \u001b[1;32mif\u001b[0m \u001b[0mlimit\u001b[0m\u001b[1;33m:\u001b[0m\u001b[1;33m\u001b[0m\u001b[0m\n\u001b[0;32m    135\u001b[0m             s = \", \".join(var.str_val(val)\n\u001b[1;32m--> 136\u001b[1;33m                           for var, val in zip(variables, data[:5]))\n\u001b[0m\u001b[0;32m    137\u001b[0m             \u001b[1;32mif\u001b[0m \u001b[0mlen\u001b[0m\u001b[1;33m(\u001b[0m\u001b[0mdata\u001b[0m\u001b[1;33m)\u001b[0m \u001b[1;33m>\u001b[0m \u001b[1;36m5\u001b[0m\u001b[1;33m:\u001b[0m\u001b[1;33m\u001b[0m\u001b[0m\n\u001b[0;32m    138\u001b[0m                 \u001b[0ms\u001b[0m \u001b[1;33m+=\u001b[0m \u001b[1;34m\", ...\"\u001b[0m\u001b[1;33m\u001b[0m\u001b[0m\n",
      "\u001b[1;32mC:\\Anaconda\\envs\\py36\\lib\\site-packages\\Orange\\data\\instance.py\u001b[0m in \u001b[0;36m<genexpr>\u001b[1;34m(.0)\u001b[0m\n\u001b[0;32m    134\u001b[0m         \u001b[1;32mif\u001b[0m \u001b[0mlimit\u001b[0m\u001b[1;33m:\u001b[0m\u001b[1;33m\u001b[0m\u001b[0m\n\u001b[0;32m    135\u001b[0m             s = \", \".join(var.str_val(val)\n\u001b[1;32m--> 136\u001b[1;33m                           for var, val in zip(variables, data[:5]))\n\u001b[0m\u001b[0;32m    137\u001b[0m             \u001b[1;32mif\u001b[0m \u001b[0mlen\u001b[0m\u001b[1;33m(\u001b[0m\u001b[0mdata\u001b[0m\u001b[1;33m)\u001b[0m \u001b[1;33m>\u001b[0m \u001b[1;36m5\u001b[0m\u001b[1;33m:\u001b[0m\u001b[1;33m\u001b[0m\u001b[0m\n\u001b[0;32m    138\u001b[0m                 \u001b[0ms\u001b[0m \u001b[1;33m+=\u001b[0m \u001b[1;34m\", ...\"\u001b[0m\u001b[1;33m\u001b[0m\u001b[0m\n",
      "\u001b[1;32mC:\\Anaconda\\envs\\py36\\lib\\site-packages\\Orange\\data\\variable.py\u001b[0m in \u001b[0;36mrepr_val\u001b[1;34m(self, val)\u001b[0m\n\u001b[0;32m    642\u001b[0m         \u001b[1;32mif\u001b[0m \u001b[0misnan\u001b[0m\u001b[1;33m(\u001b[0m\u001b[0mval\u001b[0m\u001b[1;33m)\u001b[0m\u001b[1;33m:\u001b[0m\u001b[1;33m\u001b[0m\u001b[0m\n\u001b[0;32m    643\u001b[0m             \u001b[1;32mreturn\u001b[0m \u001b[1;34m\"?\"\u001b[0m\u001b[1;33m\u001b[0m\u001b[0m\n\u001b[1;32m--> 644\u001b[1;33m         \u001b[1;32mreturn\u001b[0m \u001b[1;34m'{}'\u001b[0m\u001b[1;33m.\u001b[0m\u001b[0mformat\u001b[0m\u001b[1;33m(\u001b[0m\u001b[0mself\u001b[0m\u001b[1;33m.\u001b[0m\u001b[0mvalues\u001b[0m\u001b[1;33m[\u001b[0m\u001b[0mint\u001b[0m\u001b[1;33m(\u001b[0m\u001b[0mval\u001b[0m\u001b[1;33m)\u001b[0m\u001b[1;33m]\u001b[0m\u001b[1;33m)\u001b[0m\u001b[1;33m\u001b[0m\u001b[0m\n\u001b[0m\u001b[0;32m    645\u001b[0m \u001b[1;33m\u001b[0m\u001b[0m\n\u001b[0;32m    646\u001b[0m     \u001b[0mstr_val\u001b[0m \u001b[1;33m=\u001b[0m \u001b[0mrepr_val\u001b[0m\u001b[1;33m\u001b[0m\u001b[0m\n",
      "\u001b[1;31mIndexError\u001b[0m: list index out of range"
     ]
    }
   ],
   "source": [
    "Orange.evaluation.testing.sample(credit_orange)"
   ]
  },
  {
   "cell_type": "code",
   "execution_count": null,
   "metadata": {
    "collapsed": false
   },
   "outputs": [],
   "source": [
    "cat_columns = credit.select_dtypes(['category']).columns\n",
    "credit[cat_columns] = credit[cat_columns].apply(lambda x: x.cat.codes)"
   ]
  },
  {
   "cell_type": "code",
   "execution_count": null,
   "metadata": {
    "collapsed": false
   },
   "outputs": [],
   "source": [
    "credit.dtypes"
   ]
  },
  {
   "cell_type": "code",
   "execution_count": null,
   "metadata": {
    "collapsed": false
   },
   "outputs": [],
   "source": [
    "credit['class'] =  credit['class'].astype('category')\n",
    "Orange.data.Table(domain, credit.ix[:,2:len(credit.columns)].values, credit['class'])"
   ]
  },
  {
   "cell_type": "code",
   "execution_count": null,
   "metadata": {
    "collapsed": false
   },
   "outputs": [],
   "source": [
    "s = np.array(credit.values)\n",
    "Orange.data.Table.from_numpy(domain, s)"
   ]
  },
  {
   "cell_type": "code",
   "execution_count": null,
   "metadata": {
    "collapsed": false
   },
   "outputs": [],
   "source": [
    "np.array(credit.values)"
   ]
  },
  {
   "cell_type": "code",
   "execution_count": null,
   "metadata": {
    "collapsed": true
   },
   "outputs": [],
   "source": []
  }
 ],
 "metadata": {
  "kernelspec": {
   "display_name": "Python 3",
   "language": "python",
   "name": "python3"
  },
  "language_info": {
   "codemirror_mode": {
    "name": "ipython",
    "version": 3
   },
   "file_extension": ".py",
   "mimetype": "text/x-python",
   "name": "python",
   "nbconvert_exporter": "python",
   "pygments_lexer": "ipython3",
   "version": "3.5.0"
  }
 },
 "nbformat": 4,
 "nbformat_minor": 0
}
